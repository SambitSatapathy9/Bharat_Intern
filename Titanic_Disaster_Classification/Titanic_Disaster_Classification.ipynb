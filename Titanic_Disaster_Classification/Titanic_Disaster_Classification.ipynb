{
 "cells": [
  {
   "cell_type": "markdown",
   "id": "82d5e322-3bd3-409f-9bb7-28e116f5a855",
   "metadata": {},
   "source": [
    "# Titanic Disaster Survival Classification\n",
    "## Introduction:\n",
    "The dataset about the Titanic disaster, extended with features derived from the Titanic passenger list available as of February 2019, provides valuable insights into the demographics and characteristics of the individuals aboard the ship. This dataset encompasses diverse information, including passenger details such as age, gender, ticket class, cabin, fare, and most notably, whether the individual survived or perished in the disaster."
   ]
  },
  {
   "cell_type": "markdown",
   "id": "f30b163a-ca6e-4c2c-a543-143c57d075a1",
   "metadata": {},
   "source": [
    "<details>\n",
    "<summary> Workflow for Titanic Dataset Analysis</summary>\n",
    "<p>\n",
    "1. **Import Packages:**\n",
    "   - Import necessary Python libraries like pandas, numpy, matplotlib, seaborn, and scikit-learn.\n",
    "\n",
    "2. **Load Train and Test Datasets:**\n",
    "   - Load the Titanic dataset into separate train and test datasets.\n",
    "\n",
    "3. **Visualize the Datasets:**\n",
    "   - Explore and visualize the datasets using histograms, box plots, heatmaps, or other relevant plots to understand data distributions and relationships.\n",
    "\n",
    "4. **Feature Engineering:**\n",
    "   - Perform feature engineering tasks such as handling missing values, encoding categorical variables, creating new features, and scaling features if required.\n",
    "\n",
    "5. **Feature Selection:**\n",
    "   - Select relevant features that contribute most to the predictive model's performance using statistical methods or feature importance techniques.\n",
    "\n",
    "6. **Model Building with Scikit-Learn:**\n",
    "   - Build machine learning models using scikit-learn, including classifiers (e.g., Logistic Regression, Random Forest, etc.) for predicting survival on the Titanic.\n",
    "\n",
    "7. **Conclusion:**\n",
    "   - Conclude the entire analysis process, including code, observations, and insights gained during data exploration, feature engineering, model building, and evaluation.\n",
    "</p>\n",
    "</details>"
   ]
  },
  {
   "cell_type": "markdown",
   "id": "aa3ada0e-8dc3-4258-b0db-b9d275a44e95",
   "metadata": {},
   "source": [
    "### 1. Import Necessary dependencies"
   ]
  },
  {
   "cell_type": "code",
   "execution_count": 1,
   "id": "60645c3d-ef0c-4088-9111-de68f2499be1",
   "metadata": {},
   "outputs": [],
   "source": [
    "#For Data Handling\n",
    "import numpy as np\n",
    "import pandas as pd\n",
    "from summarytools import dfSummary\n",
    "\n",
    "#For Data Visualization\n",
    "import matplotlib.pyplot as plt\n",
    "import seaborn as sns\n",
    "\n",
    "#For Model Building and selection\n",
    "from sklearn.ensemble import RandomForestClassifier\n",
    "from sklearn.linear_model import LogisticRegression\n",
    "from sklearn.tree import DecisionTreeClassifier\n",
    "from sklearn.model_selection import train_test_split\n",
    "from sklearn.metrics import accuracy_score,classification_report,confusion_matrix\n",
    "\n",
    "%matplotlib inline\n",
    "np.set_printoptions(precision=5)"
   ]
  },
  {
   "cell_type": "markdown",
   "id": "aad45f22-a65b-4936-a8f9-326ff22c728f",
   "metadata": {},
   "source": [
    "### 2. Data Exploration (EDA and Data Cleaning) \n",
    "\n",
    "#### 2.1 Loading Train Dataset"
   ]
  },
  {
   "cell_type": "code",
   "execution_count": 2,
   "id": "04abc425-95d3-4332-b404-5b35d86ce207",
   "metadata": {},
   "outputs": [
    {
     "data": {
      "text/html": [
       "<div>\n",
       "<style scoped>\n",
       "    .dataframe tbody tr th:only-of-type {\n",
       "        vertical-align: middle;\n",
       "    }\n",
       "\n",
       "    .dataframe tbody tr th {\n",
       "        vertical-align: top;\n",
       "    }\n",
       "\n",
       "    .dataframe thead th {\n",
       "        text-align: right;\n",
       "    }\n",
       "</style>\n",
       "<table border=\"1\" class=\"dataframe\">\n",
       "  <thead>\n",
       "    <tr style=\"text-align: right;\">\n",
       "      <th></th>\n",
       "      <th>PassengerId</th>\n",
       "      <th>Survived</th>\n",
       "      <th>Pclass</th>\n",
       "      <th>Name</th>\n",
       "      <th>Sex</th>\n",
       "      <th>Age</th>\n",
       "      <th>SibSp</th>\n",
       "      <th>Parch</th>\n",
       "      <th>Ticket</th>\n",
       "      <th>Fare</th>\n",
       "      <th>...</th>\n",
       "      <th>Embarked</th>\n",
       "      <th>WikiId</th>\n",
       "      <th>Name_wiki</th>\n",
       "      <th>Age_wiki</th>\n",
       "      <th>Hometown</th>\n",
       "      <th>Boarded</th>\n",
       "      <th>Destination</th>\n",
       "      <th>Lifeboat</th>\n",
       "      <th>Body</th>\n",
       "      <th>Class</th>\n",
       "    </tr>\n",
       "  </thead>\n",
       "  <tbody>\n",
       "    <tr>\n",
       "      <th>0</th>\n",
       "      <td>1</td>\n",
       "      <td>0.0</td>\n",
       "      <td>3</td>\n",
       "      <td>Braund, Mr. Owen Harris</td>\n",
       "      <td>male</td>\n",
       "      <td>22.0</td>\n",
       "      <td>1</td>\n",
       "      <td>0</td>\n",
       "      <td>A/5 21171</td>\n",
       "      <td>7.2500</td>\n",
       "      <td>...</td>\n",
       "      <td>S</td>\n",
       "      <td>691.0</td>\n",
       "      <td>Braund, Mr. Owen Harris</td>\n",
       "      <td>22.0</td>\n",
       "      <td>Bridgerule, Devon, England</td>\n",
       "      <td>Southampton</td>\n",
       "      <td>Qu'Appelle Valley, Saskatchewan, Canada</td>\n",
       "      <td>NaN</td>\n",
       "      <td>NaN</td>\n",
       "      <td>3.0</td>\n",
       "    </tr>\n",
       "    <tr>\n",
       "      <th>1</th>\n",
       "      <td>2</td>\n",
       "      <td>1.0</td>\n",
       "      <td>1</td>\n",
       "      <td>Cumings, Mrs. John Bradley (Florence Briggs Th...</td>\n",
       "      <td>female</td>\n",
       "      <td>38.0</td>\n",
       "      <td>1</td>\n",
       "      <td>0</td>\n",
       "      <td>PC 17599</td>\n",
       "      <td>71.2833</td>\n",
       "      <td>...</td>\n",
       "      <td>C</td>\n",
       "      <td>90.0</td>\n",
       "      <td>Cumings, Mrs. Florence Briggs (née Thayer)</td>\n",
       "      <td>35.0</td>\n",
       "      <td>New York, New York, US</td>\n",
       "      <td>Cherbourg</td>\n",
       "      <td>New York, New York, US</td>\n",
       "      <td>4</td>\n",
       "      <td>NaN</td>\n",
       "      <td>1.0</td>\n",
       "    </tr>\n",
       "    <tr>\n",
       "      <th>2</th>\n",
       "      <td>3</td>\n",
       "      <td>1.0</td>\n",
       "      <td>3</td>\n",
       "      <td>Heikkinen, Miss. Laina</td>\n",
       "      <td>female</td>\n",
       "      <td>26.0</td>\n",
       "      <td>0</td>\n",
       "      <td>0</td>\n",
       "      <td>STON/O2. 3101282</td>\n",
       "      <td>7.9250</td>\n",
       "      <td>...</td>\n",
       "      <td>S</td>\n",
       "      <td>865.0</td>\n",
       "      <td>Heikkinen, Miss Laina</td>\n",
       "      <td>26.0</td>\n",
       "      <td>Jyväskylä, Finland</td>\n",
       "      <td>Southampton</td>\n",
       "      <td>New York City</td>\n",
       "      <td>14?</td>\n",
       "      <td>NaN</td>\n",
       "      <td>3.0</td>\n",
       "    </tr>\n",
       "    <tr>\n",
       "      <th>3</th>\n",
       "      <td>4</td>\n",
       "      <td>1.0</td>\n",
       "      <td>1</td>\n",
       "      <td>Futrelle, Mrs. Jacques Heath (Lily May Peel)</td>\n",
       "      <td>female</td>\n",
       "      <td>35.0</td>\n",
       "      <td>1</td>\n",
       "      <td>0</td>\n",
       "      <td>113803</td>\n",
       "      <td>53.1000</td>\n",
       "      <td>...</td>\n",
       "      <td>S</td>\n",
       "      <td>127.0</td>\n",
       "      <td>Futrelle, Mrs. Lily May (née Peel)</td>\n",
       "      <td>35.0</td>\n",
       "      <td>Scituate, Massachusetts, US</td>\n",
       "      <td>Southampton</td>\n",
       "      <td>Scituate, Massachusetts, US</td>\n",
       "      <td>D</td>\n",
       "      <td>NaN</td>\n",
       "      <td>1.0</td>\n",
       "    </tr>\n",
       "    <tr>\n",
       "      <th>4</th>\n",
       "      <td>5</td>\n",
       "      <td>0.0</td>\n",
       "      <td>3</td>\n",
       "      <td>Allen, Mr. William Henry</td>\n",
       "      <td>male</td>\n",
       "      <td>35.0</td>\n",
       "      <td>0</td>\n",
       "      <td>0</td>\n",
       "      <td>373450</td>\n",
       "      <td>8.0500</td>\n",
       "      <td>...</td>\n",
       "      <td>S</td>\n",
       "      <td>627.0</td>\n",
       "      <td>Allen, Mr. William Henry</td>\n",
       "      <td>35.0</td>\n",
       "      <td>Birmingham, West Midlands, England</td>\n",
       "      <td>Southampton</td>\n",
       "      <td>New York City</td>\n",
       "      <td>NaN</td>\n",
       "      <td>NaN</td>\n",
       "      <td>3.0</td>\n",
       "    </tr>\n",
       "  </tbody>\n",
       "</table>\n",
       "<p>5 rows × 21 columns</p>\n",
       "</div>"
      ],
      "text/plain": [
       "   PassengerId  Survived  Pclass  \\\n",
       "0            1       0.0       3   \n",
       "1            2       1.0       1   \n",
       "2            3       1.0       3   \n",
       "3            4       1.0       1   \n",
       "4            5       0.0       3   \n",
       "\n",
       "                                                Name     Sex   Age  SibSp  \\\n",
       "0                            Braund, Mr. Owen Harris    male  22.0      1   \n",
       "1  Cumings, Mrs. John Bradley (Florence Briggs Th...  female  38.0      1   \n",
       "2                             Heikkinen, Miss. Laina  female  26.0      0   \n",
       "3       Futrelle, Mrs. Jacques Heath (Lily May Peel)  female  35.0      1   \n",
       "4                           Allen, Mr. William Henry    male  35.0      0   \n",
       "\n",
       "   Parch            Ticket     Fare  ... Embarked WikiId  \\\n",
       "0      0         A/5 21171   7.2500  ...        S  691.0   \n",
       "1      0          PC 17599  71.2833  ...        C   90.0   \n",
       "2      0  STON/O2. 3101282   7.9250  ...        S  865.0   \n",
       "3      0            113803  53.1000  ...        S  127.0   \n",
       "4      0            373450   8.0500  ...        S  627.0   \n",
       "\n",
       "                                    Name_wiki Age_wiki  \\\n",
       "0                     Braund, Mr. Owen Harris     22.0   \n",
       "1  Cumings, Mrs. Florence Briggs (née Thayer)     35.0   \n",
       "2                       Heikkinen, Miss Laina     26.0   \n",
       "3          Futrelle, Mrs. Lily May (née Peel)     35.0   \n",
       "4                    Allen, Mr. William Henry     35.0   \n",
       "\n",
       "                             Hometown      Boarded  \\\n",
       "0          Bridgerule, Devon, England  Southampton   \n",
       "1              New York, New York, US    Cherbourg   \n",
       "2                  Jyväskylä, Finland  Southampton   \n",
       "3         Scituate, Massachusetts, US  Southampton   \n",
       "4  Birmingham, West Midlands, England  Southampton   \n",
       "\n",
       "                               Destination Lifeboat Body Class  \n",
       "0  Qu'Appelle Valley, Saskatchewan, Canada      NaN  NaN   3.0  \n",
       "1                   New York, New York, US        4  NaN   1.0  \n",
       "2                            New York City      14?  NaN   3.0  \n",
       "3              Scituate, Massachusetts, US        D  NaN   1.0  \n",
       "4                            New York City      NaN  NaN   3.0  \n",
       "\n",
       "[5 rows x 21 columns]"
      ]
     },
     "execution_count": 2,
     "metadata": {},
     "output_type": "execute_result"
    }
   ],
   "source": [
    "train = pd.read_csv(\"train.csv\")\n",
    "train.head()"
   ]
  },
  {
   "cell_type": "code",
   "execution_count": 3,
   "id": "13c5f1f7-6a06-4fc7-ab9e-253b612b59ec",
   "metadata": {},
   "outputs": [
    {
     "name": "stdout",
     "output_type": "stream",
     "text": [
      "<class 'pandas.core.frame.DataFrame'>\n",
      "RangeIndex: 891 entries, 0 to 890\n",
      "Data columns (total 21 columns):\n",
      " #   Column       Non-Null Count  Dtype  \n",
      "---  ------       --------------  -----  \n",
      " 0   PassengerId  891 non-null    int64  \n",
      " 1   Survived     891 non-null    float64\n",
      " 2   Pclass       891 non-null    int64  \n",
      " 3   Name         891 non-null    object \n",
      " 4   Sex          891 non-null    object \n",
      " 5   Age          714 non-null    float64\n",
      " 6   SibSp        891 non-null    int64  \n",
      " 7   Parch        891 non-null    int64  \n",
      " 8   Ticket       891 non-null    object \n",
      " 9   Fare         891 non-null    float64\n",
      " 10  Cabin        204 non-null    object \n",
      " 11  Embarked     889 non-null    object \n",
      " 12  WikiId       889 non-null    float64\n",
      " 13  Name_wiki    889 non-null    object \n",
      " 14  Age_wiki     887 non-null    float64\n",
      " 15  Hometown     889 non-null    object \n",
      " 16  Boarded      889 non-null    object \n",
      " 17  Destination  889 non-null    object \n",
      " 18  Lifeboat     345 non-null    object \n",
      " 19  Body         87 non-null     object \n",
      " 20  Class        889 non-null    float64\n",
      "dtypes: float64(6), int64(4), object(11)\n",
      "memory usage: 146.3+ KB\n"
     ]
    }
   ],
   "source": [
    "train.info()"
   ]
  },
  {
   "cell_type": "code",
   "execution_count": 4,
   "id": "534218ae-f6e3-45d9-924e-aa6cfa5e52bd",
   "metadata": {
    "scrolled": true
   },
   "outputs": [
    {
     "data": {
      "text/html": [
       "<style type=\"text/css\">\n",
       "#T_fd559 thead>tr>th {\n",
       "  text-align: left;\n",
       "}\n",
       "#T_fd559_row0_col0, #T_fd559_row1_col0, #T_fd559_row2_col0, #T_fd559_row3_col0, #T_fd559_row4_col0, #T_fd559_row5_col0, #T_fd559_row6_col0, #T_fd559_row7_col0, #T_fd559_row8_col0, #T_fd559_row9_col0, #T_fd559_row10_col0, #T_fd559_row11_col0, #T_fd559_row12_col0, #T_fd559_row13_col0, #T_fd559_row14_col0, #T_fd559_row15_col0, #T_fd559_row16_col0, #T_fd559_row17_col0, #T_fd559_row18_col0, #T_fd559_row19_col0, #T_fd559_row20_col0 {\n",
       "  text-align: left;\n",
       "  font-size: 12px;\n",
       "  vertical-align: middle;\n",
       "  width: 5%;\n",
       "  max-width: 50px;\n",
       "  min-width: 20px;\n",
       "}\n",
       "#T_fd559_row0_col1, #T_fd559_row1_col1, #T_fd559_row2_col1, #T_fd559_row3_col1, #T_fd559_row4_col1, #T_fd559_row5_col1, #T_fd559_row6_col1, #T_fd559_row7_col1, #T_fd559_row8_col1, #T_fd559_row9_col1, #T_fd559_row10_col1, #T_fd559_row11_col1, #T_fd559_row12_col1, #T_fd559_row13_col1, #T_fd559_row14_col1, #T_fd559_row15_col1, #T_fd559_row16_col1, #T_fd559_row17_col1, #T_fd559_row18_col1, #T_fd559_row19_col1, #T_fd559_row20_col1 {\n",
       "  text-align: left;\n",
       "  font-size: 12px;\n",
       "  vertical-align: middle;\n",
       "  width: 15%;\n",
       "  max-width: 200px;\n",
       "  min-width: 100px;\n",
       "  word-break: break-word;\n",
       "}\n",
       "#T_fd559_row0_col2, #T_fd559_row1_col2, #T_fd559_row2_col2, #T_fd559_row3_col2, #T_fd559_row4_col2, #T_fd559_row5_col2, #T_fd559_row6_col2, #T_fd559_row7_col2, #T_fd559_row8_col2, #T_fd559_row9_col2, #T_fd559_row10_col2, #T_fd559_row11_col2, #T_fd559_row12_col2, #T_fd559_row13_col2, #T_fd559_row14_col2, #T_fd559_row15_col2, #T_fd559_row16_col2, #T_fd559_row17_col2, #T_fd559_row18_col2, #T_fd559_row19_col2, #T_fd559_row20_col2 {\n",
       "  text-align: left;\n",
       "  font-size: 12px;\n",
       "  vertical-align: middle;\n",
       "  width: 30%;\n",
       "  min-width: 100px;\n",
       "}\n",
       "#T_fd559_row0_col3, #T_fd559_row1_col3, #T_fd559_row2_col3, #T_fd559_row3_col3, #T_fd559_row4_col3, #T_fd559_row5_col3, #T_fd559_row6_col3, #T_fd559_row7_col3, #T_fd559_row8_col3, #T_fd559_row9_col3, #T_fd559_row10_col3, #T_fd559_row11_col3, #T_fd559_row12_col3, #T_fd559_row13_col3, #T_fd559_row14_col3, #T_fd559_row15_col3, #T_fd559_row16_col3, #T_fd559_row17_col3, #T_fd559_row18_col3, #T_fd559_row19_col3, #T_fd559_row20_col3 {\n",
       "  text-align: left;\n",
       "  font-size: 12px;\n",
       "  vertical-align: middle;\n",
       "  width: 25%;\n",
       "  min-width: 100px;\n",
       "}\n",
       "#T_fd559_row0_col4, #T_fd559_row1_col4, #T_fd559_row2_col4, #T_fd559_row3_col4, #T_fd559_row4_col4, #T_fd559_row5_col4, #T_fd559_row6_col4, #T_fd559_row7_col4, #T_fd559_row8_col4, #T_fd559_row9_col4, #T_fd559_row10_col4, #T_fd559_row11_col4, #T_fd559_row12_col4, #T_fd559_row13_col4, #T_fd559_row14_col4, #T_fd559_row15_col4, #T_fd559_row16_col4, #T_fd559_row17_col4, #T_fd559_row18_col4, #T_fd559_row19_col4, #T_fd559_row20_col4 {\n",
       "  text-align: left;\n",
       "  font-size: 12px;\n",
       "  vertical-align: middle;\n",
       "  width: 20%;\n",
       "  min-width: 150px;\n",
       "}\n",
       "#T_fd559_row0_col5, #T_fd559_row1_col5, #T_fd559_row2_col5, #T_fd559_row3_col5, #T_fd559_row4_col5, #T_fd559_row5_col5, #T_fd559_row6_col5, #T_fd559_row7_col5, #T_fd559_row8_col5, #T_fd559_row9_col5, #T_fd559_row10_col5, #T_fd559_row11_col5, #T_fd559_row12_col5, #T_fd559_row13_col5, #T_fd559_row14_col5, #T_fd559_row15_col5, #T_fd559_row16_col5, #T_fd559_row17_col5, #T_fd559_row18_col5, #T_fd559_row19_col5, #T_fd559_row20_col5 {\n",
       "  text-align: left;\n",
       "  font-size: 12px;\n",
       "  vertical-align: middle;\n",
       "  width: 10%;\n",
       "}\n",
       "</style>\n",
       "<table id=\"T_fd559\">\n",
       "  <caption><strong>Data Frame Summary</strong><br>train<br>Dimensions: 891 x 21<br>Duplicates: 0</caption>\n",
       "  <thead>\n",
       "    <tr>\n",
       "      <th id=\"T_fd559_level0_col0\" class=\"col_heading level0 col0\" >No</th>\n",
       "      <th id=\"T_fd559_level0_col1\" class=\"col_heading level0 col1\" >Variable</th>\n",
       "      <th id=\"T_fd559_level0_col2\" class=\"col_heading level0 col2\" >Stats / Values</th>\n",
       "      <th id=\"T_fd559_level0_col3\" class=\"col_heading level0 col3\" >Freqs / (% of Valid)</th>\n",
       "      <th id=\"T_fd559_level0_col4\" class=\"col_heading level0 col4\" >Graph</th>\n",
       "      <th id=\"T_fd559_level0_col5\" class=\"col_heading level0 col5\" >Missing</th>\n",
       "    </tr>\n",
       "  </thead>\n",
       "  <tbody>\n",
       "    <tr>\n",
       "      <td id=\"T_fd559_row0_col0\" class=\"data row0 col0\" >1</td>\n",
       "      <td id=\"T_fd559_row0_col1\" class=\"data row0 col1\" ><strong>PassengerId</strong><br>[int64]</td>\n",
       "      <td id=\"T_fd559_row0_col2\" class=\"data row0 col2\" >Mean (sd) : 446.0 (257.4)<br>min < med < max:<br>1.0 < 446.0 < 891.0<br>IQR (CV) : 445.0 (1.7)</td>\n",
       "      <td id=\"T_fd559_row0_col3\" class=\"data row0 col3\" >891 distinct values</td>\n",
       "      <td id=\"T_fd559_row0_col4\" class=\"data row0 col4\" ><img src = \"data:image/png;base64, iVBORw0KGgoAAAANSUhEUgAAAKoAAABGCAYAAABc8A97AAAAOXRFWHRTb2Z0d2FyZQBNYXRwbG90bGliIHZlcnNpb24zLjguMiwgaHR0cHM6Ly9tYXRwbG90bGliLm9yZy8g+/7EAAAACXBIWXMAAA9hAAAPYQGoP6dpAAAB8ElEQVR4nO3Xv27aYBhH4ddWikxAtvhTuICO3ZBYuICOvdheBENnhi6d2JCQZYSbqBZ11yxJMVaTnuo8K/x4v+EMSdK2bUj/uvStHyBd4+6tH6D/R5Ikw4gY3Dj/2bbtw3Mf/jHUnsfTiPh147bvnnqb+u5sOp1+KopidMv4dDqVSZJ8eS7WF0NNkmQ4m80+53k+6Xr4crm8q+v6w3g8/p6mafOae+pt6rsjIpqmySLi43q9/jqfz09dtlVVZdvtdnI8HgcR0T3UiBjkeT7ZbDYPRVE8djm+3+8nu93u/Wq1+rZcLssu27576m3qu5/s77MsaxaLxY+u+4gYvvThVX+jFkXx2PV4WZbDiIjRaNR523dPvU1999P93+J//UIwVCEYqhAMVQiGKgRDFYKhCsFQhWCoQjBUIRiqEAxVCIYqBEMVgqEKwVCFYKhCMFQhGKoQDFUIhioEQxWCoQrBUIVgqEIwVCEYqhAMVQiGKgRDFYKhCsFQhWCoQjBUIRiqEAxVCIYqBEMVgqEKwVCFYKhCMFQhGKoQDFUIhioEQxWCoQrBUIVgqEIwVCEYqhAMVQiGKgRDFYKhCsFQhWCoQjBUIRiqEAxVCIYqBEMVwt01X6qqKuv6w+fzOYuIqOs6OxwO96+5p96mvrvv/pq+fgOe9DS+8Np05AAAAABJRU5ErkJggg==\"></img></td>\n",
       "      <td id=\"T_fd559_row0_col5\" class=\"data row0 col5\" >0<br>(0.0%)</td>\n",
       "    </tr>\n",
       "    <tr>\n",
       "      <td id=\"T_fd559_row1_col0\" class=\"data row1 col0\" >2</td>\n",
       "      <td id=\"T_fd559_row1_col1\" class=\"data row1 col1\" ><strong>Survived</strong><br>[float64]</td>\n",
       "      <td id=\"T_fd559_row1_col2\" class=\"data row1 col2\" >1. 0.0<br>2. 1.0</td>\n",
       "      <td id=\"T_fd559_row1_col3\" class=\"data row1 col3\" >549 (61.6%)<br>342 (38.4%)</td>\n",
       "      <td id=\"T_fd559_row1_col4\" class=\"data row1 col4\" ><img src = \"data:image/png;base64, iVBORw0KGgoAAAANSUhEUgAAAJsAAAAuCAYAAAA/ZmtKAAAAOXRFWHRTb2Z0d2FyZQBNYXRwbG90bGliIHZlcnNpb24zLjguMiwgaHR0cHM6Ly9tYXRwbG90bGliLm9yZy8g+/7EAAAACXBIWXMAAA9hAAAPYQGoP6dpAAABNElEQVR4nO3bQWrDMBRF0a9iQjORMAYvJovoYrsI7cYYa9CETNRB9/Ak+u5ZwU+4GBL8Uu89AIUUEfeIuI0+xNi79/4cfYTCsm3bV855HX2Iq9bamVL6dghuyTmvj8fjWUp5jT7GzXVdn7XW9TiOW0T8/9giIkopr33ff0YfY+o++gCVj9EHwAexQYbYIENskCE2yBAbZIgNMsQGGWKDDLFBhtggQ2yQITbIEBtkiA0yS8TfS3yjD3Hk9r0vrbWz1rqG0Ut8M2mtnRHxHn2HAoOX8WwGL4kpH1Tcnmw2T5EZWU35nGZzM7KZ8rnN5mbkNuXjF/dA/KkLGWKDDLFBhtggQ2yQITbIEBtkiA0yxAYZYoMMsUGG2CBDbJAhNsgQG2RspnwOn3F2VlM+p9ncjBi8QOYXCltq37DnnSoAAAAASUVORK5CYII=\"></img></td>\n",
       "      <td id=\"T_fd559_row1_col5\" class=\"data row1 col5\" >0<br>(0.0%)</td>\n",
       "    </tr>\n",
       "    <tr>\n",
       "      <td id=\"T_fd559_row2_col0\" class=\"data row2 col0\" >3</td>\n",
       "      <td id=\"T_fd559_row2_col1\" class=\"data row2 col1\" ><strong>Pclass</strong><br>[int64]</td>\n",
       "      <td id=\"T_fd559_row2_col2\" class=\"data row2 col2\" >Mean (sd) : 2.3 (0.8)<br>min < med < max:<br>1.0 < 3.0 < 3.0<br>IQR (CV) : 1.0 (2.8)</td>\n",
       "      <td id=\"T_fd559_row2_col3\" class=\"data row2 col3\" >3 distinct values</td>\n",
       "      <td id=\"T_fd559_row2_col4\" class=\"data row2 col4\" ><img src = \"data:image/png;base64, iVBORw0KGgoAAAANSUhEUgAAAKoAAABGCAYAAABc8A97AAAAOXRFWHRTb2Z0d2FyZQBNYXRwbG90bGliIHZlcnNpb24zLjguMiwgaHR0cHM6Ly9tYXRwbG90bGliLm9yZy8g+/7EAAAACXBIWXMAAA9hAAAPYQGoP6dpAAABkklEQVR4nO3dUWoiQRiF0apBRF+6EcHFuIhZ7CzC3chQPkzCgPasILE1XWRucs5rW1I2H1IK+tdpmgr873589gZgjtVnb4Cvo9a6LaWsn1z+d5qml7cuCpVF1Fq3+/3+5zAMu2fWXy6X37XWX2/FKlSWsh6GYXc8Hl/GcXx9ZGFrbXM6nXbn83ldShEq/Y3j+Ho4HP48sXT73kUfpoggVCIIlQhCJYJQiSBUIgiVCEIlglCJIFQiCJUIQiWCUIkgVCIIlQhCJYJQiSBUIgiVCEIlglCJIFQiCJUIQiWCUIkgVCIIlQhCJYJQiSBUIgiVCEIlglCJIFQi3P1r9J6TLmCud0PtPekC5rr3jtp10gXMNWsqSq9JFzCX8T0dONcvT6gLc67vQ6jLc67vQKidONcvyxf+RBAqEYRKBKESQahEECoRhEoEoRJBqEQQKhGESgShEkGoRBAqEYRKBKESQahEECoRhEoEoRJBqESY9SvU1trm0SdurW2u1+uqlDLUWh/eWLDhdrutvuE9+9DrvveYf4LcdwKKR7CqAAAAAElFTkSuQmCC\"></img></td>\n",
       "      <td id=\"T_fd559_row2_col5\" class=\"data row2 col5\" >0<br>(0.0%)</td>\n",
       "    </tr>\n",
       "    <tr>\n",
       "      <td id=\"T_fd559_row3_col0\" class=\"data row3 col0\" >4</td>\n",
       "      <td id=\"T_fd559_row3_col1\" class=\"data row3 col1\" ><strong>Name</strong><br>[object]</td>\n",
       "      <td id=\"T_fd559_row3_col2\" class=\"data row3 col2\" >1. Braund, Mr. Owen Harris<br>2. Boulos, Mr. Hanna<br>3. Frolicher-Stehli, Mr. Maxmilli<br>4. Gilinski, Mr. Eliezer<br>5. Murdlin, Mr. Joseph<br>6. Rintamaki, Mr. Matti<br>7. Stephenson, Mrs. Walter Bertra<br>8. Elsbury, Mr. William James<br>9. Bourke, Miss. Mary<br>10. Chapman, Mr. John Henry<br>11. other</td>\n",
       "      <td id=\"T_fd559_row3_col3\" class=\"data row3 col3\" >1 (0.1%)<br>1 (0.1%)<br>1 (0.1%)<br>1 (0.1%)<br>1 (0.1%)<br>1 (0.1%)<br>1 (0.1%)<br>1 (0.1%)<br>1 (0.1%)<br>1 (0.1%)<br>881 (98.9%)</td>\n",
       "      <td id=\"T_fd559_row3_col4\" class=\"data row3 col4\" ><img src = \"data:image/png;base64, iVBORw0KGgoAAAANSUhEUgAAAJsAAAD+CAYAAAAtWHdlAAAAOXRFWHRTb2Z0d2FyZQBNYXRwbG90bGliIHZlcnNpb24zLjguMiwgaHR0cHM6Ly9tYXRwbG90bGliLm9yZy8g+/7EAAAACXBIWXMAAA9hAAAPYQGoP6dpAAADXElEQVR4nO3cwWkbYRRG0TdGOPZGQhhcQtKDi0ixKUJFpAdjPIvY8WaySBYpINwB5ZwK/sWFh2A+Ldu2DRRu9n4A/w+xkREbGbGRERsZsZERGxmxkREbGbGRuVmW5cuyLHd7P4TrdzMzn2fm094P4fo5o2TERkZsZMRGRmxkxEZGbGTERkZsZMRGRmxkxEZGbGTERkZsZMRG5mZmvs/Mz70fwvVb/IsRFWeUjNjIWFeRsa4i44ySERsZsZERGxmxkREbGbGRERsZsZERGxmxkREbGbGRERsZsZExeCFj8ELGGSUjNjIGL2QMXsg4o2TERkZsZMRGRmxkxEZGbGTERkZsZMRGRmxkxEZGbGTERkZsZAxeyBi8kHFGyYiNjNjIWFeRsa4i44ySERsZsZERGxmxkREbGbGRERsZsZERGxmxkREbGbGRERsZsZGxriJjXUXGGSUjNjIGL2QMXsg4o2TERkZsZMRGRmxkxEZGbGTERkZsZMRGRmxkxEZGbGTERkZsZAxeyBi8kHFGyYiNjMELGYMXMs4oGbGRERsZsZERGxmxkREbGbGRERsZsZERGxmxkREbGbGRERsZsZGxriJjXUXGGSUjNjLWVWSsq8g4o2TERkZsZMRGRmxkxEZGbGTERkZsZMRGRmxkxEZGbGTERkZsZAxeyBi8kHFGyYiNjMELGYMXMs4oGbGRERsZsZERGxmxkREbGbGRERsZsZERGxmxkREbGbGRERsZgxcyBi9knFEyYiMjNjLWVWSsq8g4o2TERkZsZMRGRmxkxEZGbGTERkZsZMRGRmxkxEZGbGTERkZsZKyryFhXkXFGyYiNjMELGYMXMs4oGbGRERsZsZERGxmxkREbGbGRERsZsZERGxmxkREbGbGRERsZgxcyBi9knFEyy8zcz8zt3g/hqn1s2/Z2eHh4+Ho8Hs97v4brta7ry7Is3w7H4/H89PT0djqd3vd+FNfn9fX17nK5nJ+fn28PMzOn0+n98fHxx94P42rdz/iBQEhsZMRGRmxkxEZGbGTERkZsZMRGRmxkxEZGbGTERuYw8/szkL0fwnX6u63Duq4vl8vlPH8+A4F/bV3Xl5n58Fk4hY9t296sq8j4gUBGbGTERkZsZMRGRmxkxEZGbGTERuYXwgdpOf758ysAAAAASUVORK5CYII=\"></img></td>\n",
       "      <td id=\"T_fd559_row3_col5\" class=\"data row3 col5\" >0<br>(0.0%)</td>\n",
       "    </tr>\n",
       "    <tr>\n",
       "      <td id=\"T_fd559_row4_col0\" class=\"data row4 col0\" >5</td>\n",
       "      <td id=\"T_fd559_row4_col1\" class=\"data row4 col1\" ><strong>Sex</strong><br>[object]</td>\n",
       "      <td id=\"T_fd559_row4_col2\" class=\"data row4 col2\" >1. male<br>2. female</td>\n",
       "      <td id=\"T_fd559_row4_col3\" class=\"data row4 col3\" >577 (64.8%)<br>314 (35.2%)</td>\n",
       "      <td id=\"T_fd559_row4_col4\" class=\"data row4 col4\" ><img src = \"data:image/png;base64, iVBORw0KGgoAAAANSUhEUgAAAJsAAAAuCAYAAAA/ZmtKAAAAOXRFWHRTb2Z0d2FyZQBNYXRwbG90bGliIHZlcnNpb24zLjguMiwgaHR0cHM6Ly9tYXRwbG90bGliLm9yZy8g+/7EAAAACXBIWXMAAA9hAAAPYQGoP6dpAAABOUlEQVR4nO3bwWnDQBRF0TdBmGSjQQhUjIpIsSlC3QihWcTGm8nCkA78xvN9TwXf+GJso5dqrQIckqQvSZfWh+DfvdZ6bX3EMwzzPH+P4zi1PgQPpZQjpfQTMbhhHMdpXddrzvnW+ph3d57n57Zt077vF0nxYpOknPNtWZbf1sdA0uNrTUgfrQ/A+yA22BAbbIgNNsQGG2KDDbHBhthgQ2ywITbYEBtsiA02xAYbYoMNscFmkB4P7bU+BPHfh6GUcmzbNinwQ3s9KaUcku6t73gGBi+vJ+zgJTHlg0v0T7awnxI9Cj3lizyL61HYKV/0WVyPok/5+IX9QvhTFzbEBhtigw2xwYbYYENssCE22BAbbIgNNsQGG2KDDbHBhthgQ2ywITbYhJ3yRXxNvQs95Ys8i+sRgxfY/AEKW2rfw3Mb/AAAAABJRU5ErkJggg==\"></img></td>\n",
       "      <td id=\"T_fd559_row4_col5\" class=\"data row4 col5\" >0<br>(0.0%)</td>\n",
       "    </tr>\n",
       "    <tr>\n",
       "      <td id=\"T_fd559_row5_col0\" class=\"data row5 col0\" >6</td>\n",
       "      <td id=\"T_fd559_row5_col1\" class=\"data row5 col1\" ><strong>Age</strong><br>[float64]</td>\n",
       "      <td id=\"T_fd559_row5_col2\" class=\"data row5 col2\" >Mean (sd) : 29.7 (14.5)<br>min < med < max:<br>0.4 < 28.0 < 80.0<br>IQR (CV) : 17.9 (2.0)</td>\n",
       "      <td id=\"T_fd559_row5_col3\" class=\"data row5 col3\" >88 distinct values</td>\n",
       "      <td id=\"T_fd559_row5_col4\" class=\"data row5 col4\" ><img src = \"data:image/png;base64, iVBORw0KGgoAAAANSUhEUgAAAKoAAABGCAYAAABc8A97AAAAOXRFWHRTb2Z0d2FyZQBNYXRwbG90bGliIHZlcnNpb24zLjguMiwgaHR0cHM6Ly9tYXRwbG90bGliLm9yZy8g+/7EAAAACXBIWXMAAA9hAAAPYQGoP6dpAAACg0lEQVR4nO3dQY7aMBSA4edmQAGkRIgKdlygUhcsOUQP2yMUiRNwA3ZIURRESkQI6abTTWcY4iTFz/2/vYUXvyAxtmzquhbAdZ+ePQHgES/PnsA9xpiRiAwth1/quj53OR88j7OhGmNGs9nsWxRFU5vxx+MxNcZ8J1Y/OBuqiAyjKJqu1+tzHMdFk4FZloXb7XaaJMlQRAjVAy6HKiIicRwX8/n8Z9NxVVVFIhIZY2w/mkcHhzgfqo08zwdlWX5dLpdBEASNvo1f8ejgFi9DvVwuL2EYjlerVbFYLNKm43l0cI+Xob6aTCZWjw2/jTqdDFphHRUqECpUIFSoQKhQgVChAqFCBUKFCoQKFQgVKhAqVCBUqECoUIFQoQKhQgVChQqEChW83jjdRlVVA7E/c8V5q44R6hvanrnivFX3CPUNbc5ccd6qH4R6R4szV5y36hgvU1CBUKECoUIFQoUKhAoVCBUqECpUIFSoQKhQgVChAqFCBUKFCoQKFQgVKrDNrwecDugeoXaM0wH9INSOcTqgH4TaE04HdIuXKahAqFDhw59+riKHC+6GylXkcMVH36hcRQ4nPPTW/6SryKPb7TawGahZyz8LRDx93OpteartwndZlmFVVV+KovghIrYX76rC9e3v6y3UtleR7/f76W63G1+v16CP+bmI69vf1/uCv+3Cd5qm/+3CN9e3/411VKhAqFCBUKECoUIFdk95xtdN24TqEZ83bROqR3zetE2oHvJx0zYvU1CBUKECP/34w+WdW4QKEXF/5xahQkS62bm12WzmSZJ8NsYcbaZwL/CHQs2yLGz6qafTKRQRyfM8PBwO4385XutnuzBvW+fzudc13F+aMrK5pmPjbQAAAABJRU5ErkJggg==\"></img></td>\n",
       "      <td id=\"T_fd559_row5_col5\" class=\"data row5 col5\" >177<br>(19.9%)</td>\n",
       "    </tr>\n",
       "    <tr>\n",
       "      <td id=\"T_fd559_row6_col0\" class=\"data row6 col0\" >7</td>\n",
       "      <td id=\"T_fd559_row6_col1\" class=\"data row6 col1\" ><strong>SibSp</strong><br>[int64]</td>\n",
       "      <td id=\"T_fd559_row6_col2\" class=\"data row6 col2\" >Mean (sd) : 0.5 (1.1)<br>min < med < max:<br>0.0 < 0.0 < 8.0<br>IQR (CV) : 1.0 (0.5)</td>\n",
       "      <td id=\"T_fd559_row6_col3\" class=\"data row6 col3\" >7 distinct values</td>\n",
       "      <td id=\"T_fd559_row6_col4\" class=\"data row6 col4\" ><img src = \"data:image/png;base64, iVBORw0KGgoAAAANSUhEUgAAAKoAAABGCAYAAABc8A97AAAAOXRFWHRTb2Z0d2FyZQBNYXRwbG90bGliIHZlcnNpb24zLjguMiwgaHR0cHM6Ly9tYXRwbG90bGliLm9yZy8g+/7EAAAACXBIWXMAAA9hAAAPYQGoP6dpAAACV0lEQVR4nO3dP2/aQBjH8ecphNpAbf4ksLGyMTCydOqaF5u1O4yId4GQUABBoVBEl6aqVKngc0n4Rd/P7Ltj+NqWJU7np9PJgFv34a1/AHCJ4rkL3D02s1Lg/PvT6bQNHAv89s9Q3T1uNpuPSZLUQyZfrVbP7v5ErMjr3BO1lCRJfTAYbNM03WWZeLlcRsPhsD6fz0tmRqjI5eyr38wsTdNdq9X6FjB/HDAG+AsfU5BAqJBAqJBAqJBAqJBAqJBAqJBAqJBAqJBAqJBAqJBAqJBAqJBAqJBAqJBAqJBAqJBAqJBAqJBAqJBAqJBAqJBAqJBAqJBAqJBAqJBAqJBAqJBAqJBAqJBAqJBAqJBAqJBAqJBAqJBAqJBAqJBAqJBAqJBAqJBw0YFooY7H452ZJe4eOgVnqcLMrhjqZrO5OxwOvU6nUygUCpmOp3zBWap4cbVQ9/t9MYqicr/f37Xb7ees4zlLFX+66qvfzKxSqYSeo2rGWar4hY8pSCBUSCBUSCBUSCBUSCBUSCBUSCBUSCBUSCBUSCBUSCBUSCBUSCBUSCBUSCBUSLj6H6fzyLnniv1W78jNhpp3z9VisVi7+1czC9qvZTlCd/fYzEqvve57drOh5tlzNZ1OP41Go8+dTuf+tTcWunvcbDYfkySph6z7ljdYXte8QS8KdblcRllXXa/XkZnZZrOJZrNZOXR8iMPhUIyiqNztdr1Wq33POn673X4cj8cP8/n83t1XGYcn1Wr1odfr/YjjONPai8WiOplMct1g/yH0UFGj0fiSpmk1ZPC5B8NPA03CGsgjbMwAAAAASUVORK5CYII=\"></img></td>\n",
       "      <td id=\"T_fd559_row6_col5\" class=\"data row6 col5\" >0<br>(0.0%)</td>\n",
       "    </tr>\n",
       "    <tr>\n",
       "      <td id=\"T_fd559_row7_col0\" class=\"data row7 col0\" >8</td>\n",
       "      <td id=\"T_fd559_row7_col1\" class=\"data row7 col1\" ><strong>Parch</strong><br>[int64]</td>\n",
       "      <td id=\"T_fd559_row7_col2\" class=\"data row7 col2\" >Mean (sd) : 0.4 (0.8)<br>min < med < max:<br>0.0 < 0.0 < 6.0<br>IQR (CV) : 0.0 (0.5)</td>\n",
       "      <td id=\"T_fd559_row7_col3\" class=\"data row7 col3\" >7 distinct values</td>\n",
       "      <td id=\"T_fd559_row7_col4\" class=\"data row7 col4\" ><img src = \"data:image/png;base64, iVBORw0KGgoAAAANSUhEUgAAAKoAAABGCAYAAABc8A97AAAAOXRFWHRTb2Z0d2FyZQBNYXRwbG90bGliIHZlcnNpb24zLjguMiwgaHR0cHM6Ly9tYXRwbG90bGliLm9yZy8g+/7EAAAACXBIWXMAAA9hAAAPYQGoP6dpAAACHUlEQVR4nO3aQW7iMBiG4d8DjZIiOYoihR1HmAXLHKKH7SFyGKQIOYJCQcGzm81ohmJA5WPeZ41/vHhF7AgXYzTg0f347g0AXzE99wHnXGFmWeL8Q4xxl7gW+O2foTrnirqu37z3VcrwYRjWzrl3YsW1zv2iZt77qm3bXVmW+0sGhxDyruuqvu8zMyNUXOXso9/MrCzLfdM0Hwnzi4Q1wB+4TEECoUICoUICoUICoUICoUICoUICoUICoUICoUICoUICoUICoUICoUICoUICoUICoUICoUICoUICoUICoUICoUICoUICoUICoUICoUICoUICoUICoUICoUICoUICoUICoUICoUICoUICoUICoUICoUICoUICoUICoUICoUICoUICoUICoUICoUICoUICoUICoUICoUICoULC9J7Dx3F8MTPvnEsdcYgx7m64JYi6W6jb7fbleDz+XCwWk8lksk+ZMQzD2jn3Tqy4W6iHw2Ga5/nrcrncz+fz9aXrQwh513VV3/eZmRHqf+6uj34zs9lstm+a5iNxeXHTzUDW3UP9Ls65wsyyK0ZwPn4gTxmqc66o6/rNe1+lzuB8/FieMlQzy7z3Vdu2u7IsL77IcT5+PM8aqpmZlWXJ+fhJ8MIfEggVEggVEggVEr50mQoh5JcO3mw2uZnZdrvNV6vV66XrQwj5OI5TS/uvgD+dTtOUfd/gu5HmM8b41zc0vwBqi4gOa6JqKQAAAABJRU5ErkJggg==\"></img></td>\n",
       "      <td id=\"T_fd559_row7_col5\" class=\"data row7 col5\" >0<br>(0.0%)</td>\n",
       "    </tr>\n",
       "    <tr>\n",
       "      <td id=\"T_fd559_row8_col0\" class=\"data row8 col0\" >9</td>\n",
       "      <td id=\"T_fd559_row8_col1\" class=\"data row8 col1\" ><strong>Ticket</strong><br>[object]</td>\n",
       "      <td id=\"T_fd559_row8_col2\" class=\"data row8 col2\" >1. 347082<br>2. CA. 2343<br>3. 1601<br>4. 3101295<br>5. CA 2144<br>6. 347088<br>7. S.O.C. 14879<br>8. 382652<br>9. LINE<br>10. PC 17757<br>11. other</td>\n",
       "      <td id=\"T_fd559_row8_col3\" class=\"data row8 col3\" >7 (0.8%)<br>7 (0.8%)<br>7 (0.8%)<br>6 (0.7%)<br>6 (0.7%)<br>6 (0.7%)<br>5 (0.6%)<br>5 (0.6%)<br>4 (0.4%)<br>4 (0.4%)<br>834 (93.6%)</td>\n",
       "      <td id=\"T_fd559_row8_col4\" class=\"data row8 col4\" ><img src = \"data:image/png;base64, iVBORw0KGgoAAAANSUhEUgAAAJsAAAD+CAYAAAAtWHdlAAAAOXRFWHRTb2Z0d2FyZQBNYXRwbG90bGliIHZlcnNpb24zLjguMiwgaHR0cHM6Ly9tYXRwbG90bGliLm9yZy8g+/7EAAAACXBIWXMAAA9hAAAPYQGoP6dpAAADfUlEQVR4nO3cPW4TUQBG0efIikgzlmXJi/EislgW4d1YlqcgUZqhIDQUYP6uhTmnoqCY4mo8PL2P1bIsAwoPt34A/h9iIyM2MmIjIzYyYiMjNjJiIyM2MqsxxtMYYyzL8nLjZ+HOrXe73fMYY6xWq4+C4296mKZpO03TdozxeOuH4b75ZiMjNjJiIyM2MmIjIzYyYiMjNjJiIyM2MmIjIzYyYiMjNjJiIyM2Mut5ns/vf3676ZNw92wQyKz8l1lUvNnIWFeRsa4i4+iDjNjIiI2M2MiIjYzYyIiNjNjIiI2M2MiIjYzYyIiNjNjIiI2MwQsZ18LJGLyQ8WYjY/BCxuCFjKMPMmIjIzYyYiMjNjJiIyM2MmIjIzYyYiMjNjJiIyM2MmIjIzYyBi9kXAsnY/BCxjcbGT+jZKyryFhXkfHNRkZsZMRGRmxkxEZGbGTERkZsZMRGRmxkxEZGbGTERkZsZMRGxrqKjGvhZKyryHizkTF4IWPwQsbRBxmxkREbGbGRERsZsZERGxmxkREbGbGRERsZsZERGxmxkREbGYMXMq6FkzF4IePNRsbghYzBCxlHH2TERkZsZMRGRmxkxEZGbGTERkZsZMRGRmxkxEZGbGTERkZsZMRGxrqKjA0CGesqMt5sZKyryFhXkXH0QUZsZMRGRmxkxEZGbGTERkZsZMRGRmxkxEZGbGTERkZsZMRGxuCFjGvhZAxeyHizkTF4IWPwQsbRBxmxkREbGbGRERsZsZERGxmxkREbGbGRERsZsZERGxmxkREbGYMXMq6FkzF4IeObjYyfUTLWVWSsq8j4ZiMjNjJiIyM2MmIjIzYyYiMjNjJiIyM2MmIjIzYyYiMjNjJiI2NdRca1cDLWVWS82cgYvJAxeCHj6IOM2MiIjYzYyIiNjNjIiI2M2MiIjYzYyIiNjNjIiI2M2MiIjYzBCxnXwskYvJD5+mZzJZzf8XbNL+N6t9s9v28Q4JfM83y+ZjC1nqZpezgcXjabzWv1cNyPy+Xy4Xg8bk+n0+MY4/uxjTHGZrN53e/3n5Kn4x49XfOXnLORERsZsZERGxmxkREbGbGRERsZsZERGxmxkREbGbGRWY/x5ZrIrR+Ef9PPtLOe5/l8PB6348prIvCt99HUDwdTroXzJ1x1LdzghYx/IJARGxmxkREbGbGRERsZsZERGxmxkfkMN8cQJ9LzEfAAAAAASUVORK5CYII=\"></img></td>\n",
       "      <td id=\"T_fd559_row8_col5\" class=\"data row8 col5\" >0<br>(0.0%)</td>\n",
       "    </tr>\n",
       "    <tr>\n",
       "      <td id=\"T_fd559_row9_col0\" class=\"data row9 col0\" >10</td>\n",
       "      <td id=\"T_fd559_row9_col1\" class=\"data row9 col1\" ><strong>Fare</strong><br>[float64]</td>\n",
       "      <td id=\"T_fd559_row9_col2\" class=\"data row9 col2\" >Mean (sd) : 32.2 (49.7)<br>min < med < max:<br>0.0 < 14.5 < 512.3<br>IQR (CV) : 23.1 (0.6)</td>\n",
       "      <td id=\"T_fd559_row9_col3\" class=\"data row9 col3\" >248 distinct values</td>\n",
       "      <td id=\"T_fd559_row9_col4\" class=\"data row9 col4\" ><img src = \"data:image/png;base64, iVBORw0KGgoAAAANSUhEUgAAAKoAAABGCAYAAABc8A97AAAAOXRFWHRTb2Z0d2FyZQBNYXRwbG90bGliIHZlcnNpb24zLjguMiwgaHR0cHM6Ly9tYXRwbG90bGliLm9yZy8g+/7EAAAACXBIWXMAAA9hAAAPYQGoP6dpAAACKklEQVR4nO3Zu47aUBRG4b25yQzIFiCZjiZ9Ckr6tHnYadP7LfICSBbYwgMBOSdFpDS5MBxA4Z9ZX83eGGkJm4OHEAx4dJ3/fQHAa/TOvcDdh2Y2iNx/DCHsI2eBX/4ZqrsPZ7PZ5zRNJzHL67reuPszseJa575RB2maTlar1T7LssMli6uqSoqimJRlOTAzQsVVzt76zcyyLDvkef4SsX8YMQP8hh9TkECokECokECokECokECokECokECokECokECokECokECokECokECokECokECokECokECokECokECokECokECokECokECokECokECokECokECokECokECokECokECokECokECokECokECokECokECokECokECokECokECokECokECokECokECokECokECokECokECokECokECokECokNC75/K2bftmlrp77IpjCGF/w0uCqLuF2jRN/3Q6fVwsFt1ut3uI2VHX9cbdn4kVdwv1eDz2kiR5Wi6Xh/l8vrl0vqqqpCiKSVmWAzMj1Hfurrd+M7PRaHTI8/wlcnx404uBLH5MQQKhQgKhQsLdn1GvceXxFkdbb8jDhnrt8RZHW2/Lw4Z6zfHWLY623H1oZoOYWfv5SPU9cpY7wR+8KtSqqpJLF+92u8TMrGmaZL1eP8XOx2rbtmfxjw3JdDr9lGXZOOJ9+03TfBiPx187nc7p0vntdrtz9y9mFvUnibBvIYS/fuYfog+acM55WAYAAAAASUVORK5CYII=\"></img></td>\n",
       "      <td id=\"T_fd559_row9_col5\" class=\"data row9 col5\" >0<br>(0.0%)</td>\n",
       "    </tr>\n",
       "    <tr>\n",
       "      <td id=\"T_fd559_row10_col0\" class=\"data row10 col0\" >11</td>\n",
       "      <td id=\"T_fd559_row10_col1\" class=\"data row10 col1\" ><strong>Cabin</strong><br>[object]</td>\n",
       "      <td id=\"T_fd559_row10_col2\" class=\"data row10 col2\" >1. nan<br>2. C23 C25 C27<br>3. G6<br>4. B96 B98<br>5. C22 C26<br>6. D<br>7. F33<br>8. E101<br>9. F2<br>10. B20<br>11. other</td>\n",
       "      <td id=\"T_fd559_row10_col3\" class=\"data row10 col3\" >687 (77.1%)<br>4 (0.4%)<br>4 (0.4%)<br>4 (0.4%)<br>3 (0.3%)<br>3 (0.3%)<br>3 (0.3%)<br>3 (0.3%)<br>3 (0.3%)<br>2 (0.2%)<br>175 (19.6%)</td>\n",
       "      <td id=\"T_fd559_row10_col4\" class=\"data row10 col4\" ><img src = \"data:image/png;base64, iVBORw0KGgoAAAANSUhEUgAAAJsAAAD+CAYAAAAtWHdlAAAAOXRFWHRTb2Z0d2FyZQBNYXRwbG90bGliIHZlcnNpb24zLjguMiwgaHR0cHM6Ly9tYXRwbG90bGliLm9yZy8g+/7EAAAACXBIWXMAAA9hAAAPYQGoP6dpAAAD+klEQVR4nO3dwU0jaRhF0c/IYmBjy7JECDM5OAiC7SAcxOSAELVoGDbMoiEDuGXBOQn4l/qqXJTqtTdvb28Dhau1D8DPITYyYiMjNjJiIyM2MmIjIzYyYiOzmZnbmble+yB8mde3t7fntQ8xM7M9Ho/3u93usPZB+BrLsjxuNptflxDcdrfbHU6n0/N+v39Z+zB8rqenp5vz+Xx4eHi4npn1Y5uZ2e/3L3d3d7/XPgxf4nbtA3zwBwIZsZERGxmxkREbGbGRERsZsZERGxmxkREbGbGRERsZsZHZzvx572ntg/D5Lu3fdbssy+P5fD7MBb33xOdZluVxZl7XPseMDcJPcDEbhI3/MovKx5VtLqV+vq/t8Xi8n5m5lAUO39fVbrc7vE/53LfxpTxnIyM2MmIjIzYyYiMjNjJiIyM2MmIjIzYyYiMjNjJiIyM2MmIjs30fRMxcyCiC78tr4WQMXsi4spExeCFj8ELGow8yYiMjNjJiIyM2MmIjIzYyYiMjNjJiIyM2MmIjIzYyYiMjNjIGL2S8Fk7G4IWMezYyvkbJWFeRsa4i456NjNjIiI2M2MiIjYzYyIiNjNjIiI2M2MiIjYzYyIiNjNjIiI2MdRUZr4WTsa4i48pGxuCFjMELGY8+yIiNjNjIiI2M2MiIjYzYyIiNjNjIiI2M2MiIjYzYyIiNjNjIGLyQ8Vo4GYMXMq5sZAxeyBi8kPHog4zYyIiNjNjIiI2M2MiIjYzYyIiNjNjIiI2M2MiIjYzYyIiNjNjIWFeRsUEgY11FxpWNjHUVGesqMh59kBEbGbGRERsZsZERGxmxkREbGbGRERsZsZERGxmxkREbGbGRMXgh47VwMgYvZFzZyBi8kDF4IePRBxmxkREbGbGRERsZsZERGxmxkREbGbGRERsZsZERGxmxkREbGYMXMl4LJ2PwQsY9Gxlfo2Ssq8hYV5Fxz0ZGbGTERkZsZMRGRmxkxEZGbGTERkZsZMRGRmxkxEZGbGTERsa6iozXwslYV5Fxz0bmarPZ/LPZbG7WPgjf39XM/D0zf619EL4/X6NkxEZGbGTERkZsZMRGRmxkxEZGbGTERkZsZMRGRmxkxEZGbGSuZubfmflv7YPw/dkgkPE1SuZjyrfGbyC8mg/+LNvj8Xj//qMbqWVZHv2qzM+y3e12h9Pp9Lzf71+qD316ero5n8+Hh4eH65kR2w+xnZnZ7/cvd3d3v+PPvo0/j5X5A4GM2MiIjYzYyIiNjNjIiI2M2MiIjYzYyIiNjNjIiI3MdubPKz/lh9afx2XYLsvyeD6fDxO/8vP+yzJ+VeYH8Vo4GesqMv5AICM2MmIjIzYyYiMjNjJiIyM2MmIj8z92GB/TLz5SvAAAAABJRU5ErkJggg==\"></img></td>\n",
       "      <td id=\"T_fd559_row10_col5\" class=\"data row10 col5\" >687<br>(77.1%)</td>\n",
       "    </tr>\n",
       "    <tr>\n",
       "      <td id=\"T_fd559_row11_col0\" class=\"data row11 col0\" >12</td>\n",
       "      <td id=\"T_fd559_row11_col1\" class=\"data row11 col1\" ><strong>Embarked</strong><br>[object]</td>\n",
       "      <td id=\"T_fd559_row11_col2\" class=\"data row11 col2\" >1. S<br>2. C<br>3. Q<br>4. nan</td>\n",
       "      <td id=\"T_fd559_row11_col3\" class=\"data row11 col3\" >644 (72.3%)<br>168 (18.9%)<br>77 (8.6%)<br>2 (0.2%)</td>\n",
       "      <td id=\"T_fd559_row11_col4\" class=\"data row11 col4\" ><img src = \"data:image/png;base64, iVBORw0KGgoAAAANSUhEUgAAAJsAAABcCAYAAAB5jMeAAAAAOXRFWHRTb2Z0d2FyZQBNYXRwbG90bGliIHZlcnNpb24zLjguMiwgaHR0cHM6Ly9tYXRwbG90bGliLm9yZy8g+/7EAAAACXBIWXMAAA9hAAAPYQGoP6dpAAAB+ElEQVR4nO3bsW3bYBSF0UdBcOKGhCBAIyQ7aIgMmyE4RHYQBLGIHTdMkSKtSCj3D+1zJniAP0imwNvN81yQsGt9AB+H2Ijpquq5qp5aH8Jqb/M8v7Q+4h774/H4re/7Q+tDWGeapmvXdd+3ENy+7/vD+Xx+GYbhtfUxLHO73T6P43i4XC5PVfX/x1ZVNQzD6+l0+tn6GFZ5bn3AvTwgECM2YsRGjNiIERsxYiNGbMSIjRixESM2YsRGjNiIERsx+6o/r6q0PoTltvZ320/TdB3H8VAbelWFv6ZpulbVW+s77uG18O3bzGvhnSkfKR4QiGn1NbqZj34ep8m6akuLIB4nvq7a2iKIx2m1rvIzywfkAYEYsREjNmLERozYiBEbMWIjRmzEiI0YsREjNmLERozYiBEbMfEp39bmZzxOkynfluZnPI4NAjGmfMSs/WTzycRiq9ZV1lGssXhdZR3FWmvXVdZRLOZHXWLERozYiBEbMWIjRmzEiI0YsREjNmLERozYiBEbMWIjRmzELF5XWUex1qp1lXUUa9ggEGNdRYwHBGJ2Xdd97brOP/38c7uq+lJVn1ofwvvna5QYsREjNmLERozYiBEbMWIjRmzEiI0YsREjNmLERozYiBEbMWIjRmzE7KrqR1X9an0I75/BCzG+RokRGzG/AT4QqKndx64EAAAAAElFTkSuQmCC\"></img></td>\n",
       "      <td id=\"T_fd559_row11_col5\" class=\"data row11 col5\" >2<br>(0.2%)</td>\n",
       "    </tr>\n",
       "    <tr>\n",
       "      <td id=\"T_fd559_row12_col0\" class=\"data row12 col0\" >13</td>\n",
       "      <td id=\"T_fd559_row12_col1\" class=\"data row12 col1\" ><strong>WikiId</strong><br>[float64]</td>\n",
       "      <td id=\"T_fd559_row12_col2\" class=\"data row12 col2\" >Mean (sd) : 665.5 (380.8)<br>min < med < max:<br>1.0 < 672.0 < 1314.0<br>IQR (CV) : 660.0 (1.7)</td>\n",
       "      <td id=\"T_fd559_row12_col3\" class=\"data row12 col3\" >889 distinct values</td>\n",
       "      <td id=\"T_fd559_row12_col4\" class=\"data row12 col4\" ><img src = \"data:image/png;base64, iVBORw0KGgoAAAANSUhEUgAAAKoAAABGCAYAAABc8A97AAAAOXRFWHRTb2Z0d2FyZQBNYXRwbG90bGliIHZlcnNpb24zLjguMiwgaHR0cHM6Ly9tYXRwbG90bGliLm9yZy8g+/7EAAAACXBIWXMAAA9hAAAPYQGoP6dpAAACbUlEQVR4nO3aS67aMBiG4d/lFi5KhJBgxgYqdcAwi+hiu4QzYAXsgNmREAoiPYhbOqJSJ0DiUOdD7zPGsUVeLPvouKIoDGi6b6EXADyjHXoB+Jdzrm9mXY9HHIui+KprPU1BqA3inOtPJpOfcRyPqz5jt9ttnXO/3i1WQm2WbhzH4zRNv5IkOZQdnGVZtFwux5vNpmtmhIrXSpLkMJ1Of1cc3q91MQ1BqKiN5/n67tmaUFEL3/P1o7P1S0MNeYMVnTu+Xq+dKnPWwfM7i0ej0TRN013Z8/UzZ+uXhRryBqs69+l0ii6Xy/fD4fBhZlXPqJX4fme3tfd6vY+K5+u7Z+uHofrsDlV/YWbeN9iQt+fKc6/X6/FqtRqcz+dWyTn/ulwuHTOLnXNlh3q9rzrWfs/dUOvYHTx+YWaeN9iQt+cqc2+3W6858zzvnE6nH/P5vNVqtUrF5vu+fNf+yKMdNejuEJLPzhTqnHk8HttRFA0Wi8VhNptty4xt+vt66owaYncwCxdLHTtTiHPmzXA4DPK+Xqmxf54KGcs770yqGhtqE2J5x51JVWNDvSEWmPH/qBBBqJBAqJBAqJBAqJBAqJBAqJBAqJBAqJBAqJBAqJBAqJBAqJBAqJBAqJBAqJBAqJBAqJBAqJBAqJBAqJBAqJBAqJBAqJBAqJBAqJBAqJBAqJBAqJBAqJBAqJBAqJBAqJBAqJBAqJBAqJBAqJBAqJBAqJBAqJBAqJBAqJBAqJBAqJBAqJBAqJBAqJBAqJBAqJBAqJBAqJBAqJDQfuZDWZZFZR+83+8jM7M8z6PPz8/B/xyvOrfqun3HP9PXH++EkP/nGgSaAAAAAElFTkSuQmCC\"></img></td>\n",
       "      <td id=\"T_fd559_row12_col5\" class=\"data row12 col5\" >2<br>(0.2%)</td>\n",
       "    </tr>\n",
       "    <tr>\n",
       "      <td id=\"T_fd559_row13_col0\" class=\"data row13 col0\" >14</td>\n",
       "      <td id=\"T_fd559_row13_col1\" class=\"data row13 col1\" ><strong>Name_wiki</strong><br>[object]</td>\n",
       "      <td id=\"T_fd559_row13_col2\" class=\"data row13 col2\" >1. nan<br>2. Braund, Mr. Owen Harris<br>3. Hanna, Mr. Bulus<br>4. Frölicher, Mr. Maximilian Jose<br>5. Gilinski, Mr. Eliezer<br>6. Murdlin, Mr. Joseph<br>7. Rintamäki, Mr. Matti<br>8. Stephenson, Mrs. Martha (née E<br>9. Elsbury, Mr. William James<br>10. Bourke, Miss Mary<br>11. other</td>\n",
       "      <td id=\"T_fd559_row13_col3\" class=\"data row13 col3\" >2 (0.2%)<br>1 (0.1%)<br>1 (0.1%)<br>1 (0.1%)<br>1 (0.1%)<br>1 (0.1%)<br>1 (0.1%)<br>1 (0.1%)<br>1 (0.1%)<br>1 (0.1%)<br>880 (98.8%)</td>\n",
       "      <td id=\"T_fd559_row13_col4\" class=\"data row13 col4\" ><img src = \"data:image/png;base64, iVBORw0KGgoAAAANSUhEUgAAAJsAAAD+CAYAAAAtWHdlAAAAOXRFWHRTb2Z0d2FyZQBNYXRwbG90bGliIHZlcnNpb24zLjguMiwgaHR0cHM6Ly9tYXRwbG90bGliLm9yZy8g+/7EAAAACXBIWXMAAA9hAAAPYQGoP6dpAAADXElEQVR4nO3cwWkbYRRG0TdGOPZGQhhcQtKDi0ixKUJFpAdjPIvY8WaySBYpINwB5ZwK/sWFh2A+Ldu2DRRu9n4A/w+xkREbGbGRERsZsZERGxmxkREbGbGRuVmW5cuyLHd7P4TrdzMzn2fm094P4fo5o2TERkZsZMRGRmxkxEZGbGTERkZsZMRGRmxkxEZGbGTERkZsZMRG5mZmvs/Mz70fwvVb/IsRFWeUjNjIWFeRsa4i44ySERsZsZERGxmxkREbGbGRERsZsZERGxmxkREbGbGRERsZsZExeCFj8ELGGSUjNjIGL2QMXsg4o2TERkZsZMRGRmxkxEZGbGTERkZsZMRGRmxkxEZGbGTERkZsZAxeyBi8kHFGyYiNjNjIWFeRsa4i44ySERsZsZERGxmxkREbGbGRERsZsZERGxmxkREbGbGRERsZsZGxriJjXUXGGSUjNjIGL2QMXsg4o2TERkZsZMRGRmxkxEZGbGTERkZsZMRGRmxkxEZGbGTERkZsZAxeyBi8kHFGyYiNjMELGYMXMs4oGbGRERsZsZERGxmxkREbGbGRERsZsZERGxmxkREbGbGRERsZsZGxriJjXUXGGSUjNjLWVWSsq8g4o2TERkZsZMRGRmxkxEZGbGTERkZsZMRGRmxkxEZGbGTERkZsZAxeyBi8kHFGyYiNjMELGYMXMs4oGbGRERsZsZERGxmxkREbGbGRERsZsZERGxmxkREbGbGRERsZgxcyBi9knFEyYiMjNjLWVWSsq8g4o2TERkZsZMRGRmxkxEZGbGTERkZsZMRGRmxkxEZGbGTERkZsZKyryFhXkXFGyYiNjMELGYMXMs4oGbGRERsZsZERGxmxkREbGbGRERsZsZERGxmxkREbGbGRERsZgxcyBi9knFEyy8zcz8zt3g/hqn1s2/Z2eHh4+Ho8Hs97v4brta7ry7Is3w7H4/H89PT0djqd3vd+FNfn9fX17nK5nJ+fn28PMzOn0+n98fHxx94P42rdz/iBQEhsZMRGRmxkxEZGbGTERkZsZMRGRmxkxEZGbGTERuYw8/szkL0fwnX6u63Duq4vl8vlPH8+A4F/bV3Xl5n58Fk4hY9t296sq8j4gUBGbGTERkZsZMRGRmxkxEZGbGTERuYXwgdpOf758ysAAAAASUVORK5CYII=\"></img></td>\n",
       "      <td id=\"T_fd559_row13_col5\" class=\"data row13 col5\" >2<br>(0.2%)</td>\n",
       "    </tr>\n",
       "    <tr>\n",
       "      <td id=\"T_fd559_row14_col0\" class=\"data row14 col0\" >15</td>\n",
       "      <td id=\"T_fd559_row14_col1\" class=\"data row14 col1\" ><strong>Age_wiki</strong><br>[float64]</td>\n",
       "      <td id=\"T_fd559_row14_col2\" class=\"data row14 col2\" >Mean (sd) : 29.3 (13.9)<br>min < med < max:<br>0.4 < 28.0 < 74.0<br>IQR (CV) : 18.0 (2.1)</td>\n",
       "      <td id=\"T_fd559_row14_col3\" class=\"data row14 col3\" >74 distinct values</td>\n",
       "      <td id=\"T_fd559_row14_col4\" class=\"data row14 col4\" ><img src = \"data:image/png;base64, iVBORw0KGgoAAAANSUhEUgAAAKoAAABGCAYAAABc8A97AAAAOXRFWHRTb2Z0d2FyZQBNYXRwbG90bGliIHZlcnNpb24zLjguMiwgaHR0cHM6Ly9tYXRwbG90bGliLm9yZy8g+/7EAAAACXBIWXMAAA9hAAAPYQGoP6dpAAAC00lEQVR4nO3dP0/bQByH8e81QI+kspOAYGNlQOqAxMIL6NgX25fQgaFjlHeQDQmsRKRJY0y6sFRCgP9cuN/1+eyHLfQoTu7OtttutwJi9+mjTwB4j72PPoFQnHOHkg5a/InNdrtddXU+aCfqUFvE5sfj8bc8zwdNj71YLArn3A9ijUO0oTrnDo+Ojr5nWTaqO7YsSy/p4urq6tfx8fGi7vj5fO5vbm5Gd3d3B5IINQLRhirpIMuy0fX19SrP83WdgbPZbDSdTvve+/Lk5OR3w+MfNhyHAGIOVZKU5/m6bmxFURBZYvjVDxMIFSYQKkwgVJhAqDCBUGECocIEQoUJ0U/4f5SqqvYlZc65JsPZ0NIxQn3BcrncL8vy69nZWa/X69VavpXY0BICob5gs9nsee/7l5eX69PT06LOWDa0hEGorxgMBrX3GTxjr0HH+DEFEwgVJhAqTCBUmECoMIFQYQKhwgRChQmEChMIFSYQKkwgVJhAqDCBUGECocIEQoUJhAoTCBUmECpMIFSYwM19AfBMgO4Rasd4JkAYhNoxngkQBqEGwjMBusWPKZhAqDCBUGEC31Ej03JqS0p0eotQI9J2aktKd3qLUCPSZmpLSnt6681QW75OPMnLUGgtprakRKe3Xg21zRuepXQvQ9i9tz5RG7/hOeXLEHbvXd9Rm7zh+VmSlyHsHvOoMIFQYQKhwgRChQmEChOCrky1XLfOnp6e9js+peSlehtMsFDbrluXZemrqrpYr9c/JTVdpfmvpHwbTLBQ265bz2az0XQ67T8+PvZCnF+KUr4NJvimlKbr1kVRsFjQUNP/eVVVmSLdYsjuKUiKf4shoUJS/FsMCRX/iHWLIfOoMIFQYQKXfnQm5GIDoaIToRcb3hXqfD73dQ/88PDgJWm5XPrb29v+LsdbPbbV85ak+/v7L977/vn5uRsOh3/qjF2tVp8nk8mrMwZ/AVJNs30VQAqCAAAAAElFTkSuQmCC\"></img></td>\n",
       "      <td id=\"T_fd559_row14_col5\" class=\"data row14 col5\" >4<br>(0.4%)</td>\n",
       "    </tr>\n",
       "    <tr>\n",
       "      <td id=\"T_fd559_row15_col0\" class=\"data row15 col0\" >16</td>\n",
       "      <td id=\"T_fd559_row15_col1\" class=\"data row15 col1\" ><strong>Hometown</strong><br>[object]</td>\n",
       "      <td id=\"T_fd559_row15_col2\" class=\"data row15 col2\" >1. New York, New York, US<br>2. London, England<br>3. London, England, UK<br>4. Paris, France<br>5. Unknown, Bulgaria<br>6. Montreal, Quebec, Canada<br>7. Hardîne, Lebanon<br>8. Kisa, Östergötland, Sweden<br>9. Hong Kong, China<br>10. Peterborough, Cambridgeshire, <br>11. other</td>\n",
       "      <td id=\"T_fd559_row15_col3\" class=\"data row15 col3\" >50 (5.6%)<br>31 (3.5%)<br>23 (2.6%)<br>16 (1.8%)<br>13 (1.5%)<br>12 (1.3%)<br>9 (1.0%)<br>8 (0.9%)<br>7 (0.8%)<br>7 (0.8%)<br>715 (80.2%)</td>\n",
       "      <td id=\"T_fd559_row15_col4\" class=\"data row15 col4\" ><img src = \"data:image/png;base64, iVBORw0KGgoAAAANSUhEUgAAAJsAAAD+CAYAAAAtWHdlAAAAOXRFWHRTb2Z0d2FyZQBNYXRwbG90bGliIHZlcnNpb24zLjguMiwgaHR0cHM6Ly9tYXRwbG90bGliLm9yZy8g+/7EAAAACXBIWXMAAA9hAAAPYQGoP6dpAAAEV0lEQVR4nO3dUUpbaQCG4d8QOvXmhBBwGS4gi3CxXUQW0H2IeC4axxvnolra0Vqm0/MG9HnuSgM50JcTc/i/evbw8DCgsDr1BfB+iI2M2MiIjYzYyIiNjNjIiI2M2MicjTHOxxgffvG6+4eHh2NwPbxh691udzVN0/a1F83zfHN2dvZJcPwf62matvv9/rjZbO5eesHt7e3Hw+Gwvb6+/jDGEBu/bT3GGJvN5u7i4uLLK687j66HN8wXBDJiIyM2MmIjIzYyYiMjNjJiIyM2MmIjIzYyYiMjNjJiI7Me4+uZtZ+94LW/g/9iPc/zzeFw2I5XzqzN83wzxrjvLou3yAaBzJn/MovKz+5s7mT8cS+uq6ypWMKzdZU1FUv52brKmoo/zkNdMmIjIzYyYiMjNjJiIyM2MmIjIzYyYiMjNjJiIyM2Ms8GLwYuLOXFwYuBC0twLJyMwQuZl+5s7mos4tngxdiFpfwweDF2YUkvDV6MXViEh7pkxEZGbGTERkZsZMRGRmxkxEZGbGTERkZsZMRGRmxkfhi8GLuwpGeDF2MXluJYOBmDFzK+IJD598eoj1AW88O6yrKKJa2e1lX7/f74GN2vfh0k/JZv66rHP1tWsRhfEMiIjYzYyIiNjNjIiI2M2MiIjYzYyIiNjNjIiI2M2Mg8+3VCsJTv11WWVSzKsXAy1lVkvr+zuauxqG+DF2MXlraapml7eXk5jF1Y2mqMMc7Pz/8+9YXw9nmoS0ZsZMRGRmxkxEZGbGTERkZsZMRGRmxkxEZGbGTERmY1xhjH4/GvU18Ib99qnuebz58/G7uwOMfCyRi8kHFnI2PwQsbghYzBCxkPdcmIjYzYyIiNjNjIiI2M2MiIjYzYyIiNjNjIiI2M2MiIjYx1FRnrKjI2CGSsq8i4s5GxriJjXUXGuoqMh7pkxEZGbGTERkZsZMRGRmxkxEZGbGTERkZsZMRGRmxkDF7IGLyQcSycjMELmac723BXY2nr3W53NcYYxi4sbTVN09bYhYLnbGTERkZsZMRGRmxkxEZGbGTERkZsZMRGRmxkxEZGbGTERkZsZNaPQ5cxjF1YmGPhZAxeyPiZjYyPUTLWVWSsq8j4mY2M2MiIjYzYyIiNjNjIiI2M2MiIjYzYyIiNjNjIiI2M2MiIjYx1FRnHwslYV5FxZyNj8ELG4IWMRx9kxEZGbGTERkZsZMRGRmxkxEZGbGTERkZsZMRGRmxkxEZGbGQMXsg4Fk7G4IXM053NkfD34/5Un2Lr3W539bhB4B2Y5/nmVOOm9TRN2/1+f9xsNnf1m9O6vb39eDgcttfX1x/GGH1sY4yx2WzuLi4uvtRvzkmcn+qNPWcjIzYyYiMjNjJiIyM2MmIjIzYyYiMjNjJiIyM2MmIjsx7j69GTU18Iyzv1v/N6nuebw+GwHSc8ekLnceB0knGTY+Hvz8mOhRu8kPEFgYzYyIiNjNjIiI2M2MiIjYzYyIiNzD8WBbWJx9hoLwAAAABJRU5ErkJggg==\"></img></td>\n",
       "      <td id=\"T_fd559_row15_col5\" class=\"data row15 col5\" >2<br>(0.2%)</td>\n",
       "    </tr>\n",
       "    <tr>\n",
       "      <td id=\"T_fd559_row16_col0\" class=\"data row16 col0\" >17</td>\n",
       "      <td id=\"T_fd559_row16_col1\" class=\"data row16 col1\" ><strong>Boarded</strong><br>[object]</td>\n",
       "      <td id=\"T_fd559_row16_col2\" class=\"data row16 col2\" >1. Southampton<br>2. Cherbourg<br>3. Queenstown<br>4. Belfast<br>5. nan</td>\n",
       "      <td id=\"T_fd559_row16_col3\" class=\"data row16 col3\" >638 (71.6%)<br>166 (18.6%)<br>76 (8.5%)<br>9 (1.0%)<br>2 (0.2%)</td>\n",
       "      <td id=\"T_fd559_row16_col4\" class=\"data row16 col4\" ><img src = \"data:image/png;base64, iVBORw0KGgoAAAANSUhEUgAAAJsAAABzCAYAAACPdnBjAAAAOXRFWHRTb2Z0d2FyZQBNYXRwbG90bGliIHZlcnNpb24zLjguMiwgaHR0cHM6Ly9tYXRwbG90bGliLm9yZy8g+/7EAAAACXBIWXMAAA9hAAAPYQGoP6dpAAACZklEQVR4nO3dQWrbUBiF0V/CpPVExgSyhHaWBWQRXWwX4QVk2D0EYw3qNBNnkFI6jIR1H0rOWcGDfFjIvOt0l8ulIKFvfQA+D7ERIzZiuqraVtVN64Mwy8vlcjm3PsR7bW5vb38Mw7BvfRCmG8fx2HXdz7UEtxmGYf/w8HDe7XbPrQ/D+51Op6+Hw2H/9PR0U1XriK2qarfbPd/d3f1ufRgm27Y+wBReEIgRGzFiI0ZsxIiNGLERIzZixEaM2IgRGzFiI0ZsxIiNmE3V23WV1gdhmjX+zTbjOB4Ph8O+VnZdhbfLk1X10voc7+Va+Lqt6lp4ZzdKihcEYlo9Rlf18c91NFlXrW0VxHXE11VrXAVxHa3WVb5m+YS8IBAjNmLERozYiBEbMWIjRmzEiI0YsREjNmLERozYiBEbMfF11RpXQVxHk3XV2lZBXIdr4cRYVxHjBYGYuY9Rj0Emm7Wuso5ijsnrKuso5pq7rrKOYjIvCMSIjRixESM2YsRGjNiIERsxYiNGbMSIjRixESM2YsRGzOR1lXUUc81aV1lHMYdr4cRYVxHz/yebTysW9W/wYsTC0vphGPb39/f1d2Hl/46ymL6qarvd/ml9ED4+X+oSIzZixEaM2IgRGzFiI0ZsxIiNGLERIzZixEaM2IgRGzFiI6avqjqfz19aH4SPrx/H8fj4+GgxxeJsEIixriLGCwIxfdd137uu85MKLK6vqm9V5W2UxXmMEiM2YsRGjNiIERsxYiNGbMSIjRixESM2YsRGjNiIERsxYiNGbMSIjZi+qn5VlV8LZ3EGL8R4jBIjNmLERswrngDO/fV77qUAAAAASUVORK5CYII=\"></img></td>\n",
       "      <td id=\"T_fd559_row16_col5\" class=\"data row16 col5\" >2<br>(0.2%)</td>\n",
       "    </tr>\n",
       "    <tr>\n",
       "      <td id=\"T_fd559_row17_col0\" class=\"data row17 col0\" >18</td>\n",
       "      <td id=\"T_fd559_row17_col1\" class=\"data row17 col1\" ><strong>Destination</strong><br>[object]</td>\n",
       "      <td id=\"T_fd559_row17_col2\" class=\"data row17 col2\" >1. New York City<br>2. New York, New York, US<br>3. Chicago, Illinois, US<br>4. Montreal, Quebec, Canada<br>5. Detroit, Michigan, US<br>6. Brooklyn, New York, US<br>7. Winnipeg, Manitoba, Canada<br>8. Philadelphia, Pennsylvania, US<br>9. Jacksonville, Florida, US<br>10. Ottawa, Ontario, Canada<br>11. other</td>\n",
       "      <td id=\"T_fd559_row17_col3\" class=\"data row17 col3\" >168 (18.9%)<br>90 (10.1%)<br>58 (6.5%)<br>25 (2.8%)<br>22 (2.5%)<br>21 (2.4%)<br>16 (1.8%)<br>13 (1.5%)<br>12 (1.3%)<br>10 (1.1%)<br>456 (51.2%)</td>\n",
       "      <td id=\"T_fd559_row17_col4\" class=\"data row17 col4\" ><img src = \"data:image/png;base64, iVBORw0KGgoAAAANSUhEUgAAAJsAAAD+CAYAAAAtWHdlAAAAOXRFWHRTb2Z0d2FyZQBNYXRwbG90bGliIHZlcnNpb24zLjguMiwgaHR0cHM6Ly9tYXRwbG90bGliLm9yZy8g+/7EAAAACXBIWXMAAA9hAAAPYQGoP6dpAAAEUklEQVR4nO3cQU4bZwCG4R9k0bCxZSFxjBzAh+hhewgfgHsgxCximg1dJEHQRKpdM68hPM8ui2hG0auxZvR/OXt8fBxQOD/1DfBxiI2M2MiIjYzYyIiNjNjIiI2M2MicjTEuxxgX8XW/Pj4+7uJrcmKLq6urP5fL5bq86DRNd2dnZ38J7mNZLJfL9Waz2a1Wq4figvf395+22+369vb2Yowhtg9kMcYYq9Xq4fr6+kt43cvwWrwRXhDIiI2M2MiIjYzYyIiNjNjIiI2M2MiIjYzYyIiNjNjIiI3MYoxvZ8yqC5bX4m1ZTNN0t91u1yM8YzZN090Y42t1Pd4GGwQyZ/7LLCqv8WTzlGIvR6+rLKXY11HrKkspDvEa6ypLKfbioy4ZsZERGxmxkREbGbGRERsZsZERGxmxkREbGbGRERuZowYvxisc4ujBi/EK+3IsnIzBC5lDnmyeYBxl78GLYQvH2mvwYtjCazhk8GLYwlF81CUjNjJiIyM2MmIjIzYyYiMjNjJiIyM2MmIjIzYyYiOz1+DFsIXXsPfgxbCFYzkWTsbghYwXBDK/+hn1c8ksflpXWVExlxfrKisq5vSrdZUVFbPwgkBGbGTERkZsZMRGRmxkxEZGbGTERkZsZMRGRmxkxEbmxbrKioo5/bSusqJiLo6Fk7GuIuPJRsbghYzBCxmDFzI+6pIRGxmxkREbGbGRERsZsZERGxmxkREbGbGRERsZsZExeCFj8ELGsXAyBi9kPNnIGLyQMXghY/BCxkddMmIjIzYyYiMjNjJiIyM2MmIjIzYyYiMjNjJiIyM2MmIjY11FxrqKjA0CGesqMv9+snmqMZsX6yrLKuZ0/mNdtdlsdt+ju/jPvwX/w9O66vufLauYjY+6ZMRGRmxkxEZGbGTERkZsZMRGRmxkxEZGbGTERkZsZF4MXmBOzwcvxi7MyrFwMgYvZJ4/2TzVmNXT4MXYhbmdL5fL9efPn4exC3M7H2OMy8vLv099I/z+fNQlIzYyYiMjNjJiIyM2MmIjIzYyYiMjNjJiIyM2MmIjcz7GGLvd7o9T3wi/v/Npmu5ubm6MXZidY+FkDF7IeEEg42eUjHUVGesqMtZVZLwgkBEbGbGRERsZsZERGxmxkREbGbGRERsZsZERGxmxkbGuImNdRcaxcDLWVWQ82cgYvJAxeCFj8ELGR10yYiMjNjJiIyM2MmIjIzYyYiMjNjJiIyM2MmIjIzYyBi9kDF7IOBZOxuCFzPMnG4fza3CAp8HLqW/kPTISOsxiuVyuN5vNbrVaPZz6Zt6T+/v7T9vtdn17e3sxxhDbHhZjjLFarR6ur6+/nPpm3qHLU9/Ae+KjLhmxkREbGbGRERsZsZERGxmxkREbGbGRERsZsZERG5nFGN+Oy5z6Rt4b/2aHW0zTdLfdbtfDcZmDGQkdxrHw4zgWfgCDFzJeEMiIjYzYyIiNjNjIiI2M2MiIjYzYyPwDkPYVMqg3bJQAAAAASUVORK5CYII=\"></img></td>\n",
       "      <td id=\"T_fd559_row17_col5\" class=\"data row17 col5\" >2<br>(0.2%)</td>\n",
       "    </tr>\n",
       "    <tr>\n",
       "      <td id=\"T_fd559_row18_col0\" class=\"data row18 col0\" >19</td>\n",
       "      <td id=\"T_fd559_row18_col1\" class=\"data row18 col1\" ><strong>Lifeboat</strong><br>[object]</td>\n",
       "      <td id=\"T_fd559_row18_col2\" class=\"data row18 col2\" >1. nan<br>2. 15<br>3. C<br>4. 13<br>5. 14<br>6. 4<br>7. 5<br>8. 3<br>9. 9<br>10. 16<br>11. other</td>\n",
       "      <td id=\"T_fd559_row18_col3\" class=\"data row18 col3\" >546 (61.3%)<br>28 (3.1%)<br>28 (3.1%)<br>26 (2.9%)<br>22 (2.5%)<br>22 (2.5%)<br>21 (2.4%)<br>21 (2.4%)<br>20 (2.2%)<br>18 (2.0%)<br>139 (15.6%)</td>\n",
       "      <td id=\"T_fd559_row18_col4\" class=\"data row18 col4\" ><img src = \"data:image/png;base64, iVBORw0KGgoAAAANSUhEUgAAAJsAAAD+CAYAAAAtWHdlAAAAOXRFWHRTb2Z0d2FyZQBNYXRwbG90bGliIHZlcnNpb24zLjguMiwgaHR0cHM6Ly9tYXRwbG90bGliLm9yZy8g+/7EAAAACXBIWXMAAA9hAAAPYQGoP6dpAAAD+UlEQVR4nO3dQWrbaACG4d/FhHZjYwI+jA8xh51D+DYmWIumdONZTFOSxqUwRK8G9Dy7LEpEeCMj8X/p5na7DSh8WvoCWA+xkREbGbGRERsZsZERGxmxkREbmc0Y48sY42HpC1mp77fb7Xnpi6hsHx8f/9rtdoelL2SNpml62mw2f68luO1utzucTqfn/X7/bemLWZPr9fr5fD4fLpfLwxhjHbGNMcZ+v/92PB6/Ln0xK/Rl6QsoeUAgIzYyYiMjNjJiIyM2MmIjIzYyYiMjNjJiIyM2MmIjIzYy2zH+PVu19IWszRp/5ttpmp7O5/NhrOxs1f/BNE1PY4zvS19HxQZhWavaIGz8ySwqv7uzreo3jsbdddXaVj803q2r1rj6ofG7dZUnUz6cl7pkxEZGbGTERkZsZMRGRmxkxEZGbGTERkZsZMRGRmxk3g1e1jjEoHF38LK2IQYNx8LJGLyQcWcjY/BCxuCFjMELGS91yYiNjNjIiI2M2MiIjYzYyIiNjNjIiI2M2MiIjYzYyBi8kDF4IeNYOBmDFzIeEMj4GCVjXUXGuoqMdRUZDwhkxEZGbGTERkZsZMRGRmxkxEZGbGTERkZsZMRGRmxkrKvIWFeRcSycjHUVmXt3Nnc1ZvFu8GLswlzeDF6MXZjTvcGLsQuz8FKXjNjIiI2M2MiIjYzYyIiNjNjIiI2M2MiIjYzYyIiNzJvBi7ELc3o3eDF2YS6OhZMxeCHjzkbG4IWMwQsZgxcyXuqSERsZsZERGxmxkREbGbGRERsZsZERGxmxkREbGbGRERsZ6yoy1lVkbBDIWFeRcWcjY11FxrqKjHUVGS91yYiNjNjIiI2M2MiIjYzYyIiNjNjIiI2M2MiIjYzYyBi8kDF4IeNYOBmDFzLubGQMXsgYvJAxeCHjpS4ZsZERGxmxkREbGbGRERsZsZERGxmxkREbGbGRERsZgxcyBi9kHAsnY/BCxgMCmV8/Rn2EMps36yrLKub06WVddTqdnn9E9/DHfwX/wc911Y+vLauYjQcEMmIjIzYyYiMjNjJiIyM2MmIjIzYyYiMjNjJiIyM2Mm/WVTCn1+sqyypm5Vg4GesqMu5sZAxeyBi8kDF4IeOlLhmxkREbGbGRERsZsZERGxmxkREbGbGRERsZsZERGxmDFzIGL2QcCydj8ELm3n+U9tHcLRlj/DJ4mYMRDS+2L4OXVzuED3O9Xj+fz+fD5XJ5GGOIbeV+Dl6Ox+PXmb6HEQ1jDC91CYmNjNjIiI2M2MiIjYzYyIiNjNjIiI2M2MiIjYzYyMw6eDGk4bXXg5dZjgIZ0fDCsXAyBi9kPCCQERsZsZERGxmxkREbGbGRERsZsZH5BwMlNiRoyeG0AAAAAElFTkSuQmCC\"></img></td>\n",
       "      <td id=\"T_fd559_row18_col5\" class=\"data row18 col5\" >546<br>(61.3%)</td>\n",
       "    </tr>\n",
       "    <tr>\n",
       "      <td id=\"T_fd559_row19_col0\" class=\"data row19 col0\" >20</td>\n",
       "      <td id=\"T_fd559_row19_col1\" class=\"data row19 col1\" ><strong>Body</strong><br>[object]</td>\n",
       "      <td id=\"T_fd559_row19_col2\" class=\"data row19 col2\" >1. nan<br>2. 175MB<br>3. 122MB<br>4. 46MB<br>5. 69MB<br>6. 55MB<br>7. 197MB<br>8. 17MB<br>9. 47MB<br>10. 206MB<br>11. other</td>\n",
       "      <td id=\"T_fd559_row19_col3\" class=\"data row19 col3\" >804 (90.2%)<br>1 (0.1%)<br>1 (0.1%)<br>1 (0.1%)<br>1 (0.1%)<br>1 (0.1%)<br>1 (0.1%)<br>1 (0.1%)<br>1 (0.1%)<br>1 (0.1%)<br>78 (8.8%)</td>\n",
       "      <td id=\"T_fd559_row19_col4\" class=\"data row19 col4\" ><img src = \"data:image/png;base64, iVBORw0KGgoAAAANSUhEUgAAAJsAAAD+CAYAAAAtWHdlAAAAOXRFWHRTb2Z0d2FyZQBNYXRwbG90bGliIHZlcnNpb24zLjguMiwgaHR0cHM6Ly9tYXRwbG90bGliLm9yZy8g+/7EAAAACXBIWXMAAA9hAAAPYQGoP6dpAAAD20lEQVR4nO3cwU1jVxiG4f8iiwwbW5Yll5D0QBFT7BThItIDQtzFQNg4i2kAM8NL4nmeNUc6i1c6snQ/lvP5PFC4+ewL8PsQGxmxkREbGbGRERsZsZERGxmxkVlm5m5mbj/7IvxvvJ7P5+f3HNwcDoev2+12/6tvxHVa1/VxWZZv7wlus91u9/f398+73e7lIy7H9Xh6evpyOp32Dw8PtzNzeWwzM7vd7uV4PH7/5bfjGt2996AfCGTERkZsZMRGRmxkxEZGbGTERkZsZMRGRmxkxEZGbGTERmYz8+M7pc++CP99P9vJZl3Xx9PptJ+f+E6J38e6ro8z8/qeszYIXOrdG4TFv8yi4gcCmZtlWf5alsUPBD7czcz8OTN/fPZFuH6eUTJiIyM2MmIjIzYyYiMjNjJiIyM2MmIjIzYyYiMjNjJiIyM2Mjcz8/fM/PPZF+H62SCQ8YySERsZgxcyBi9kPKNkxEZGbGTERkZsZMRGRmxkxEZGbGTERkZsZMRGRmxkxEZGbGQMXsgYvJDxjJIRGxmxkbGuImNdRcYzSkZsZMRGRmxkxEZGbGTERkZsZMRGRmxkxEZGbGTERkZsZMRGxrqKjHUVGc8oGbGRMXghY/BCxjNKRmxkxEZGbGTERkZsZMRGRmxkxEZGbGTERkZsZMRGRmxkxEbG4IWMwQsZzygZsZExeCFj8ELGM0pGbGTERkZsZMRGRmxkxEZGbGTERkZsZMRGRmxkxEZGbGTERkZsZKyryFhXkfGMkhEbGesqMtZVZDyjZMRGRmxkxEZGbGTERkZsZMRGRmxkxEZGbGTERkZsZMRGRmxkDF7IGLyQ8YySERsZgxcyBi9kPKNkxEZGbGTERkZsZMRGRmxkxEZGbGTERkZsZMRGRmxkxEZGbGQMXsgYvJDxjJIRGxmxkbGuImNdRcYzSkZsZMRGRmxkxEZGbGTERkZsZMRGRmxkxEZGbGTERkZsZMRGxrqKjHUVGc8oGbGRMXghY/BCxjNKRmxkxEZGbGTERkZsZMRGRmxkxEZGbGTERkZsZMRGRmxkxEbG4IWMwQsZzyiZZWbuZub2HWdfz+fz8y++D1dsczgcvm632/2lB9d1fVyW5ZvgeKvNdrvd39/fP+92u5e3Hnp6evpyOp32Dw8PtzMjNt5kMzOz2+1ejsfj9wvP3n3AfbhifiCQERsZsZERGxmxkREbGbGRERsZsZERGxmxkREbGbGR2cz8+GTokkOX/j3MzGzWdX08nU77ufCToXVdH2fm9WOuxTXyWTgZ6yoyfiCQERsZsZERGxmxkREbGbGRERsZsZH5FwwonjSg6LCYAAAAAElFTkSuQmCC\"></img></td>\n",
       "      <td id=\"T_fd559_row19_col5\" class=\"data row19 col5\" >804<br>(90.2%)</td>\n",
       "    </tr>\n",
       "    <tr>\n",
       "      <td id=\"T_fd559_row20_col0\" class=\"data row20 col0\" >21</td>\n",
       "      <td id=\"T_fd559_row20_col1\" class=\"data row20 col1\" ><strong>Class</strong><br>[float64]</td>\n",
       "      <td id=\"T_fd559_row20_col2\" class=\"data row20 col2\" >1. 3.0<br>2. 1.0<br>3. 2.0<br>4. nan</td>\n",
       "      <td id=\"T_fd559_row20_col3\" class=\"data row20 col3\" >490 (55.0%)<br>217 (24.4%)<br>182 (20.4%)<br>2 (0.2%)</td>\n",
       "      <td id=\"T_fd559_row20_col4\" class=\"data row20 col4\" ><img src = \"data:image/png;base64, iVBORw0KGgoAAAANSUhEUgAAAJsAAABcCAYAAAB5jMeAAAAAOXRFWHRTb2Z0d2FyZQBNYXRwbG90bGliIHZlcnNpb24zLjguMiwgaHR0cHM6Ly9tYXRwbG90bGliLm9yZy8g+/7EAAAACXBIWXMAAA9hAAAPYQGoP6dpAAAB9ElEQVR4nO3bQWrbYBSF0Sdj0mYiYQxeQrsHL6KL7SK0iO7BGGvQpJm4g0xaaGfx/X+kc1bwCB92ZHSH+/1ekLBrfQDbITZihqp6rqqn1oeszNv9fn9pfURv9sfj8ds4jofWh6zJsizXYRi+C+5v+3EcD+fz+WWaptfWx6zB7Xb7PM/z4XK5PFWV2P6wr6qapun1dDr9bH3Mijy3PqBHHhCIERsxYiNGbMSIjRixESM2YsRGjNiIERsxYiNGbMSIjZh91ftrMa0PWQt/y//bL8tynef5UF6L+TDLslyr6q31Hb3xWvhjeC38HwZTPlI8IBDT89eor6KV6XZdZaG0Pl2uqyyU1qnndZWfYlbGAwIxYiNGbMSIjRixESM2YsRGjNiIERsxYiNGbMSIjRixESM2Yrqc8vV2Dx+j2ymfOdz62CAQY8pHTA+fbD7BNqL5usqKajuarqusqLalh3VVV0/BPI4fdYkRGzFiI0ZsxIiNGLERIzZixEaM2IgRGzFiI0ZsxIiNGLER03RdZUW1Lc3XVVZU22GDQIx1FTEeEIjZDcPwdRgG/6jzcLuq+lJVn1ofwvr5GiVGbMSIjRixESM2YsRGjNiIERsxYiNGbMSIjRixESM2YsRGjNiIERsxu6r6UVW/Wh/C+hm8EONrlBixEfMbskWoqbQYeLkAAAAASUVORK5CYII=\"></img></td>\n",
       "      <td id=\"T_fd559_row20_col5\" class=\"data row20 col5\" >2<br>(0.2%)</td>\n",
       "    </tr>\n",
       "  </tbody>\n",
       "</table>\n"
      ],
      "text/plain": [
       "<pandas.io.formats.style.Styler at 0x1fb17ba84d0>"
      ]
     },
     "execution_count": 4,
     "metadata": {},
     "output_type": "execute_result"
    }
   ],
   "source": [
    "dfSummary(train)"
   ]
  },
  {
   "cell_type": "markdown",
   "id": "cfd8735b-c98b-42aa-8c0c-f0d699485faa",
   "metadata": {},
   "source": [
    "#### 2.2 Loading Test Dataset"
   ]
  },
  {
   "cell_type": "code",
   "execution_count": 5,
   "id": "26295e1f-b49b-44fa-95a9-bea52ee1b852",
   "metadata": {},
   "outputs": [
    {
     "data": {
      "text/html": [
       "<div>\n",
       "<style scoped>\n",
       "    .dataframe tbody tr th:only-of-type {\n",
       "        vertical-align: middle;\n",
       "    }\n",
       "\n",
       "    .dataframe tbody tr th {\n",
       "        vertical-align: top;\n",
       "    }\n",
       "\n",
       "    .dataframe thead th {\n",
       "        text-align: right;\n",
       "    }\n",
       "</style>\n",
       "<table border=\"1\" class=\"dataframe\">\n",
       "  <thead>\n",
       "    <tr style=\"text-align: right;\">\n",
       "      <th></th>\n",
       "      <th>PassengerId</th>\n",
       "      <th>Pclass</th>\n",
       "      <th>Name</th>\n",
       "      <th>Sex</th>\n",
       "      <th>Age</th>\n",
       "      <th>SibSp</th>\n",
       "      <th>Parch</th>\n",
       "      <th>Ticket</th>\n",
       "      <th>Fare</th>\n",
       "      <th>Cabin</th>\n",
       "      <th>...</th>\n",
       "      <th>WikiId</th>\n",
       "      <th>Name_wiki</th>\n",
       "      <th>Age_wiki</th>\n",
       "      <th>Hometown</th>\n",
       "      <th>Boarded</th>\n",
       "      <th>Destination</th>\n",
       "      <th>Lifeboat</th>\n",
       "      <th>Body</th>\n",
       "      <th>Class</th>\n",
       "      <th>Survived</th>\n",
       "    </tr>\n",
       "  </thead>\n",
       "  <tbody>\n",
       "    <tr>\n",
       "      <th>0</th>\n",
       "      <td>892</td>\n",
       "      <td>3</td>\n",
       "      <td>Kelly, Mr. James</td>\n",
       "      <td>male</td>\n",
       "      <td>34.5</td>\n",
       "      <td>0</td>\n",
       "      <td>0</td>\n",
       "      <td>330911</td>\n",
       "      <td>7.8292</td>\n",
       "      <td>NaN</td>\n",
       "      <td>...</td>\n",
       "      <td>928.0</td>\n",
       "      <td>Kelly, Mr. James</td>\n",
       "      <td>19.0</td>\n",
       "      <td>Unknown, Ireland</td>\n",
       "      <td>Southampton</td>\n",
       "      <td>New York City</td>\n",
       "      <td>NaN</td>\n",
       "      <td>70MB</td>\n",
       "      <td>3.0</td>\n",
       "      <td>NaN</td>\n",
       "    </tr>\n",
       "    <tr>\n",
       "      <th>1</th>\n",
       "      <td>893</td>\n",
       "      <td>3</td>\n",
       "      <td>Wilkes, Mrs. James (Ellen Needs)</td>\n",
       "      <td>female</td>\n",
       "      <td>47.0</td>\n",
       "      <td>1</td>\n",
       "      <td>0</td>\n",
       "      <td>363272</td>\n",
       "      <td>7.0000</td>\n",
       "      <td>NaN</td>\n",
       "      <td>...</td>\n",
       "      <td>1297.0</td>\n",
       "      <td>Wilkes, Mrs. Ellen</td>\n",
       "      <td>47.0</td>\n",
       "      <td>Penzance, Cornwall, England</td>\n",
       "      <td>Southampton</td>\n",
       "      <td>Akron, Ohio, US</td>\n",
       "      <td>16</td>\n",
       "      <td>NaN</td>\n",
       "      <td>3.0</td>\n",
       "      <td>NaN</td>\n",
       "    </tr>\n",
       "    <tr>\n",
       "      <th>2</th>\n",
       "      <td>894</td>\n",
       "      <td>2</td>\n",
       "      <td>Myles, Mr. Thomas Francis</td>\n",
       "      <td>male</td>\n",
       "      <td>62.0</td>\n",
       "      <td>0</td>\n",
       "      <td>0</td>\n",
       "      <td>240276</td>\n",
       "      <td>9.6875</td>\n",
       "      <td>NaN</td>\n",
       "      <td>...</td>\n",
       "      <td>518.0</td>\n",
       "      <td>Myles, Mr. Thomas Francis</td>\n",
       "      <td>63.0</td>\n",
       "      <td>Fermoy, Ireland[note 1]</td>\n",
       "      <td>Queenstown</td>\n",
       "      <td>Waban, Massachusetts, US</td>\n",
       "      <td>NaN</td>\n",
       "      <td>NaN</td>\n",
       "      <td>2.0</td>\n",
       "      <td>NaN</td>\n",
       "    </tr>\n",
       "    <tr>\n",
       "      <th>3</th>\n",
       "      <td>895</td>\n",
       "      <td>3</td>\n",
       "      <td>Wirz, Mr. Albert</td>\n",
       "      <td>male</td>\n",
       "      <td>27.0</td>\n",
       "      <td>0</td>\n",
       "      <td>0</td>\n",
       "      <td>315154</td>\n",
       "      <td>8.6625</td>\n",
       "      <td>NaN</td>\n",
       "      <td>...</td>\n",
       "      <td>1303.0</td>\n",
       "      <td>Wirz, Mr. Albert</td>\n",
       "      <td>27.0</td>\n",
       "      <td>Uster, Switzerland</td>\n",
       "      <td>Southampton</td>\n",
       "      <td>Beloit, Wisconsin, US</td>\n",
       "      <td>NaN</td>\n",
       "      <td>131MB</td>\n",
       "      <td>3.0</td>\n",
       "      <td>NaN</td>\n",
       "    </tr>\n",
       "    <tr>\n",
       "      <th>4</th>\n",
       "      <td>896</td>\n",
       "      <td>3</td>\n",
       "      <td>Hirvonen, Mrs. Alexander (Helga E Lindqvist)</td>\n",
       "      <td>female</td>\n",
       "      <td>22.0</td>\n",
       "      <td>1</td>\n",
       "      <td>1</td>\n",
       "      <td>3101298</td>\n",
       "      <td>12.2875</td>\n",
       "      <td>NaN</td>\n",
       "      <td>...</td>\n",
       "      <td>871.0</td>\n",
       "      <td>Hirvonen, Mrs. Helga Elisabeth (née Lindqvist)</td>\n",
       "      <td>22.0</td>\n",
       "      <td>Taalintehdas, Finland</td>\n",
       "      <td>Southampton</td>\n",
       "      <td>Monessen, Pennsylvania, US</td>\n",
       "      <td>15</td>\n",
       "      <td>NaN</td>\n",
       "      <td>3.0</td>\n",
       "      <td>NaN</td>\n",
       "    </tr>\n",
       "  </tbody>\n",
       "</table>\n",
       "<p>5 rows × 21 columns</p>\n",
       "</div>"
      ],
      "text/plain": [
       "   PassengerId  Pclass                                          Name     Sex  \\\n",
       "0          892       3                              Kelly, Mr. James    male   \n",
       "1          893       3              Wilkes, Mrs. James (Ellen Needs)  female   \n",
       "2          894       2                     Myles, Mr. Thomas Francis    male   \n",
       "3          895       3                              Wirz, Mr. Albert    male   \n",
       "4          896       3  Hirvonen, Mrs. Alexander (Helga E Lindqvist)  female   \n",
       "\n",
       "    Age  SibSp  Parch   Ticket     Fare Cabin  ...  WikiId  \\\n",
       "0  34.5      0      0   330911   7.8292   NaN  ...   928.0   \n",
       "1  47.0      1      0   363272   7.0000   NaN  ...  1297.0   \n",
       "2  62.0      0      0   240276   9.6875   NaN  ...   518.0   \n",
       "3  27.0      0      0   315154   8.6625   NaN  ...  1303.0   \n",
       "4  22.0      1      1  3101298  12.2875   NaN  ...   871.0   \n",
       "\n",
       "                                        Name_wiki Age_wiki  \\\n",
       "0                                Kelly, Mr. James     19.0   \n",
       "1                              Wilkes, Mrs. Ellen     47.0   \n",
       "2                       Myles, Mr. Thomas Francis     63.0   \n",
       "3                                Wirz, Mr. Albert     27.0   \n",
       "4  Hirvonen, Mrs. Helga Elisabeth (née Lindqvist)     22.0   \n",
       "\n",
       "                      Hometown      Boarded                 Destination  \\\n",
       "0             Unknown, Ireland  Southampton               New York City   \n",
       "1  Penzance, Cornwall, England  Southampton             Akron, Ohio, US   \n",
       "2      Fermoy, Ireland[note 1]   Queenstown    Waban, Massachusetts, US   \n",
       "3           Uster, Switzerland  Southampton       Beloit, Wisconsin, US   \n",
       "4        Taalintehdas, Finland  Southampton  Monessen, Pennsylvania, US   \n",
       "\n",
       "  Lifeboat   Body Class  Survived  \n",
       "0      NaN   70MB   3.0       NaN  \n",
       "1       16    NaN   3.0       NaN  \n",
       "2      NaN    NaN   2.0       NaN  \n",
       "3      NaN  131MB   3.0       NaN  \n",
       "4       15    NaN   3.0       NaN  \n",
       "\n",
       "[5 rows x 21 columns]"
      ]
     },
     "execution_count": 5,
     "metadata": {},
     "output_type": "execute_result"
    }
   ],
   "source": [
    "test = pd.read_csv(\"test.csv\")\n",
    "\n",
    "test['Survived'] = np.NaN\n",
    "test.head()"
   ]
  },
  {
   "cell_type": "code",
   "execution_count": 6,
   "id": "30c4ea29-4ec5-4ae2-9c83-948e940216a5",
   "metadata": {
    "scrolled": true
   },
   "outputs": [
    {
     "name": "stdout",
     "output_type": "stream",
     "text": [
      "<class 'pandas.core.frame.DataFrame'>\n",
      "RangeIndex: 418 entries, 0 to 417\n",
      "Data columns (total 21 columns):\n",
      " #   Column       Non-Null Count  Dtype  \n",
      "---  ------       --------------  -----  \n",
      " 0   PassengerId  418 non-null    int64  \n",
      " 1   Pclass       418 non-null    int64  \n",
      " 2   Name         418 non-null    object \n",
      " 3   Sex          418 non-null    object \n",
      " 4   Age          332 non-null    float64\n",
      " 5   SibSp        418 non-null    int64  \n",
      " 6   Parch        418 non-null    int64  \n",
      " 7   Ticket       418 non-null    object \n",
      " 8   Fare         417 non-null    float64\n",
      " 9   Cabin        91 non-null     object \n",
      " 10  Embarked     418 non-null    object \n",
      " 11  WikiId       415 non-null    float64\n",
      " 12  Name_wiki    415 non-null    object \n",
      " 13  Age_wiki     415 non-null    float64\n",
      " 14  Hometown     415 non-null    object \n",
      " 15  Boarded      415 non-null    object \n",
      " 16  Destination  415 non-null    object \n",
      " 17  Lifeboat     157 non-null    object \n",
      " 18  Body         43 non-null     object \n",
      " 19  Class        415 non-null    float64\n",
      " 20  Survived     0 non-null      float64\n",
      "dtypes: float64(6), int64(4), object(11)\n",
      "memory usage: 68.7+ KB\n"
     ]
    }
   ],
   "source": [
    "test.info()"
   ]
  },
  {
   "cell_type": "code",
   "execution_count": 7,
   "id": "ecdbee4d-6f37-4356-a121-d638d3801936",
   "metadata": {
    "scrolled": true
   },
   "outputs": [
    {
     "data": {
      "text/html": [
       "<style type=\"text/css\">\n",
       "#T_fc064 thead>tr>th {\n",
       "  text-align: left;\n",
       "}\n",
       "#T_fc064_row0_col0, #T_fc064_row1_col0, #T_fc064_row2_col0, #T_fc064_row3_col0, #T_fc064_row4_col0, #T_fc064_row5_col0, #T_fc064_row6_col0, #T_fc064_row7_col0, #T_fc064_row8_col0, #T_fc064_row9_col0, #T_fc064_row10_col0, #T_fc064_row11_col0, #T_fc064_row12_col0, #T_fc064_row13_col0, #T_fc064_row14_col0, #T_fc064_row15_col0, #T_fc064_row16_col0, #T_fc064_row17_col0, #T_fc064_row18_col0, #T_fc064_row19_col0, #T_fc064_row20_col0 {\n",
       "  text-align: left;\n",
       "  font-size: 12px;\n",
       "  vertical-align: middle;\n",
       "  width: 5%;\n",
       "  max-width: 50px;\n",
       "  min-width: 20px;\n",
       "}\n",
       "#T_fc064_row0_col1, #T_fc064_row1_col1, #T_fc064_row2_col1, #T_fc064_row3_col1, #T_fc064_row4_col1, #T_fc064_row5_col1, #T_fc064_row6_col1, #T_fc064_row7_col1, #T_fc064_row8_col1, #T_fc064_row9_col1, #T_fc064_row10_col1, #T_fc064_row11_col1, #T_fc064_row12_col1, #T_fc064_row13_col1, #T_fc064_row14_col1, #T_fc064_row15_col1, #T_fc064_row16_col1, #T_fc064_row17_col1, #T_fc064_row18_col1, #T_fc064_row19_col1, #T_fc064_row20_col1 {\n",
       "  text-align: left;\n",
       "  font-size: 12px;\n",
       "  vertical-align: middle;\n",
       "  width: 15%;\n",
       "  max-width: 200px;\n",
       "  min-width: 100px;\n",
       "  word-break: break-word;\n",
       "}\n",
       "#T_fc064_row0_col2, #T_fc064_row1_col2, #T_fc064_row2_col2, #T_fc064_row3_col2, #T_fc064_row4_col2, #T_fc064_row5_col2, #T_fc064_row6_col2, #T_fc064_row7_col2, #T_fc064_row8_col2, #T_fc064_row9_col2, #T_fc064_row10_col2, #T_fc064_row11_col2, #T_fc064_row12_col2, #T_fc064_row13_col2, #T_fc064_row14_col2, #T_fc064_row15_col2, #T_fc064_row16_col2, #T_fc064_row17_col2, #T_fc064_row18_col2, #T_fc064_row19_col2, #T_fc064_row20_col2 {\n",
       "  text-align: left;\n",
       "  font-size: 12px;\n",
       "  vertical-align: middle;\n",
       "  width: 30%;\n",
       "  min-width: 100px;\n",
       "}\n",
       "#T_fc064_row0_col3, #T_fc064_row1_col3, #T_fc064_row2_col3, #T_fc064_row3_col3, #T_fc064_row4_col3, #T_fc064_row5_col3, #T_fc064_row6_col3, #T_fc064_row7_col3, #T_fc064_row8_col3, #T_fc064_row9_col3, #T_fc064_row10_col3, #T_fc064_row11_col3, #T_fc064_row12_col3, #T_fc064_row13_col3, #T_fc064_row14_col3, #T_fc064_row15_col3, #T_fc064_row16_col3, #T_fc064_row17_col3, #T_fc064_row18_col3, #T_fc064_row19_col3, #T_fc064_row20_col3 {\n",
       "  text-align: left;\n",
       "  font-size: 12px;\n",
       "  vertical-align: middle;\n",
       "  width: 25%;\n",
       "  min-width: 100px;\n",
       "}\n",
       "#T_fc064_row0_col4, #T_fc064_row1_col4, #T_fc064_row2_col4, #T_fc064_row3_col4, #T_fc064_row4_col4, #T_fc064_row5_col4, #T_fc064_row6_col4, #T_fc064_row7_col4, #T_fc064_row8_col4, #T_fc064_row9_col4, #T_fc064_row10_col4, #T_fc064_row11_col4, #T_fc064_row12_col4, #T_fc064_row13_col4, #T_fc064_row14_col4, #T_fc064_row15_col4, #T_fc064_row16_col4, #T_fc064_row17_col4, #T_fc064_row18_col4, #T_fc064_row19_col4, #T_fc064_row20_col4 {\n",
       "  text-align: left;\n",
       "  font-size: 12px;\n",
       "  vertical-align: middle;\n",
       "  width: 20%;\n",
       "  min-width: 150px;\n",
       "}\n",
       "#T_fc064_row0_col5, #T_fc064_row1_col5, #T_fc064_row2_col5, #T_fc064_row3_col5, #T_fc064_row4_col5, #T_fc064_row5_col5, #T_fc064_row6_col5, #T_fc064_row7_col5, #T_fc064_row8_col5, #T_fc064_row9_col5, #T_fc064_row10_col5, #T_fc064_row11_col5, #T_fc064_row12_col5, #T_fc064_row13_col5, #T_fc064_row14_col5, #T_fc064_row15_col5, #T_fc064_row16_col5, #T_fc064_row17_col5, #T_fc064_row18_col5, #T_fc064_row19_col5, #T_fc064_row20_col5 {\n",
       "  text-align: left;\n",
       "  font-size: 12px;\n",
       "  vertical-align: middle;\n",
       "  width: 10%;\n",
       "}\n",
       "</style>\n",
       "<table id=\"T_fc064\">\n",
       "  <caption><strong>Data Frame Summary</strong><br>test<br>Dimensions: 418 x 21<br>Duplicates: 0</caption>\n",
       "  <thead>\n",
       "    <tr>\n",
       "      <th id=\"T_fc064_level0_col0\" class=\"col_heading level0 col0\" >No</th>\n",
       "      <th id=\"T_fc064_level0_col1\" class=\"col_heading level0 col1\" >Variable</th>\n",
       "      <th id=\"T_fc064_level0_col2\" class=\"col_heading level0 col2\" >Stats / Values</th>\n",
       "      <th id=\"T_fc064_level0_col3\" class=\"col_heading level0 col3\" >Freqs / (% of Valid)</th>\n",
       "      <th id=\"T_fc064_level0_col4\" class=\"col_heading level0 col4\" >Graph</th>\n",
       "      <th id=\"T_fc064_level0_col5\" class=\"col_heading level0 col5\" >Missing</th>\n",
       "    </tr>\n",
       "  </thead>\n",
       "  <tbody>\n",
       "    <tr>\n",
       "      <td id=\"T_fc064_row0_col0\" class=\"data row0 col0\" >1</td>\n",
       "      <td id=\"T_fc064_row0_col1\" class=\"data row0 col1\" ><strong>PassengerId</strong><br>[int64]</td>\n",
       "      <td id=\"T_fc064_row0_col2\" class=\"data row0 col2\" >Mean (sd) : 1100.5 (120.8)<br>min < med < max:<br>892.0 < 1100.5 < 1309.0<br>IQR (CV) : 208.5 (9.1)</td>\n",
       "      <td id=\"T_fc064_row0_col3\" class=\"data row0 col3\" >418 distinct values</td>\n",
       "      <td id=\"T_fc064_row0_col4\" class=\"data row0 col4\" ><img src = \"data:image/png;base64, iVBORw0KGgoAAAANSUhEUgAAAKoAAABGCAYAAABc8A97AAAAOXRFWHRTb2Z0d2FyZQBNYXRwbG90bGliIHZlcnNpb24zLjguMiwgaHR0cHM6Ly9tYXRwbG90bGliLm9yZy8g+/7EAAAACXBIWXMAAA9hAAAPYQGoP6dpAAACL0lEQVR4nO3Ysa6aYBiH8fcTj6ISiLHFzaVjkw6MXEQvtpdQE6/AoUsnNxNCINJjREqnjvWIVO2/eX6rvn7vF54w6Nq2NeBfN3j2AsA1hm99wTk3MbPRjb8/MLOfN872nT+1bft668FPvLfq3n3nL977YqjOuclisfgchuG866lN07xUVfUhCILvg8GgfvR8WZa5c+7LLQ/9mfdW3fve937rjToKw3CepulrFEXHLgfvdrv5drt9nyTJt+VymXeZ7TtfFIW/Xq/jLMveOefKrmebWRgEQZymafnIe6vu3Xe+KAp/s9nMsywbmdlNoZqZWRRFxziOf3Q5PM/ziZnZbDbrPNt3vqqql7quP61WK8/zvE4PzMysrmu/aZqP4/H46yPvrbr335g3s8mlD68KVc3pdBr6vj9NkuTY4+0wPZ/P3j32+xPVvR/hvwz1t75vh2dR3fue+HsKEggVEggVEggVEggVEggVEggVEggVEggVEggVEggVEggVEggVEggVEggVEggVEggVEggVEggVEggVEggVEggVEggVEggVEggVEggVEggVEggVEggVEggVEggVEggVEggVEggVEggVEggVEggVEggVEggVEggVEggVEggVEggVEggVEggVEggVEggVEggVEggVEggVEggVEggVEggVEggVEggVEggVEggVEggVEggVEggVEggVEobXfKkoCr/rDx8OB9/MrKoqf7/fTx85r3q26t5956/p6xcNclu+ajiPZwAAAABJRU5ErkJggg==\"></img></td>\n",
       "      <td id=\"T_fc064_row0_col5\" class=\"data row0 col5\" >0<br>(0.0%)</td>\n",
       "    </tr>\n",
       "    <tr>\n",
       "      <td id=\"T_fc064_row1_col0\" class=\"data row1 col0\" >2</td>\n",
       "      <td id=\"T_fc064_row1_col1\" class=\"data row1 col1\" ><strong>Pclass</strong><br>[int64]</td>\n",
       "      <td id=\"T_fc064_row1_col2\" class=\"data row1 col2\" >Mean (sd) : 2.3 (0.8)<br>min < med < max:<br>1.0 < 3.0 < 3.0<br>IQR (CV) : 2.0 (2.7)</td>\n",
       "      <td id=\"T_fc064_row1_col3\" class=\"data row1 col3\" >3 distinct values</td>\n",
       "      <td id=\"T_fc064_row1_col4\" class=\"data row1 col4\" ><img src = \"data:image/png;base64, iVBORw0KGgoAAAANSUhEUgAAAKoAAABGCAYAAABc8A97AAAAOXRFWHRTb2Z0d2FyZQBNYXRwbG90bGliIHZlcnNpb24zLjguMiwgaHR0cHM6Ly9tYXRwbG90bGliLm9yZy8g+/7EAAAACXBIWXMAAA9hAAAPYQGoP6dpAAABkUlEQVR4nO3cUWoiQRSG0apBRF+6EcHFuIhZ7CzC3chQPkzCgPasILE1XWT+5JzXtqRsPoT7cus0TQX+dz8++wIwx+qzL8DXUWvdllLWTx7/O03Ty1sPhcoiaq3b/X7/cxiG3TPnL5fL71rrr7diFSpLWQ/DsDsejy/jOL4+crC1tjmdTrvz+bwupQiV/sZxfD0cDn+eOLp976FhighCJYJQiSBUIgiVCEIlglCJIFQiCJUIQiWCUIkgVCIIlQhCJYJQiSBUIgiVCEIlglCJIFQiCJUIQiWCUIkgVCIIlQhCJYJQiSBUIgiVCEIlwt21kz23CMNc74bae4swzHXvH7XrFmGYa9bG6V5bhGEuwxQR7PDvwAC6PKEuzADah1CXZwDtQKidGECXZZgiglCJIFQiCJUIQiWCUIkgVCIIlQhCJYJQiSBUIgiVCEIlglCJIFQiCJUIQiWCUIkgVCIIlQhCJYJQiSBUIgiVCLMWULTWNo9+cWttc71eV6WUodb68MWCDbfbbfUN39mHfve9z/wDVd53ApmtWDAAAAAASUVORK5CYII=\"></img></td>\n",
       "      <td id=\"T_fc064_row1_col5\" class=\"data row1 col5\" >0<br>(0.0%)</td>\n",
       "    </tr>\n",
       "    <tr>\n",
       "      <td id=\"T_fc064_row2_col0\" class=\"data row2 col0\" >3</td>\n",
       "      <td id=\"T_fc064_row2_col1\" class=\"data row2 col1\" ><strong>Name</strong><br>[object]</td>\n",
       "      <td id=\"T_fc064_row2_col2\" class=\"data row2 col2\" >1. Kelly, Mr. James<br>2. Carr, Miss. Jeannie<br>3. Dennis, Mr. William<br>4. Rosblom, Miss. Salli Helena<br>5. Touma, Miss. Maria Youssef<br>6. Fleming, Miss. Honora<br>7. Peacock, Master. Alfred Edward<br>8. Oreskovic, Miss. Jelka<br>9. Oxenham, Mr. Percy Thomas<br>10. Ware, Mr. John James<br>11. other</td>\n",
       "      <td id=\"T_fc064_row2_col3\" class=\"data row2 col3\" >1 (0.2%)<br>1 (0.2%)<br>1 (0.2%)<br>1 (0.2%)<br>1 (0.2%)<br>1 (0.2%)<br>1 (0.2%)<br>1 (0.2%)<br>1 (0.2%)<br>1 (0.2%)<br>408 (97.6%)</td>\n",
       "      <td id=\"T_fc064_row2_col4\" class=\"data row2 col4\" ><img src = \"data:image/png;base64, iVBORw0KGgoAAAANSUhEUgAAAJsAAAD+CAYAAAAtWHdlAAAAOXRFWHRTb2Z0d2FyZQBNYXRwbG90bGliIHZlcnNpb24zLjguMiwgaHR0cHM6Ly9tYXRwbG90bGliLm9yZy8g+/7EAAAACXBIWXMAAA9hAAAPYQGoP6dpAAADaklEQVR4nO3cQUocYRRG0VfSGJ10I4JLSPbgIrLYLKIXkT2IWINonHQGIiQhs5Bb0Dln1rN/cOEh1OdyOp0GChdbP4D/h9jIiI2M2MiIjYzYyIiNjNjIiI2M2MhcLMvyaVmWq60fwvm7mJmPM/Nh64dw/pxRMmIjIzYyYiMjNjJiIyM2MmIjIzYyYiMjNjJiIyM2MmIjIzYyYiNzMTNfZ+b71g/h/C3+ixEVZ5SM2MhYV5GxriLjjJIRGxmxkREbGbGRERsZsZERGxmxkREbGbGRERsZsZERGxmxkTF4IWPwQsYZJSM2MgYvZAxeyDijZMRGRmxkxEZGbGTERkZsZMRGRmxkxEZGbGTERkZsZMRGRmxkDF7IGLyQcUbJiI2M2MhYV5GxriLjjJIRGxmxkREbGbGRERsZsZERGxmxkREbGbGRERsZsZERGxmxkbGuImNdRcYZJSM2MgYvZAxeyDijZMRGRmxkxEZGbGTERkZsZMRGRmxkxEZGbGTERkZsZMRGRmxkDF7IGLyQcUbJiI2MwQsZgxcyzigZsZERGxmxkREbGbGRERsZsZERGxmxkREbGbGRERsZsZERGxmxkbGuImNdRcYZJSM2MtZVZKyryDijZMRGRmxkxEZGbGTERkZsZMRGRmxkxEZGbGTERkZsZMRGRmxkDF7IGLyQcUbJiI2MwQsZgxcyzigZsZERGxmxkREbGbGRERsZsZERGxmxkREbGbGRERsZsZERGxmDFzIGL2ScUTJiIyM2MtZVZKyryDijZMRGRmxkxEZGbGTERkZsZMRGRmxkxEZGbGTERkZsZMRGRmxkrKvIWFeRcUbJiI2MwQsZgxcyzigZsZERGxmxkREbGbGRERsZsZERGxmxkREbGbGRERsZsZERGxmDFzIGL2ScUTLLzFzPzOXWD+EsvZ5Op+f3H7vb29vP+/3+ZssXcZ7WdX1cluXLe3C7/X5/c39//3w4HF62fhzn4+np6ep4PN48PDxczsxbbDMzh8Ph5e7u7tumr+McXf/8wx8IZMRGRmxkxEZGbGTERkZsZMRGRmxkxEZGbGTERkZsZHYzb5+DbP0Qzsufmtqt6/p4PB5v5rfPQeBvrev6ODOv7799Fs6/9Mtn4dZVZPyBQEZsZMRGRmxkxEZGbGTERkZsZMRG5geWtG4kbAREDwAAAABJRU5ErkJggg==\"></img></td>\n",
       "      <td id=\"T_fc064_row2_col5\" class=\"data row2 col5\" >0<br>(0.0%)</td>\n",
       "    </tr>\n",
       "    <tr>\n",
       "      <td id=\"T_fc064_row3_col0\" class=\"data row3 col0\" >4</td>\n",
       "      <td id=\"T_fc064_row3_col1\" class=\"data row3 col1\" ><strong>Sex</strong><br>[object]</td>\n",
       "      <td id=\"T_fc064_row3_col2\" class=\"data row3 col2\" >1. male<br>2. female</td>\n",
       "      <td id=\"T_fc064_row3_col3\" class=\"data row3 col3\" >266 (63.6%)<br>152 (36.4%)</td>\n",
       "      <td id=\"T_fc064_row3_col4\" class=\"data row3 col4\" ><img src = \"data:image/png;base64, iVBORw0KGgoAAAANSUhEUgAAAJsAAAAuCAYAAAA/ZmtKAAAAOXRFWHRTb2Z0d2FyZQBNYXRwbG90bGliIHZlcnNpb24zLjguMiwgaHR0cHM6Ly9tYXRwbG90bGliLm9yZy8g+/7EAAAACXBIWXMAAA9hAAAPYQGoP6dpAAABOUlEQVR4nO3bQYqDQBRF0WcjoTNRRHAxLqIX24twNyLWIAmZVA96Db5K/bpnBT/kIiT4upyzAIdO0l3SrfQhkCS9c87P0kdcpZ/n+WcYhqn0IZBSSkfXdb9Rg+uHYZjWdX2O4/gqfUzLzvP83rZt2vf9JilmbJI0juNrWZZH6WOge+kDrvRV+gC0g9hgQ2ywITbYEBtsiA02xAYbYoMNscGG2GBDbLAhNtgQG2yIDTbEBpte+n9xr/QhrWvhO+hTSse2bZOCv7hXg5TSIeld+o6rMHj5LKEHLx1TPri08GQL/bSoSfgpX/R5XE1CT/lamMfVpIUpH7+yPwR/6sKG2GBDbLAhNtgQG2yIDTbEBhtigw2xwYbYYENssCE22BAbbIgNNsQGm9BTvqifq1bhp3zR53E1YfACmz8KW2rfhAtVNAAAAABJRU5ErkJggg==\"></img></td>\n",
       "      <td id=\"T_fc064_row3_col5\" class=\"data row3 col5\" >0<br>(0.0%)</td>\n",
       "    </tr>\n",
       "    <tr>\n",
       "      <td id=\"T_fc064_row4_col0\" class=\"data row4 col0\" >5</td>\n",
       "      <td id=\"T_fc064_row4_col1\" class=\"data row4 col1\" ><strong>Age</strong><br>[float64]</td>\n",
       "      <td id=\"T_fc064_row4_col2\" class=\"data row4 col2\" >Mean (sd) : 30.3 (14.2)<br>min < med < max:<br>0.2 < 27.0 < 76.0<br>IQR (CV) : 18.0 (2.1)</td>\n",
       "      <td id=\"T_fc064_row4_col3\" class=\"data row4 col3\" >79 distinct values</td>\n",
       "      <td id=\"T_fc064_row4_col4\" class=\"data row4 col4\" ><img src = \"data:image/png;base64, iVBORw0KGgoAAAANSUhEUgAAAKoAAABGCAYAAABc8A97AAAAOXRFWHRTb2Z0d2FyZQBNYXRwbG90bGliIHZlcnNpb24zLjguMiwgaHR0cHM6Ly9tYXRwbG90bGliLm9yZy8g+/7EAAAACXBIWXMAAA9hAAAPYQGoP6dpAAACpElEQVR4nO3dwWoaQRzH8d9olFXTFZHqzUuPhR485iH6sH2EHnwCD730lEsQRBS3EdfVHgqlhZC4O7tx/sP3cx8dwpfFmZ0w7nK5CAhd69YTAK5xd+sJNMU515PU9fiI4+Vyea5rPvATZajOud54PP6apumo6mfsdruNc+4bsYYhylAlddM0HT08PDwPh8ND2cHb7TZZLBaj9XrdlUSoAYg1VEnScDg8TCaTXxWH92qdDLywmIIJhAoTCBUmECpMIFSYQKgwgVBhAqHCBEKFCYQKEwgVJhAqTCBUmECoMCHoY34ep/TT8/ncqXs+uJ1gQ/U5pZ/neVIUxefD4fBdUtXzqAhIsKHK45T+4+PjaLlc9k+nU7upyeF9hRyqpGqn9DebDafzI8NiCiYQKkwgVJhAqDCBUGECocIEQoUJhAoTCBUmECpMIFSYQKgwgVBhAqHCBEKFCcGfR72Voig6klLnXJXhXFRRM0J9QZZlnTzPv8xms3a73S59BwAXVdSPUF9wPB7vkiTpz+fzw3Q63ZQZy0UVzSDUVwwGg6qXVfCvMDVjMQUTeKI2gIVY/Qi1ZizEmkGoNWMh1gxCbQgLsXqxmIIJhAoTCBUmECpMYDEVGM89WCnSfVhCDYjvHqwU7z4soQbEZw9WinsfllAD5LEHK0W6D8tiCibwRI1MrAdi3gzV42YS6c8T+1xxLDeblBTzgZhXQ/W5maQoik6WZZ/u7+9/tlqtvOx4bjYpL+YDMW89UX1vJvk4n89/VFnBcrNJdTEeiLnqN6rPzSRV/2jcbIJ/seqHCaz68VfIr28JFZLCf31LqJAU/utbQsV/Qn19y2IKJvBERW2afH17Vajb7TYp+637/T6RpCzLktVq1X/P8Va/2+q8Jenp6elDk69vfwNlJaDdSjSRgAAAAABJRU5ErkJggg==\"></img></td>\n",
       "      <td id=\"T_fc064_row4_col5\" class=\"data row4 col5\" >86<br>(20.6%)</td>\n",
       "    </tr>\n",
       "    <tr>\n",
       "      <td id=\"T_fc064_row5_col0\" class=\"data row5 col0\" >6</td>\n",
       "      <td id=\"T_fc064_row5_col1\" class=\"data row5 col1\" ><strong>SibSp</strong><br>[int64]</td>\n",
       "      <td id=\"T_fc064_row5_col2\" class=\"data row5 col2\" >Mean (sd) : 0.4 (0.9)<br>min < med < max:<br>0.0 < 0.0 < 8.0<br>IQR (CV) : 1.0 (0.5)</td>\n",
       "      <td id=\"T_fc064_row5_col3\" class=\"data row5 col3\" >7 distinct values</td>\n",
       "      <td id=\"T_fc064_row5_col4\" class=\"data row5 col4\" ><img src = \"data:image/png;base64, iVBORw0KGgoAAAANSUhEUgAAAKoAAABGCAYAAABc8A97AAAAOXRFWHRTb2Z0d2FyZQBNYXRwbG90bGliIHZlcnNpb24zLjguMiwgaHR0cHM6Ly9tYXRwbG90bGliLm9yZy8g+/7EAAAACXBIWXMAAA9hAAAPYQGoP6dpAAACEklEQVR4nO3dwW7aQBRG4XtLgkyIPAIq2PEIWbBkn20fttsukXgYJCsMwjUBIWeTVJWqFjwWKT8635oZG+kIy4vhel3XBly7L//7BoBz3J36gLv3zKybuP++rusqcS3wyz9DdffeaDT6luf5IGXzzWbz4u7fiRVtnfpF7eZ5PpjP51UIYddk4xhjtlwuB0VRdM2MUNHKyUe/mVkIYTcej38m7N9LWAP8gZcpSCBUSCBUSCBUSCBUSCBUSCBUSCBUSCBUSCBUSCBUSCBUSCBUSCBUSCBUSCBUSCBUSCBUSCBUSCBUSCBUSCBUSCBUSCBUSCBUSCBUSCBUSCBUSCBUSCBUSCBUSCBUSCBUSCBUSCBUSCBUSCBUSDhrKkqq4/F4b2a5u6duwUA1mNkFQy3L8v5wODxNp9NOp9NpNKPqAwPV8OFioe73+7ssyx5ms9luMpm8NF3PQDX87qKPfjOzfr+fOkzNjIFqeMfLFCQQKiQQKiQQKiQQKiQQKiQQKiQQKiQQKiQQKiQQKiQQKiQQKiQQKiQQKiQQKiQQKiQQKiQQKiRc/MxUGy2PW3PU+oZcbahtj1tz1Pq2XG2obY5bxxizxWIxLoriq7tvUm8hNXJ375lZ97Ove8vOCjXGmDXdeLvdZmZmZVlmq9XqIXV9iqqqWv/5xXq93rr7DzNruj4bDofPIYTHT76uute6rv/6nd8AP5WgO9JyQsYAAAAASUVORK5CYII=\"></img></td>\n",
       "      <td id=\"T_fc064_row5_col5\" class=\"data row5 col5\" >0<br>(0.0%)</td>\n",
       "    </tr>\n",
       "    <tr>\n",
       "      <td id=\"T_fc064_row6_col0\" class=\"data row6 col0\" >7</td>\n",
       "      <td id=\"T_fc064_row6_col1\" class=\"data row6 col1\" ><strong>Parch</strong><br>[int64]</td>\n",
       "      <td id=\"T_fc064_row6_col2\" class=\"data row6 col2\" >Mean (sd) : 0.4 (1.0)<br>min < med < max:<br>0.0 < 0.0 < 9.0<br>IQR (CV) : 0.0 (0.4)</td>\n",
       "      <td id=\"T_fc064_row6_col3\" class=\"data row6 col3\" >8 distinct values</td>\n",
       "      <td id=\"T_fc064_row6_col4\" class=\"data row6 col4\" ><img src = \"data:image/png;base64, iVBORw0KGgoAAAANSUhEUgAAAKoAAABGCAYAAABc8A97AAAAOXRFWHRTb2Z0d2FyZQBNYXRwbG90bGliIHZlcnNpb24zLjguMiwgaHR0cHM6Ly9tYXRwbG90bGliLm9yZy8g+/7EAAAACXBIWXMAAA9hAAAPYQGoP6dpAAACCklEQVR4nO3ZwYraUBSH8XOrI3GkCSLEnY/QhUsfog872+7zLCIEvcGMmYjcrtpNaR1vJm3+6fdbew9BPpKjcSEEA4bu07++AOA9pvc+4Jybm9kscn4bQrhEngV++mOozrn5arX6mqbpMmZ4VVVH59wLsaKre3fUWZqmy91ud8myrHlksPc+KYpiWZblzMwIFZ3cffSbmWVZ1uR5/hoxfx5xBvgFP6YggVAhgVAhgVAhgVAhgVAhgVAhgVAhgVAhgVAhgVAhgVAhgVAhgVAhgVAhgVAhgVAhgVAhgVAhgVAhgVAhgVAhgVAhgVAhgVAhgVAhgVAhgVAhgVAhgVAhgVAhgVAhgVAhgVAhgVAhgVAhgVAhgVAhgVAhgVAhgVAhgVAhgVAhgVAhgVAhgVAhgVAhgVAhgVAhgVAhgVAhgVAhYdrn8Nvt9mRmqXMudkQbQrh84CVBVG+h1nX9dL1ev2w2m8lkMmliZlRVdXTOvRAregu1bdtpkiTP2+22Wa/Xx0fPe++ToiiWZVnOzIxQ/3O9PvrNzBaLRZPn+Wvk8fmHXgxk9R5qFx13XPbbERlsqF13XPbbcRlsqF12XPbb8RlsqD902HHZb0eEP/whgVAhYfCP/li8FRuXd4XqvU8eHXw+nxMzs7quk8Ph8Pw3z+/3+89d34qdTqezc+6bmUWdx8PeQgi//a6/A7hqn/Lz+lD8AAAAAElFTkSuQmCC\"></img></td>\n",
       "      <td id=\"T_fc064_row6_col5\" class=\"data row6 col5\" >0<br>(0.0%)</td>\n",
       "    </tr>\n",
       "    <tr>\n",
       "      <td id=\"T_fc064_row7_col0\" class=\"data row7 col0\" >8</td>\n",
       "      <td id=\"T_fc064_row7_col1\" class=\"data row7 col1\" ><strong>Ticket</strong><br>[object]</td>\n",
       "      <td id=\"T_fc064_row7_col2\" class=\"data row7 col2\" >1. PC 17608<br>2. CA. 2343<br>3. 113503<br>4. PC 17483<br>5. 220845<br>6. 347077<br>7. SOTON/O.Q. 3101315<br>8. C.A. 31029<br>9. 16966<br>10. 230136<br>11. other</td>\n",
       "      <td id=\"T_fc064_row7_col3\" class=\"data row7 col3\" >5 (1.2%)<br>4 (1.0%)<br>4 (1.0%)<br>3 (0.7%)<br>3 (0.7%)<br>3 (0.7%)<br>3 (0.7%)<br>3 (0.7%)<br>3 (0.7%)<br>2 (0.5%)<br>385 (92.1%)</td>\n",
       "      <td id=\"T_fc064_row7_col4\" class=\"data row7 col4\" ><img src = \"data:image/png;base64, iVBORw0KGgoAAAANSUhEUgAAAJsAAAD+CAYAAAAtWHdlAAAAOXRFWHRTb2Z0d2FyZQBNYXRwbG90bGliIHZlcnNpb24zLjguMiwgaHR0cHM6Ly9tYXRwbG90bGliLm9yZy8g+/7EAAAACXBIWXMAAA9hAAAPYQGoP6dpAAADt0lEQVR4nO3cMW4bVxhG0Z8E4UTNEAQBLUML8CK0WC+CC9A+BEFTRI4apbDcmw54iTDn1CqmuHgkB+/T5uPjY6CwvfYD8P8hNjJiIyM2MmIjIzYyYiMjNjJiI7OZmbuZ+TIz7x8fH29Xfh5u2O54PD4uy3JY1/Vls9l8ExyXsl2W5fDw8DDLshzmxwkHF7Gdmbm7u/v72g/C7fMDgYzYyIiNjNjIiI2M2MiIjYzYyIiNjNjIiI2M2MiIjYzYyGxnZt7e3v649oNw+7brur48PT3Nuq4vM/N+7QfidtkgkNn4l1lUfp5s41Tj0nbH4/FxZsayikvbLstysKyi4D0bGbGRERsZsZERGxmxkREbGbGRERsZsZERGxmxkREbGbGRERuZ3efQZcbYhQtzLZyMwQsZJxsZgxcyBi9kvPogIzYyYiMjNjJiIyM2MmIjIzYyYiMjNjJiIyM2MmIjIzYyYiNj8ELGtXAyBi9kfGcj42OUjHUVGesqMr6zkREbGbGRERsZsZERGxmxkREbGbGRERsZsZERGxmxkREbGbGRsa4i41o4GesqMk42MgYvZAxeyHj1QUZsZMRGRmxkxEZGbGTERkZsZMRGRmxkxEZGbGTERkZsZMRGxuCFjGvhZAxeyDjZyBi8kDF4IePVBxmxkREbGbGRERsZsZERGxmxkREbGbGRERsZsZERGxmxkREbGbGRsa4iY4NAxrqKjJONjHUVGesqMl59kBEbGbGRERsZsZERGxmxkREbGbGRERsZsZERGxmxkREbGbGRMXgh41o4GYMXMk42MgYvZAxeyHj1QUZsZMRGRmxkxEZGbGTERkZsZMRGRmxkxEZGbGTERkZsZMRGxuCFjGvhZAxeyPjORsbHKBnrKjLWVWR8ZyMjNjJiIyM2MmIjIzYyYiMjNjJiIyM2MmIjIzYyYiMjNjJiI2NdRca1cDLWVWScbGQMXsgYvJDx6oOM2MiIjYzYyIiNjNjIiI2M2MiIjYzYyIiNjNjIiI2M2MiIjYzBCxnXwskYvJD5ebK5Es7veD/nE3F3PB4fPzcIcJZ1XV/OGUrtlmU5fP369W2/33+/9MNxO15fX/88nU6H5+fnLzPza7HNzOz3++/39/d/XfTpuEV35/yx92xkxEZGbGTERkZsZMRGRmxkxEZGbGTERkZsZMRGRmxkdjM/rotc+0H4b/mdZnbrur6cTqfDnHldBD7HUr88lHItnH/jrGvhBi9k/EAgIzYyYiMjNjJiIyM2MmIjIzYyYiPzD7eAIOrukwyHAAAAAElFTkSuQmCC\"></img></td>\n",
       "      <td id=\"T_fc064_row7_col5\" class=\"data row7 col5\" >0<br>(0.0%)</td>\n",
       "    </tr>\n",
       "    <tr>\n",
       "      <td id=\"T_fc064_row8_col0\" class=\"data row8 col0\" >9</td>\n",
       "      <td id=\"T_fc064_row8_col1\" class=\"data row8 col1\" ><strong>Fare</strong><br>[float64]</td>\n",
       "      <td id=\"T_fc064_row8_col2\" class=\"data row8 col2\" >Mean (sd) : 35.6 (55.9)<br>min < med < max:<br>0.0 < 14.5 < 512.3<br>IQR (CV) : 23.6 (0.6)</td>\n",
       "      <td id=\"T_fc064_row8_col3\" class=\"data row8 col3\" >169 distinct values</td>\n",
       "      <td id=\"T_fc064_row8_col4\" class=\"data row8 col4\" ><img src = \"data:image/png;base64, iVBORw0KGgoAAAANSUhEUgAAAKoAAABGCAYAAABc8A97AAAAOXRFWHRTb2Z0d2FyZQBNYXRwbG90bGliIHZlcnNpb24zLjguMiwgaHR0cHM6Ly9tYXRwbG90bGliLm9yZy8g+/7EAAAACXBIWXMAAA9hAAAPYQGoP6dpAAACS0lEQVR4nO3Yv27aYBSH4XMKoTYgAyIxGysbAyNL7yAXm7U7K+I2kAzYwoFAkbt16R9iG5T81PeZOcdGesHweVEUBnx2Xz76BoD3aF57gbuHZtaquP9UFMWh4izwyz9DdfdwOBw+R1E0qLI8y7Ktu78QK+q69o3aiqJoMJ/PD71e71hmcZqmwWKxGCRJ0jIzQkUtVx/9Zma9Xu8Yx/Frhf1hhRngN/yZggRChQRChQRChQRChQRChQRChQRChQRChQRChQRChQRChQRChQRChQRChQRChQRChQRChQRChQRChQRChQRChQRChQRChQRChQRChQRChQRChQRChQRChQRChQRChQRChQRChQRChQRChQRChQRChQRChQRChQRChQRChQRChQRChQRChQRChQRChQRChQRChQRChQRChQRChQRChQRChYTmPZdfLpcHM4vcveqKU1EUhxveEkTdLdQ8zx/O5/N0PB43Go3GscqOLMu27v5CrLhbqKfTqRkEQXs2mx1Ho9G27HyapsFisRgkSdIyM0L9z9310W9m1ul0jnEcv1YcD296M5DFnylIIFRIIFRIuPtv1DpqHm/VOtpy99DMWhXHOVa7sU8bat3jrTpHW+4eDofD5yiKBmVnzcx2u93e3b+bWZVjOSL/g3eFmqZpUHbxfr8PzMzyPA/W63W77Pxms+kGQdCeTCbe7/ffysweDoevy+XyKUmSR3fPyl7bzKJut/s0nU5/hGFY6tq73a67Wq2+jcfjxyofsJqRK3sriuKv7/knE12e01j3bg4AAAAASUVORK5CYII=\"></img></td>\n",
       "      <td id=\"T_fc064_row8_col5\" class=\"data row8 col5\" >1<br>(0.2%)</td>\n",
       "    </tr>\n",
       "    <tr>\n",
       "      <td id=\"T_fc064_row9_col0\" class=\"data row9 col0\" >10</td>\n",
       "      <td id=\"T_fc064_row9_col1\" class=\"data row9 col1\" ><strong>Cabin</strong><br>[object]</td>\n",
       "      <td id=\"T_fc064_row9_col2\" class=\"data row9 col2\" >1. nan<br>2. B57 B59 B63 B66<br>3. C89<br>4. C116<br>5. C80<br>6. C55 C57<br>7. C101<br>8. A34<br>9. C23 C25 C27<br>10. C31<br>11. other</td>\n",
       "      <td id=\"T_fc064_row9_col3\" class=\"data row9 col3\" >327 (78.2%)<br>3 (0.7%)<br>2 (0.5%)<br>2 (0.5%)<br>2 (0.5%)<br>2 (0.5%)<br>2 (0.5%)<br>2 (0.5%)<br>2 (0.5%)<br>2 (0.5%)<br>72 (17.2%)</td>\n",
       "      <td id=\"T_fc064_row9_col4\" class=\"data row9 col4\" ><img src = \"data:image/png;base64, iVBORw0KGgoAAAANSUhEUgAAAJsAAAD+CAYAAAAtWHdlAAAAOXRFWHRTb2Z0d2FyZQBNYXRwbG90bGliIHZlcnNpb24zLjguMiwgaHR0cHM6Ly9tYXRwbG90bGliLm9yZy8g+/7EAAAACXBIWXMAAA9hAAAPYQGoP6dpAAAD1ElEQVR4nO3cQWrbWgCG0etiQjuRMAYvxovIYt8itBsTrEETMnEHTXfw/MnE52xAgnwoirh/drfbbUDhx9Y3wPMQGxmxkREbGbGRERsZsZERGxmxkdmNMX6NMV62vhHu6vN2u71vfRP74/H4Ok3TYesb4X7WdX3b7Xb/bR3cfpqmw/l8fp/n+WPLG+E+rtfrz2VZDpfL5WWMsW1sY4wxz/PH6XT6veWNcFe/tr6BMfyBQEhsZMRGRmxkxEZGbGTERkZsZMRGRmxkxEZGbGTERkZsZPZj/D3ztPWNcB+P9LPdr+v6tizLYTzImSf+f+u6vo0xPre+DxuE5/AQG4Sdf5lF5d+TbTxC+Xxv++Px+DrGGI+wvuF7+zFN0+Fryue9jbvynY2M2MiIjYzYyIiNjNjIiI2M2MiIjYzYyIiNjNjIiI2M2MiIjcz+awwxxgMMIvjeHAsnY/BCxpONjMELGYMXMj59kBEbGbGRERsZsZERGxmxkREbGbGRERsZsZERGxmxkREbGbGRMXgh41g4GYMXMt7ZyPg1Ssa6iox1FRnvbGTERkZsZMRGRmxkxEZGbGTERkZsZMRGRmxkxEZGbGTERkZsZKyryDgWTsa6iownGxmDFzIGL2R8+iAjNjJiIyM2MmIjIzYyYiMjNjJiIyM2MmIjIzYyYiMjNjJiI2PwQsaxcDIGL2Q82cgYvJAxeCHj0wcZsZERGxmxkREbGbGRERsZsZERGxmxkREbGbGRERsZsZERGxmxkbGuImODQMa6iownGxnrKjLWVWR8+iAjNjJiIyM2MmIjIzYyYiMjNjJiIyM2MmIjIzYyYiMjNjJiI2PwQsaxcDIGL2Q82cgYvJAxeCHj0wcZsZERGxmxkREbGbGRERsZsZERGxmxkREbGbGRERsZsZERGxmDFzKOhZMxeCHjnY2MX6NkrKvIWFeR8c5GRmxkxEZGbGTERkZsZMRGRmxkxEZGbGTERkZsZMRGRmxkxEbGuoqMY+FkrKvIeLKRMXghY/BCxqcPMmIjIzYyYiMjNjJiIyM2MmIjIzYyYiMjNjJiIyM2MmIjIzYyBi9kHAsnY/BC5t+TrToS/ukJ+rz2x+Px9WuDcHfrur4Z1jyv/TRNh/P5/D7P88c9L3S9Xn8uy3K4XC4vYwyxPaH9GGPM8/xxOp1+B9f7FVyDB+U7GxmxkREbGbGRERsZsZERGxmxkREbGbGRERsZsZERG5n9GH+P/9z7QsU1eGz7dV3flmU5jOD4z9e4xrDmSTkWTsbghYw/EMiIjYzYyIiNjNjIiI2M2MiIjYzYyPwBgiEwBZJhVYcAAAAASUVORK5CYII=\"></img></td>\n",
       "      <td id=\"T_fc064_row9_col5\" class=\"data row9 col5\" >327<br>(78.2%)</td>\n",
       "    </tr>\n",
       "    <tr>\n",
       "      <td id=\"T_fc064_row10_col0\" class=\"data row10 col0\" >11</td>\n",
       "      <td id=\"T_fc064_row10_col1\" class=\"data row10 col1\" ><strong>Embarked</strong><br>[object]</td>\n",
       "      <td id=\"T_fc064_row10_col2\" class=\"data row10 col2\" >1. S<br>2. C<br>3. Q</td>\n",
       "      <td id=\"T_fc064_row10_col3\" class=\"data row10 col3\" >270 (64.6%)<br>102 (24.4%)<br>46 (11.0%)</td>\n",
       "      <td id=\"T_fc064_row10_col4\" class=\"data row10 col4\" ><img src = \"data:image/png;base64, iVBORw0KGgoAAAANSUhEUgAAAJsAAABFCAYAAABdVZTTAAAAOXRFWHRTb2Z0d2FyZQBNYXRwbG90bGliIHZlcnNpb24zLjguMiwgaHR0cHM6Ly9tYXRwbG90bGliLm9yZy8g+/7EAAAACXBIWXMAAA9hAAAPYQGoP6dpAAABnUlEQVR4nO3bQWrbYBSF0adiQjqRMAYvxovoYrsI7cYYa9CETJSBodMaolypv85ZwQN/sSPj283zXJDwY+0D2I+uqn5W1cvah/DXxzzPb2sf8R0Op9PpV9/3x7UP4WGaplvXdb9bDO7Q9/3xcrm8DcPwvvYxe3e/31/HcTxer9eXqmovtqqqYRjez+fzn7WPoaoe/9Y0yQMCMWIjRmzEiI0YsREjNmLERozYiBEbMWIjRmzEiI0YsREjNmIOVY/fUa19CO2/Dodpmm7jOB6r4d9R/U+mabpV1cfad3wHG4TtaXaD0JnykbLld7Zm/8L3arPrqpZXRnu1yXVV6yujvdryusrTcWN8qUuM2IgRGzFiI0ZsxIiNGLERIzZixEaM2IgRGzFiI0ZsxIiNmE2uq7Z2D8vY7Lqq5ZXRXtkgEGNdRYwHBGKW+hj1kcc/LTLlM7vjGV+e8pnd8aylpnyb+tqEbfKAQIzYiBEbMWIjRmzEiI0YsREjNmLERozYiBEbMWIjRmzEiI2YL0/5zO541iJTPrM7nmGDQIwpHzGfSryjSk3KxcEAAAAASUVORK5CYII=\"></img></td>\n",
       "      <td id=\"T_fc064_row10_col5\" class=\"data row10 col5\" >0<br>(0.0%)</td>\n",
       "    </tr>\n",
       "    <tr>\n",
       "      <td id=\"T_fc064_row11_col0\" class=\"data row11 col0\" >12</td>\n",
       "      <td id=\"T_fc064_row11_col1\" class=\"data row11 col1\" ><strong>WikiId</strong><br>[float64]</td>\n",
       "      <td id=\"T_fc064_row11_col2\" class=\"data row11 col2\" >Mean (sd) : 643.7 (379.5)<br>min < med < max:<br>2.0 < 641.0 < 1313.0<br>IQR (CV) : 649.0 (1.7)</td>\n",
       "      <td id=\"T_fc064_row11_col3\" class=\"data row11 col3\" >415 distinct values</td>\n",
       "      <td id=\"T_fc064_row11_col4\" class=\"data row11 col4\" ><img src = \"data:image/png;base64, iVBORw0KGgoAAAANSUhEUgAAAKoAAABGCAYAAABc8A97AAAAOXRFWHRTb2Z0d2FyZQBNYXRwbG90bGliIHZlcnNpb24zLjguMiwgaHR0cHM6Ly9tYXRwbG90bGliLm9yZy8g+/7EAAAACXBIWXMAAA9hAAAPYQGoP6dpAAACi0lEQVR4nO3dvW7aUBiH8fdAQOZDRggVNpaOlTowchG92F5CB66AoUsmNiSEjHCDMMYdqk5t+DjGsf/m+e0nHEeP7dc4UlyWZQZUXaPsDQC3eCl7A5c45zpm1vZcfsyy7O2R+0F5Khuqc64zGo2+hWE49Fm/2+22zrnvxFoPV0Mt8arWDsNwOJ/P3waDweGehVEUBYvFYrjZbNpmRqg1cDHUKlzVBoPBYTwe//JY2vH9TDPdsUN139dcu6I+5VWtCieoD9V93+KmGbWsq1qJVE9Q1X1fVejDVJqmLTMLnXM+y8Pz+dx68Jbu4nuCpmkamv9x57791vHCUliocRy3kiT5Op1Om81m866z28wsSZIgTdMvh8Phh5n5/NJLkfe4q3z7LVNhoR6Px5cgCLqz2ewwmUy2965frVbD5XLZPZ1OzSL2V5Q8x13122+ZCv8etdfred2GttttZW9Dt/A9bivx9ptzVDP786bz7Ln24shT2S/881Kfjz9a3pElTdNWHMef+/3+a6PRSO5df23kqWWozzof5/GgUe3TbDb7WcTIU8tQn3U+foS8o1pRI08tQ/3rWefjOuLP/CCBUCGBUCGBUCGBUCGh1k/9inhR8X+EWiG8qHgfoVYILyreR6gVxIuKf/EwBQmECgmECgmECgmECgmECgmECgmECgmECgmECgmECgmECgmECgmECgmECgmECgmECgmECgmECgmECgmECgmECgmECgmECgmECgmECgmECgmECgmECgmECgmECgmECgmECgmECgmECgmECgmECgmECgmECgmECgmECgmECgmECgmECgk3/dPeKIqCe3/wfr8PzMziOA7W63X3I9erfrbqvvOuv6Wv37GUs6WR+p+tAAAAAElFTkSuQmCC\"></img></td>\n",
       "      <td id=\"T_fc064_row11_col5\" class=\"data row11 col5\" >3<br>(0.7%)</td>\n",
       "    </tr>\n",
       "    <tr>\n",
       "      <td id=\"T_fc064_row12_col0\" class=\"data row12 col0\" >13</td>\n",
       "      <td id=\"T_fc064_row12_col1\" class=\"data row12 col1\" ><strong>Name_wiki</strong><br>[object]</td>\n",
       "      <td id=\"T_fc064_row12_col2\" class=\"data row12 col2\" >1. nan<br>2. Kelly, Mr. James<br>3. Bryhl, Miss Dagmar Jenny Ingeb<br>4. Dennis, Mr. William<br>5. Rosblom, Miss Salli Helena<br>6. Touma, Miss Marianna Youssef<br>7. Fleming, Miss Honora \"Nora\"<br>8. Peacock, Master Albert Edward<br>9. Orešković, Miss Jelka<br>10. Oxenham, Mr. Percy Thomas<br>11. other</td>\n",
       "      <td id=\"T_fc064_row12_col3\" class=\"data row12 col3\" >3 (0.7%)<br>1 (0.2%)<br>1 (0.2%)<br>1 (0.2%)<br>1 (0.2%)<br>1 (0.2%)<br>1 (0.2%)<br>1 (0.2%)<br>1 (0.2%)<br>1 (0.2%)<br>406 (97.1%)</td>\n",
       "      <td id=\"T_fc064_row12_col4\" class=\"data row12 col4\" ><img src = \"data:image/png;base64, iVBORw0KGgoAAAANSUhEUgAAAJsAAAD+CAYAAAAtWHdlAAAAOXRFWHRTb2Z0d2FyZQBNYXRwbG90bGliIHZlcnNpb24zLjguMiwgaHR0cHM6Ly9tYXRwbG90bGliLm9yZy8g+/7EAAAACXBIWXMAAA9hAAAPYQGoP6dpAAADmUlEQVR4nO3cQWojZxRG0VdGOO1JCSHwEpI9eBG92F6EFpE9GOMaxB1PlEHHkISeNX0LlHNG1uwfXHg26PNyvV4HCnd7P4D/D7GRERsZsZERGxmxkREbGbGRERuZZWYeZmau1+vbzm/hxh3O5/PnmZllWb4Ijp/pbl3X07qup5m53/sx3Da/s5ERGxmxkREbGbGRERsZsZERGxmxkREbGbGRERsZsZERGxmxkREbmcO2bS9///y+60u4eTYIZBb/MouK39nI3C3L8tuyLJ/2fgi3725mfp2ZX/Z+CLfPGSUjNjJiIyM2MmIjIzYyYiMjNjJiIyM2MmIjIzYyYiMjNjJiI3M3M7/PzJ97P4TbZ4NAxhklIzYyBi9kDF7IOKNkxEZGbGTERkZsZMRGRmxkxEZGbGTERkZsZMRGRmxkxEZGbGQMXsgYvJBxRsmIjYzYyFhXkbGuIuOMkhEbGbGRERsZsZERGxmxkREbGbGRERsZsZERGxmxkREbGbGRsa4iY11FxhklIzYyBi9kDF7IOKNkxEZGbGTERkZsZMRGRmxkxEZGbGTERkZsZMRGRmxkxEZGbGQMXsgYvJBxRsmIjYzBCxmDFzLOKBmxkREbGbGRERsZsZERGxmxkREbGbGRERsZsZERGxmxkREbGbGRsa4iY11FxhklIzYy1lVkrKvIOKNkxEZGbGTERkZsZMRGRmxkxEZGbGTERkZsZMRGRmxkxEZGbGQMXsgYvJBxRsmIjYzBCxmDFzLOKBmxkREbGbGRERsZsZERGxmxkREbGbGRERsZsZERGxmxkREbGYMXMgYvZJxRMmIjIzYy1lVkrKvIOKNkxEZGbGTERkZsZMRGRmxkxEZGbGTERkZsZMRGRmxkxEZGbGSsq8hYV5FxRsmIjYzBCxmDFzLOKBmxkREbGbGRERsZsZERGxmxkREbGbGRERsZsZERGxmxkREbGYMXMgYvZJxRMsvMPMzM/d4P4Sa9X6/Xt48Ph/P5/Hld19OeL+I2bdv2sizLl4/gDuu6np6ent6Ox+PXvR/H7Xh9ff10uVxOz8/P9zPzLbaZmePx+PXx8fGPXV/HLXr45wd/IJARGxmxkREbGbGRERsZsZERGxmxkREbGbGRERsZsZE5zHz7OsjeD+G2fK+pw7ZtL5fL5TT/+ToI/Kht215m5v3js6+F8zP962vh1lVk/IFARmxkxEZGbGTERkZsZMRGRmxkxEbmL8G/flYakiJ2AAAAAElFTkSuQmCC\"></img></td>\n",
       "      <td id=\"T_fc064_row12_col5\" class=\"data row12 col5\" >3<br>(0.7%)</td>\n",
       "    </tr>\n",
       "    <tr>\n",
       "      <td id=\"T_fc064_row13_col0\" class=\"data row13 col0\" >14</td>\n",
       "      <td id=\"T_fc064_row13_col1\" class=\"data row13 col1\" ><strong>Age_wiki</strong><br>[float64]</td>\n",
       "      <td id=\"T_fc064_row13_col2\" class=\"data row13 col2\" >Mean (sd) : 29.6 (13.4)<br>min < med < max:<br>0.2 < 27.0 < 67.0<br>IQR (CV) : 16.0 (2.2)</td>\n",
       "      <td id=\"T_fc064_row13_col3\" class=\"data row13 col3\" >65 distinct values</td>\n",
       "      <td id=\"T_fc064_row13_col4\" class=\"data row13 col4\" ><img src = \"data:image/png;base64, iVBORw0KGgoAAAANSUhEUgAAAKoAAABGCAYAAABc8A97AAAAOXRFWHRTb2Z0d2FyZQBNYXRwbG90bGliIHZlcnNpb24zLjguMiwgaHR0cHM6Ly9tYXRwbG90bGliLm9yZy8g+/7EAAAACXBIWXMAAA9hAAAPYQGoP6dpAAACnklEQVR4nO3cT27iMBSA8eehlPBHiRAS7LjASLNgmUPMYecIXXACbsAOCaEg0kaEkNnOomohtsHP8/32oVl8KsSxn2nbVoDQ/Xj2DQC3eHn2DfhijBmKyKvFR5zbtv1wdT+wE2WoxpjhbDb7nabptOtnHI/HgzHmD7GGIcpQReQ1TdNpnucfWZZV915cFEWyXq+n+/3+VUQINQCxhioiIlmWVfP5/L3j5UOnNwMrPExBBUKFCoQKFQgVKhAqVCBUqECoUIFQoQKhQgVChQqEChUIFSoQKlQgVKgQ9TY/G03T9EUkNcZ0uZzTAY4R6ifKsuzXdf1ruVz2er3e3RuvOR3gHqF+4nw+vyRJMlqtVtVisTjccy2nA/wg1C+Mx+OuJwQ4HeAYD1NQgVChAqFCBUKFCoQKFQgVKhAqVCBUqECoUCHoN1MWoyPT6/Xad30/eJ5gQ7UZHVnXddI0zc+qqt5EpOuQNAQk2FDFYnTkdrudbjab0eVy6fm6OTxWyKGKSLfRkYfDgU0hkeFhCioQKlQI/qtfI46xuEeojnGMxQ9CdYxjLH4QqiccY3GLhymoQKhQgVChAqFCBR6mAmO5BisS6TosoQbEdg1WJN51WEINiM0arEjc67CEGiCLNViRSNdheZiCCoQKFQgVKvAbNTKxbjEk1IjEvMWQUCMS8xZDQo1QjFsMvYZqMUBChCES+Ie3UG0GSIgwROIZQt5n8G2oNmN1JpPJPM/z470DJEQYIvFooe8z+DJUF2N1BoPBW5ffSwyReKzQ9xl89x+VsTr/mVD3Gdz0G5WxOriFz5cNLE/BCd8vGwgVTvh+2UCocMrXywZ2T0EFQoUKN331F0WR3PvBp9MpEREpyzLZ7XajR16v9W9rvW/b62/p6y/kQL6y35oBmgAAAABJRU5ErkJggg==\"></img></td>\n",
       "      <td id=\"T_fc064_row13_col5\" class=\"data row13 col5\" >3<br>(0.7%)</td>\n",
       "    </tr>\n",
       "    <tr>\n",
       "      <td id=\"T_fc064_row14_col0\" class=\"data row14 col0\" >15</td>\n",
       "      <td id=\"T_fc064_row14_col1\" class=\"data row14 col1\" ><strong>Hometown</strong><br>[object]</td>\n",
       "      <td id=\"T_fc064_row14_col2\" class=\"data row14 col2\" >1. New York, New York, US<br>2. London, England<br>3. Montreal, Quebec, Canada<br>4. Philadelphia, Pennsylvania, US<br>5. Hardîne, Lebanon<br>6. London, England, UK<br>7. Paris, France<br>8. Cooperstown, New York, US<br>9. Kiğı, Turkey<br>10. Minneapolis, Minnesota, US<br>11. other</td>\n",
       "      <td id=\"T_fc064_row14_col3\" class=\"data row14 col3\" >20 (4.8%)<br>18 (4.3%)<br>8 (1.9%)<br>8 (1.9%)<br>8 (1.9%)<br>7 (1.7%)<br>7 (1.7%)<br>5 (1.2%)<br>5 (1.2%)<br>4 (1.0%)<br>328 (78.5%)</td>\n",
       "      <td id=\"T_fc064_row14_col4\" class=\"data row14 col4\" ><img src = \"data:image/png;base64, iVBORw0KGgoAAAANSUhEUgAAAJsAAAD+CAYAAAAtWHdlAAAAOXRFWHRTb2Z0d2FyZQBNYXRwbG90bGliIHZlcnNpb24zLjguMiwgaHR0cHM6Ly9tYXRwbG90bGliLm9yZy8g+/7EAAAACXBIWXMAAA9hAAAPYQGoP6dpAAAEIklEQVR4nO3dQU4bWQBF0W/LouNJWRYSy2ABXkQWm0V4AewDIWoQ05nQgxBERzAidY3IObPEk5JyVVCl/+LV4+PjgML63BfA30NsZMRGRmxkxEZGbGTERkZsZMRGZjXG2I4xLt74/Mfj4+MpvB4+sc3l5eXXaZr2r304z/PdarX6Jjj+hM00TfvD4XDa7XYPLz+4v7//cjwe97e3txdjDLHxbpsxxtjtdg9XV1ffX/l8G18Pn5gHBDJiIyM2MmIjIzYyYiMjNjJiIyM2MmIjIzYyYiMjNjJiI7MZ4+fZtd8/eO3v4D028zzfHY/H/Xjl7No8z3djjB/9ZfEZ2SCQWfkvs6i4s5GxriJjXUXGuoqMl7pkxEZGbGTERkZsZMRGRmxkxEZGbGTERkZsZMRGRmxkDF7IGLyQcSycjMELmd/vbO5kLOZ/gxcDF5a0/jV4ORwOp6fo3vr9Dd7lefDy9GcDFxbjpS4ZsZERGxmxkREbGbGRERsZsZERGxmxkREbGbGRERuZNwcv8Ke9HLwYuLAox8LJGLyQ8YBAxo9RMtZVZKyryFhXkfGAQEZsZMRGRmxkxEZGbGTERkZsZMRGRmxkxEZGbGTERsa6iox1FRnHwslYV5FxZyNj8ELG4IWMwQsZL3XJiI2M2MiIjYzYyIiNjNjIiI2M2MiIjYzYyIiNjNjIGLyQMXgh41g4GYMXMu5sZAxeyBi8kDF4IeOlLhmxkREbGbGRERsZsZERGxmxkREbGbGRERsZsZERGxmxkbGuImNdRcYGgYx1FRl3NjLWVWSsq8hYV5HxUpeM2MiIjYzYyIiNjNjIiI2M2MiIjYzYyIiNjNjIiI2MwQsZgxcyjoWTMXgh8/LO5q7Gop4HL8YuLG09TdP++vp6GLuwtPUYY2y323/PfSF8fl7qkhEbGbGRERsZsZERGxmxkREbGbGRERsZsZERGxmxkVmPMcbpdPrn3BfC57ee5/nu5ubG2IXFORZOxuCFjAcEMn6MkrGuImNdRca6iowHBDJiIyM2MmIjIzYyYiMjNjJiIyM2MmIjIzYyYiMjNjLWVWSsq8g4Fk7GuorMrzvbcFdjaZvLy8uvY4xh7MLS1tM07Y1dKHjPRkZsZMRGRmxkxEZGbGTERkZsZMRGRmxkxEZGbGTERkZsZMRGZvM0dBnD2IWFORZOxuCFzMspH5/b2aeaz9/wcs6LYHkf4Rt8NtM07Q+Hw2m32z2c6yJY1v39/Zfj8bi/vb29GGOcL7Yxxtjtdg9XV1ffz3URJLbnvgDv2ciIjYzYyIiNjNjIiI2M2MiIjYzYyIiNjNjIiI2M2Mhsxvh5BOXcF8JyPsq/72ae57vj8bgfH+AICsv5CN/g41j43+Psx8INXsh4QCAjNjJiIyM2MmIjIzYyYiMjNjJiI/MfYFTS5AZZYAwAAAAASUVORK5CYII=\"></img></td>\n",
       "      <td id=\"T_fc064_row14_col5\" class=\"data row14 col5\" >3<br>(0.7%)</td>\n",
       "    </tr>\n",
       "    <tr>\n",
       "      <td id=\"T_fc064_row15_col0\" class=\"data row15 col0\" >16</td>\n",
       "      <td id=\"T_fc064_row15_col1\" class=\"data row15 col1\" ><strong>Boarded</strong><br>[object]</td>\n",
       "      <td id=\"T_fc064_row15_col2\" class=\"data row15 col2\" >1. Southampton<br>2. Cherbourg<br>3. Queenstown<br>4. nan<br>5. Belfast</td>\n",
       "      <td id=\"T_fc064_row15_col3\" class=\"data row15 col3\" >278 (66.5%)<br>93 (22.2%)<br>43 (10.3%)<br>3 (0.7%)<br>1 (0.2%)</td>\n",
       "      <td id=\"T_fc064_row15_col4\" class=\"data row15 col4\" ><img src = \"data:image/png;base64, iVBORw0KGgoAAAANSUhEUgAAAJsAAABzCAYAAACPdnBjAAAAOXRFWHRTb2Z0d2FyZQBNYXRwbG90bGliIHZlcnNpb24zLjguMiwgaHR0cHM6Ly9tYXRwbG90bGliLm9yZy8g+/7EAAAACXBIWXMAAA9hAAAPYQGoP6dpAAACWElEQVR4nO3cwW0aURiF0X/QyIk3gxASJSQ9UISLTREUkR4QYhax4w1Z2FEUkQUWcGf0ck4DfpI/MR70rrvT6VSQsJj6APw/xEaM2Ijpquqxqh6mPgj/9Ho6nZ6nPsSt9Ov1+mkYhtXUB+HcOI6Hruu+tRJcPwzDarvdPi+Xy5epD8Mfx+Px8263W+33+4eqaiO2qqrlcvmy2Wx+TH0YzjxOfYBb8oJAjNiIERsxYiNGbMSIjRixESM2YsRGjNiIERsxYiNGbMT0VW/XWaY+CH9r8XfSj+N42O12q2rsOksLxnE8VNXr1Oe4FdfC562pa+Gd3SgpXhCImdNjtKlHBudms65qbUnEuVmsq1pcEnFuTusqX700zgsCMWIjRmzEiI0YsREjNmLERozYiBEbMWIjRmzEiI0YsREzi3XV1D+fjNmsq1pbEnHOtXBirKuI8YJAzC0eox5/XOTqdZVVFJe6al1lFcVH3GJdZRXFRbwgECM2YsRGjNiIERsxYiNGbMSIjRixESM2YsRGjNiIERsxV62rrKL4iKvXVVZRXMq1cGKsq4j5/clWPp24t369Xj9VVRmtcG+LYRhW7+uqOaziaZjv2YgRGzFiI0ZsxIiNGLERIzZixEaM2IgRGzFiI0ZsxIiNGLERIzZixEZM/76OqrKQ4s5sEIixriLG32zELLqu+9p1nX+jwN0tqupLVX2a+iC0z2OUGLERIzZixEaM2IgRGzFiI0ZsxIiNGLERIzZixEaM2IgRGzFiI0ZsxCyq6ntV/Zz6ILTP4IUYj1FixEaM2Ij5BckEvjqu2Vs2AAAAAElFTkSuQmCC\"></img></td>\n",
       "      <td id=\"T_fc064_row15_col5\" class=\"data row15 col5\" >3<br>(0.7%)</td>\n",
       "    </tr>\n",
       "    <tr>\n",
       "      <td id=\"T_fc064_row16_col0\" class=\"data row16 col0\" >17</td>\n",
       "      <td id=\"T_fc064_row16_col1\" class=\"data row16 col1\" ><strong>Destination</strong><br>[object]</td>\n",
       "      <td id=\"T_fc064_row16_col2\" class=\"data row16 col2\" >1. New York City<br>2. New York, New York, US<br>3. Chicago, Illinois, US<br>4. Philadelphia, Pennsylvania, US<br>5. Montreal, Quebec, Canada<br>6. Detroit, Michigan, US<br>7. Elizabeth, New Jersey, US<br>8. Wilkes Barre, Pennsylvania, US<br>9. Akron, Ohio, US<br>10. Cooperstown, New York, US<br>11. other</td>\n",
       "      <td id=\"T_fc064_row16_col3\" class=\"data row16 col3\" >66 (15.8%)<br>37 (8.9%)<br>17 (4.1%)<br>12 (2.9%)<br>12 (2.9%)<br>6 (1.4%)<br>6 (1.4%)<br>6 (1.4%)<br>5 (1.2%)<br>5 (1.2%)<br>246 (58.9%)</td>\n",
       "      <td id=\"T_fc064_row16_col4\" class=\"data row16 col4\" ><img src = \"data:image/png;base64, iVBORw0KGgoAAAANSUhEUgAAAJsAAAD+CAYAAAAtWHdlAAAAOXRFWHRTb2Z0d2FyZQBNYXRwbG90bGliIHZlcnNpb24zLjguMiwgaHR0cHM6Ly9tYXRwbG90bGliLm9yZy8g+/7EAAAACXBIWXMAAA9hAAAPYQGoP6dpAAAEOklEQVR4nO3d0WkbWQCG0SsjvNGLhDC4DBegIrbYLUIFuA9hNA+xNy/ahywhIU7AjucTts4pQBrMx4gZ7p8sTqfTgMLVuS+AyyE2MmIjIzYyYiMjNjJiIyM2MmIjsxhjrMYY1zN+x5fT6fQ44+fzTixvbm7+Xq/X27m+YJqmh8Vi8Y/gWK7X6+1ut3vcbDZPb/3hx+Px036/3x4Oh+sxhtgu3HKMMTabzdPt7e3nmb5jNdPn8s54QCAjNjJiIyM2MmIjIzYyYiMjNjJiIyM2MmIjIzYyYiMjNjLLMb6eO5vjw+f6XN6n5TRND/v9fjtmOnc2TdPDGOPLHJ/N+2KDQGbhn8yi8id3NncsXuTV6yqrKV7qVesqqyle40/WVVZTvIiXumTERkZsZMRGRmxkxEZGbGTERkZsZMRGRmxkxEZGbGReNXgxZOE1Xj14MWThpRwLJ2PwQuZ3dzZ3Lt7ULwcvBi28tWcHLwYtzOF3gxeDFt6Ul7pkxEZGbGTERkZsZMRGRmxkxEZGbGTERkZsZMRGRmxknh28GLQwh18OXgxaeGuOhZMxeCHjAYHMcz+jfj6ZxU/rKqsq5vLDusqqijk9t66yqmIWHhDIiI2M2MiIjYzYyIiNjNjIiI2M2MiIjYzYyIiNjNjI/LCusqpiTj+tq6yqmItj4WSsq8i4s5ExeCFj8ELG4IWMl7pkxEZGbGTERkZsZMRGRmxkxEZGbGTERkZsZMRGRmxkDF7IGLyQcSycjMELme/vbO5ozOrb4MXQhbldrdfr7d3d3fh/YfXcfwUJb+JqjDFWq9W/574QPj4vdcmIjYzYyIiNjNjIiI2M2MiIjYzYyIiNjNjIiI2M2MiIjczVGGM8Pj7+de4L4eO7mqbp4f7+3qqK2dkgkLGuIuPORsa6iox1FRnrKjJe6pIRGxmxkREbGbGRERsZsZERGxmxkREbGbGRERsZsZExeCFj8ELGsXAyBi9k3NnIGLyQMXghY/BCxktdMmIjIzYyYiMjNjJiIyM2MmIjIzYyYiMjNjJiIyM2MgYvZAxeyDgWTsbghYwHBDJ+RslYV5GxriJjXUXGAwIZsZERGxmxkREbGbGRERsZsZERGxmxkREbGbGRERsZ6yoy1lVkHAsnY11Fxp2NjMELGYMXMgYvZLzUJSM2MmIjIzYyYiMjNjJiIyM2MmIjIzYyYiMjNjJiI2PwQsbghYxj4WQMXsh8f2djfhf96/Ft8HLuC7kElz4qWq7X6+1ut3vcbDZP576Yj+x4PH7a7/fbw+FwPca4zNjGGGOz2Tzd3t5+PvfFXIDVuS/gnLzUJSM2MmIjIzYyYiMjNjJiIyM2MmIjIzYyYiMjNjJiI7Mc4+vxl3NfyEfnbzzGcpqmh/1+vx0XfvylcOmjIsfCWxd9LNzghYwHBDJiIyM2MmIjIzYyYiMjNjJiIyM2Mv8BqN4DWwfQFKQAAAAASUVORK5CYII=\"></img></td>\n",
       "      <td id=\"T_fc064_row16_col5\" class=\"data row16 col5\" >3<br>(0.7%)</td>\n",
       "    </tr>\n",
       "    <tr>\n",
       "      <td id=\"T_fc064_row17_col0\" class=\"data row17 col0\" >18</td>\n",
       "      <td id=\"T_fc064_row17_col1\" class=\"data row17 col1\" ><strong>Lifeboat</strong><br>[object]</td>\n",
       "      <td id=\"T_fc064_row17_col2\" class=\"data row17 col2\" >1. nan<br>2. 13<br>3. C<br>4. 14<br>5. 7<br>6. 10<br>7. 15<br>8. 11<br>9. 4<br>10. 5<br>11. other</td>\n",
       "      <td id=\"T_fc064_row17_col3\" class=\"data row17 col3\" >261 (62.4%)<br>16 (3.8%)<br>13 (3.1%)<br>12 (2.9%)<br>11 (2.6%)<br>11 (2.6%)<br>10 (2.4%)<br>10 (2.4%)<br>9 (2.2%)<br>8 (1.9%)<br>57 (13.6%)</td>\n",
       "      <td id=\"T_fc064_row17_col4\" class=\"data row17 col4\" ><img src = \"data:image/png;base64, iVBORw0KGgoAAAANSUhEUgAAAJsAAAD+CAYAAAAtWHdlAAAAOXRFWHRTb2Z0d2FyZQBNYXRwbG90bGliIHZlcnNpb24zLjguMiwgaHR0cHM6Ly9tYXRwbG90bGliLm9yZy8g+/7EAAAACXBIWXMAAA9hAAAPYQGoP6dpAAAEEklEQVR4nO3dQWobWQBF0a8gTDKREAYtRovoxfYitBthpEEcMlEGSYzdktPQrboKqXNmHsQU5rpEFf85i/P5PKDw4d4XwHyIjYzYyIiNjNjIiI2M2MiIjYzYyCzGGJ/GGA/3vpCZ+3o+n5/vfRFTWz4+Pv61Wq02976QOTudTk+LxeLvPz245Wq12ux2u+f1ev3l3hczR8fj8eN+v98cDoeHMcafHdsYY6zX6y/b7fbzvS9mxj7d+wIKHhDIiI2M2MiIjYzYyIiNjNjIiI2M2MiIjYzYyIiNjNjIiI3McozvZ6rufSFzNaef/fJ0Oj3t9/vNmMmZqt/R6XR6GmN8vfd1TM0G4fcwiw3Cwp/MovKrO9ssftvovLuumsvih87VddWcFj90frWu8nTKTXmpS0ZsZMRGRmxkxEZGbGTERkZsZMRGRmxkxEZGbGTERubq4GVOIww67w5e5jLCoONYOBmDFzLv3dnc1bi5q4MXYxemcDF4MXZhKu8NXoxduDkvdcmIjYzYyIiNjNjIiI2M2MiIjYzYyIiNjNjIiI2M2MhcDF6MXZjK1cGLsQtTcCycjMELGQ8IZK59jPoIZRIX6yrLKqbyZl1lWcWUrq2rLKuYhAcEMmIjIzYyYiMjNjJiIyM2MmIjIzYyYiMjNjJiIyM2Mm/WVZZVTOliXWVZxVQcCydjXUXGnY2MwQsZgxcyBi9kvNQlIzYyYiMjNjJiIyM2MmIjIzYyYiMjNjJiIyM2MmIjY/BCxuCFjGPhZAxeyLizkTF4IWPwQsbghYyXumTERkZsZMRGRmxkxEZGbGTERkZsZMRGRmxkxEZGbGTERsa6iox1FRkbBDLWVWTc2chYV5GxriJjXUXGS10yYiMjNjJiIyM2MmIjIzYyYiMjNjJiIyM2MmIjIzYyBi9kDF7IOBZOxuCFjDsbGYMXMgYvZAxeyHipS0ZsZMRGRmxkxEZGbGTERkZsZMRGRmxkxEZGbGTERsbghYzBCxnHwskYvJDxgEDmnx+jPkKZzJt1lWUVU/rwc1212+2ef0T38K//Cv6Dl3XVj68tq5iMBwQyYiMjNjJiIyM2MmIjIzYyYiMjNjJiIyM2MmIjIzYyb9ZVMKXX6yrLKiblWDgZ6yoy7mxkDF7IGLyQMXgh46UuGbGRERsZsZERGxmxkREbGbGRERsZsZERGxmxkREbGYMXMgYvZBwLJ2PwQubaf5R2C+6QXHgzeLkVwxmuWf4cvLzaIfwvx+Px436/3xwOh4cxhth48TJ42W63n2/4fQ1nuOClLhmxkREbGbGRERsZsZERGxmxkREbGbGRERsZsZERG5mbD16MZ3jP68HLzY4FGc5wjWPhZAxeyHhAICM2MmIjIzYyYiMjNjJiIyM2MmIj8w2O4TYkgLoKwgAAAABJRU5ErkJggg==\"></img></td>\n",
       "      <td id=\"T_fc064_row17_col5\" class=\"data row17 col5\" >261<br>(62.4%)</td>\n",
       "    </tr>\n",
       "    <tr>\n",
       "      <td id=\"T_fc064_row18_col0\" class=\"data row18 col0\" >19</td>\n",
       "      <td id=\"T_fc064_row18_col1\" class=\"data row18 col1\" ><strong>Body</strong><br>[object]</td>\n",
       "      <td id=\"T_fc064_row18_col2\" class=\"data row18 col2\" >1. nan<br>2. 70MB<br>3. 260MB<br>4. 327MM<br>5. 187MB<br>6. 298MB<br>7. 292MB<br>8. 286MB<br>9. 135MB<br>10. 307M<br>11. other</td>\n",
       "      <td id=\"T_fc064_row18_col3\" class=\"data row18 col3\" >375 (89.7%)<br>1 (0.2%)<br>1 (0.2%)<br>1 (0.2%)<br>1 (0.2%)<br>1 (0.2%)<br>1 (0.2%)<br>1 (0.2%)<br>1 (0.2%)<br>1 (0.2%)<br>34 (8.1%)</td>\n",
       "      <td id=\"T_fc064_row18_col4\" class=\"data row18 col4\" ><img src = \"data:image/png;base64, iVBORw0KGgoAAAANSUhEUgAAAJsAAAD+CAYAAAAtWHdlAAAAOXRFWHRTb2Z0d2FyZQBNYXRwbG90bGliIHZlcnNpb24zLjguMiwgaHR0cHM6Ly9tYXRwbG90bGliLm9yZy8g+/7EAAAACXBIWXMAAA9hAAAPYQGoP6dpAAAD20lEQVR4nO3cP05jVxyG4d9FFhkaWxYSS0j24EXMYmcRXkT2gBC3GAiNU0yTEvPnJXGep+ZIp3ilI0v3YzmdTgOFq6++AP8fYiMjNjJiIyM2MmIjIzYyYiMjNjLLzNzMzPVXX4T/hJfT6fT01sOb29vb79vtdv+RN+Iyrev6sCzLj7cGt9lut/vD4fC02+2eP/pyXI7Hx8dvx+Nxf39/fz0zb4ttZma32z3f3d39/NDbcYlu3nPYDwQyYiMjNjJiIyM2MmIjIzYyYiMjNjJiIyM2MmIjIzYyYiOzmfn1rdJXX4R/t49oZLOu68PxeNzPO79V4vKt6/owMy9vPW+DwDnetUFY/MssKn4gkLlaluWPZVn8QODTXc3M7zPz21dfhMvnGSUjNjJiIyM2MmIjIzYyYiMjNjJiIyM2MmIjIzYyYiMjNjJiI3M1M3/OzF9ffREunw0CGc8oGbGRMXghY/BCxjNKRmxkxEZGbGTERkZsZMRGRmxkxEZGbGTERkZsZMRGRmxkxEbG4IWMwQsZzygZsZERGxnrKjLWVWQ8o2TERkZsZMRGRmxkxEZGbGTERkZsZMRGRmxkxEZGbGTERkZsZKyryFhXkfGMkhEbGYMXMgYvZDyjZMRGRmxkxEZGbGTERkZsZMRGRmxkxEZGbGTERkZsZMRGRmxkDF7IGLyQ8YySERsZgxcyBi9kPKNkxEZGbGTERkZsZMRGRmxkxEZGbGTERkZsZMRGRmxkxEZGbGTERsa6iox1FRnPKBmxkbGuImNdRcYzSkZsZMRGRmxkxEZGbGTERkZsZMRGRmxkxEZGbGTERkZsZMRGxuCFjMELGc8oGbGRMXghY/BCxjNKRmxkxEZGbGTERkZsZMRGRmxkxEZGbGTERkZsZMRGRmxkxEbG4IWMwQsZzygZsZERGxnrKjLWVWQ8o2TERkZsZMRGRmxkxEZGbGTERkZsZMRGRmxkxEZGbGTERkZsZKyryFhXkfGMkhEbGYMXMgYvZDyjZMRGRmxkxEZGbGTERkZsZMRGRmxkxEZGbGTERkZsZMRGRmxkDF7IGLyQ8YySWWbmZmauzzz3cjqdnj7hPlywze3t7fftdrs/59C6rg/LsvwQHOfYbLfb/eFweNrtds+vOfD4+PjteDzu7+/vr2dGbLzaZmZmt9s9393d/Tzj3M0n3YcL5gcCGbGRERsZsZERGxmxkREbGbGRERsZsZERGxmxkREbmc3Mr8+GXnvgnL+Ff9qs6/pwPB73c8ZnQ+u6PszMy+ddi0vks3Ay1lVk/EAgIzYyYiMjNjJiIyM2MmIjIzYyYiPzNyOvnjTb/T4mAAAAAElFTkSuQmCC\"></img></td>\n",
       "      <td id=\"T_fc064_row18_col5\" class=\"data row18 col5\" >375<br>(89.7%)</td>\n",
       "    </tr>\n",
       "    <tr>\n",
       "      <td id=\"T_fc064_row19_col0\" class=\"data row19 col0\" >20</td>\n",
       "      <td id=\"T_fc064_row19_col1\" class=\"data row19 col1\" ><strong>Class</strong><br>[float64]</td>\n",
       "      <td id=\"T_fc064_row19_col2\" class=\"data row19 col2\" >1. 3.0<br>2. 1.0<br>3. 2.0<br>4. nan</td>\n",
       "      <td id=\"T_fc064_row19_col3\" class=\"data row19 col3\" >216 (51.7%)<br>109 (26.1%)<br>90 (21.5%)<br>3 (0.7%)</td>\n",
       "      <td id=\"T_fc064_row19_col4\" class=\"data row19 col4\" ><img src = \"data:image/png;base64, iVBORw0KGgoAAAANSUhEUgAAAJsAAABcCAYAAAB5jMeAAAAAOXRFWHRTb2Z0d2FyZQBNYXRwbG90bGliIHZlcnNpb24zLjguMiwgaHR0cHM6Ly9tYXRwbG90bGliLm9yZy8g+/7EAAAACXBIWXMAAA9hAAAPYQGoP6dpAAAB9klEQVR4nO3bTWrbYBiF0VdBhGYiYQRejBeRxXYR2o0x1qAJmaiDpuO0aXP1d84KPsyDZAndZp7ngoSHpQ/AcYiNmKaqnqrqcemDbNjbPM8vSx9iC9phGJ67rjstfZCtmqbp1jTNd8F9rO267nS5XF76vn9d+jBbc7/fv43jeLper49VJbYPtFVVfd+/ns/nH0sfZqOelj7AVnhAIEZsxIiNGLERIzZixEaM2IgRGzFiI0ZsxIiNGLERIzZi2qpfn8osfZAt8rv9nXaapts4jqfyqcynTNN0q6q3pc+xBT4L/3c+C/9DjSkfKR4QiNnCbdRtaidWv66yXtqPVa+rrJf2ZQvrKq9kdsIDAjFiI0ZsxIiNGLERIzZixEaM2IgRGzFiI0ZsxIiNGLERIzZiVj3lW+u5+JzVT/lM5fbDBoEYUz5i1nJlc/U6gFWsqyyojmHxdZUF1XGsZV21yidh/i8vdYkRGzFiI0ZsxIiNGLERIzZixEaM2IgRGzFiI0ZsxIiNGLERs/i6yoLqOFaxrrKgOgYbBGKsq4j5fWUrVxa+WjsMw3NVlXUTX+2h67rT+5Rv6f9t7Jz3bMSIjRixESM2YsRGjNiIERsxYiNGbMSIjRixESM2YsRGjNiIERsxYiOmfV82VVk38cVsEIixriLGfzZifgKzIbjb6iaNpQAAAABJRU5ErkJggg==\"></img></td>\n",
       "      <td id=\"T_fc064_row19_col5\" class=\"data row19 col5\" >3<br>(0.7%)</td>\n",
       "    </tr>\n",
       "    <tr>\n",
       "      <td id=\"T_fc064_row20_col0\" class=\"data row20 col0\" >21</td>\n",
       "      <td id=\"T_fc064_row20_col1\" class=\"data row20 col1\" ><strong>Survived</strong><br>[float64]</td>\n",
       "      <td id=\"T_fc064_row20_col2\" class=\"data row20 col2\" >1. nan</td>\n",
       "      <td id=\"T_fc064_row20_col3\" class=\"data row20 col3\" >418 (100.0%)</td>\n",
       "      <td id=\"T_fc064_row20_col4\" class=\"data row20 col4\" ><img src = \"data:image/png;base64, iVBORw0KGgoAAAANSUhEUgAAAJsAAAAXCAYAAAAcEz0vAAAAOXRFWHRTb2Z0d2FyZQBNYXRwbG90bGliIHZlcnNpb24zLjguMiwgaHR0cHM6Ly9tYXRwbG90bGliLm9yZy8g+/7EAAAACXBIWXMAAA9hAAAPYQGoP6dpAAAAnUlEQVR4nO3bsQ0CMRBE0TlkoSPx6mTJxbgIUvovYZPjQgJqYCyZ/yqY4Ie7m6SHpLuAHyuttWet9Zg9BOsrtdZjjPGOiGv2GKwrM/ciSRFx9d7P2YOwttvsAfgfxAYbYoMNscGG2GBDbLAhNtgQG2yIDTbEBhtigw2xwYbYYENssCE22BAbbIgNNkX6nuzOHoK1Zea+tdZePLzA4QPFNA/EDSh7IQAAAABJRU5ErkJggg==\"></img></td>\n",
       "      <td id=\"T_fc064_row20_col5\" class=\"data row20 col5\" >418<br>(100.0%)</td>\n",
       "    </tr>\n",
       "  </tbody>\n",
       "</table>\n"
      ],
      "text/plain": [
       "<pandas.io.formats.style.Styler at 0x1fb3cd86cf0>"
      ]
     },
     "execution_count": 7,
     "metadata": {},
     "output_type": "execute_result"
    }
   ],
   "source": [
    "dfSummary(test)"
   ]
  },
  {
   "cell_type": "markdown",
   "id": "f841f22b-f6af-4452-853e-7851f8f2cbbd",
   "metadata": {},
   "source": [
    "### 3. Data Visualization\n",
    "Divide the columns into numeric and categorical types to further analyse the data"
   ]
  },
  {
   "cell_type": "code",
   "execution_count": 8,
   "id": "263e8757-83fd-4e0e-86e7-8aa1cdcd9c94",
   "metadata": {},
   "outputs": [
    {
     "name": "stdout",
     "output_type": "stream",
     "text": [
      "<class 'pandas.core.frame.DataFrame'>\n",
      "RangeIndex: 891 entries, 0 to 890\n",
      "Data columns (total 21 columns):\n",
      " #   Column       Non-Null Count  Dtype  \n",
      "---  ------       --------------  -----  \n",
      " 0   PassengerId  891 non-null    int64  \n",
      " 1   Survived     891 non-null    float64\n",
      " 2   Pclass       891 non-null    int64  \n",
      " 3   Name         891 non-null    object \n",
      " 4   Sex          891 non-null    object \n",
      " 5   Age          714 non-null    float64\n",
      " 6   SibSp        891 non-null    int64  \n",
      " 7   Parch        891 non-null    int64  \n",
      " 8   Ticket       891 non-null    object \n",
      " 9   Fare         891 non-null    float64\n",
      " 10  Cabin        204 non-null    object \n",
      " 11  Embarked     889 non-null    object \n",
      " 12  WikiId       889 non-null    float64\n",
      " 13  Name_wiki    889 non-null    object \n",
      " 14  Age_wiki     887 non-null    float64\n",
      " 15  Hometown     889 non-null    object \n",
      " 16  Boarded      889 non-null    object \n",
      " 17  Destination  889 non-null    object \n",
      " 18  Lifeboat     345 non-null    object \n",
      " 19  Body         87 non-null     object \n",
      " 20  Class        889 non-null    float64\n",
      "dtypes: float64(6), int64(4), object(11)\n",
      "memory usage: 146.3+ KB\n"
     ]
    }
   ],
   "source": [
    "train.info()"
   ]
  },
  {
   "cell_type": "code",
   "execution_count": 9,
   "id": "be906d14-6872-4948-ac4a-e2481029df45",
   "metadata": {},
   "outputs": [],
   "source": [
    "train_num = train[['Age_wiki','Class' ,'Parch','Fare','SibSp','Survived']]\n",
    "train_cat = train[['Sex','Cabin','Embarked','Ticket']]"
   ]
  },
  {
   "cell_type": "markdown",
   "id": "3a4e6131-f91b-4fc5-889d-77b24ba587f1",
   "metadata": {},
   "source": [
    "#### 3.1 Operating the numerical columns"
   ]
  },
  {
   "cell_type": "code",
   "execution_count": 10,
   "id": "1fcbefc4-592d-42be-b23d-f02d3f75fce1",
   "metadata": {},
   "outputs": [
    {
     "data": {
      "image/png": "[encoded data removed]",
      "text/plain": [
       "<Figure size 1000x600 with 6 Axes>"
      ]
     },
     "metadata": {},
     "output_type": "display_data"
    }
   ],
   "source": [
    "fig,axs = plt.subplots(2,3,figsize=(10,6)) \n",
    "axs = axs.flatten()                                 # Flatten the axs array to iterate over the subplots\n",
    "\n",
    "#Plotting each column in a separate subplot\n",
    "for i,col in enumerate(train_num.columns):\n",
    "    axs[i].hist(train_num[col],color='lightgreen')\n",
    "    axs[i].set_title(col)\n",
    "    axs[i].set_xlabel(col)\n",
    "    axs[i].set_ylabel('Frequency')    \n",
    "\n",
    "#Adjust the layout and spacing\n",
    "plt.tight_layout()\n",
    "plt.show()"
   ]
  },
  {
   "cell_type": "code",
   "execution_count": 11,
   "id": "c0466a5f-90f7-4db1-af92-50615e5e34ec",
   "metadata": {},
   "outputs": [
    {
     "data": {
      "text/html": [
       "<div>\n",
       "<style scoped>\n",
       "    .dataframe tbody tr th:only-of-type {\n",
       "        vertical-align: middle;\n",
       "    }\n",
       "\n",
       "    .dataframe tbody tr th {\n",
       "        vertical-align: top;\n",
       "    }\n",
       "\n",
       "    .dataframe thead th {\n",
       "        text-align: right;\n",
       "    }\n",
       "</style>\n",
       "<table border=\"1\" class=\"dataframe\">\n",
       "  <thead>\n",
       "    <tr style=\"text-align: right;\">\n",
       "      <th></th>\n",
       "      <th>Age_wiki</th>\n",
       "      <th>Fare</th>\n",
       "      <th>Parch</th>\n",
       "      <th>SibSp</th>\n",
       "    </tr>\n",
       "    <tr>\n",
       "      <th>Survived</th>\n",
       "      <th></th>\n",
       "      <th></th>\n",
       "      <th></th>\n",
       "      <th></th>\n",
       "    </tr>\n",
       "  </thead>\n",
       "  <tbody>\n",
       "    <tr>\n",
       "      <th>0.0</th>\n",
       "      <td>29.869963</td>\n",
       "      <td>22.117887</td>\n",
       "      <td>0.329690</td>\n",
       "      <td>0.553734</td>\n",
       "    </tr>\n",
       "    <tr>\n",
       "      <th>1.0</th>\n",
       "      <td>28.444780</td>\n",
       "      <td>48.395408</td>\n",
       "      <td>0.464912</td>\n",
       "      <td>0.473684</td>\n",
       "    </tr>\n",
       "  </tbody>\n",
       "</table>\n",
       "</div>"
      ],
      "text/plain": [
       "           Age_wiki       Fare     Parch     SibSp\n",
       "Survived                                          \n",
       "0.0       29.869963  22.117887  0.329690  0.553734\n",
       "1.0       28.444780  48.395408  0.464912  0.473684"
      ]
     },
     "execution_count": 11,
     "metadata": {},
     "output_type": "execute_result"
    }
   ],
   "source": [
    "pd.pivot_table(data=train_num, values=[\"Age_wiki\",\"Parch\",\"Fare\",\"SibSp\"], index='Survived' )\n",
    "#It gives the mean value of the different features mentioned"
   ]
  },
  {
   "cell_type": "markdown",
   "id": "a8fbf3ac-2c7a-4c4b-939b-8674f5ac6d5a",
   "metadata": {},
   "source": [
    "#### 3.2 Operating the categorical columns "
   ]
  },
  {
   "cell_type": "code",
   "execution_count": 12,
   "id": "b0aec039-1ebc-4e65-b55d-0db856b2478e",
   "metadata": {},
   "outputs": [
    {
     "data": {
      "text/html": [
       "<div>\n",
       "<style scoped>\n",
       "    .dataframe tbody tr th:only-of-type {\n",
       "        vertical-align: middle;\n",
       "    }\n",
       "\n",
       "    .dataframe tbody tr th {\n",
       "        vertical-align: top;\n",
       "    }\n",
       "\n",
       "    .dataframe thead th {\n",
       "        text-align: right;\n",
       "    }\n",
       "</style>\n",
       "<table border=\"1\" class=\"dataframe\">\n",
       "  <thead>\n",
       "    <tr style=\"text-align: right;\">\n",
       "      <th></th>\n",
       "      <th>Sex</th>\n",
       "      <th>Embarked</th>\n",
       "      <th>Pclass</th>\n",
       "      <th>Cabin</th>\n",
       "      <th>Ticket</th>\n",
       "    </tr>\n",
       "  </thead>\n",
       "  <tbody>\n",
       "    <tr>\n",
       "      <th>0</th>\n",
       "      <td>male</td>\n",
       "      <td>S</td>\n",
       "      <td>3</td>\n",
       "      <td>NaN</td>\n",
       "      <td>A/5 21171</td>\n",
       "    </tr>\n",
       "    <tr>\n",
       "      <th>1</th>\n",
       "      <td>female</td>\n",
       "      <td>C</td>\n",
       "      <td>1</td>\n",
       "      <td>C85</td>\n",
       "      <td>PC 17599</td>\n",
       "    </tr>\n",
       "    <tr>\n",
       "      <th>2</th>\n",
       "      <td>female</td>\n",
       "      <td>S</td>\n",
       "      <td>3</td>\n",
       "      <td>NaN</td>\n",
       "      <td>STON/O2. 3101282</td>\n",
       "    </tr>\n",
       "    <tr>\n",
       "      <th>3</th>\n",
       "      <td>female</td>\n",
       "      <td>S</td>\n",
       "      <td>1</td>\n",
       "      <td>C123</td>\n",
       "      <td>113803</td>\n",
       "    </tr>\n",
       "    <tr>\n",
       "      <th>4</th>\n",
       "      <td>male</td>\n",
       "      <td>S</td>\n",
       "      <td>3</td>\n",
       "      <td>NaN</td>\n",
       "      <td>373450</td>\n",
       "    </tr>\n",
       "    <tr>\n",
       "      <th>...</th>\n",
       "      <td>...</td>\n",
       "      <td>...</td>\n",
       "      <td>...</td>\n",
       "      <td>...</td>\n",
       "      <td>...</td>\n",
       "    </tr>\n",
       "    <tr>\n",
       "      <th>886</th>\n",
       "      <td>male</td>\n",
       "      <td>S</td>\n",
       "      <td>2</td>\n",
       "      <td>NaN</td>\n",
       "      <td>211536</td>\n",
       "    </tr>\n",
       "    <tr>\n",
       "      <th>887</th>\n",
       "      <td>female</td>\n",
       "      <td>S</td>\n",
       "      <td>1</td>\n",
       "      <td>B42</td>\n",
       "      <td>112053</td>\n",
       "    </tr>\n",
       "    <tr>\n",
       "      <th>888</th>\n",
       "      <td>female</td>\n",
       "      <td>S</td>\n",
       "      <td>3</td>\n",
       "      <td>NaN</td>\n",
       "      <td>W./C. 6607</td>\n",
       "    </tr>\n",
       "    <tr>\n",
       "      <th>889</th>\n",
       "      <td>male</td>\n",
       "      <td>C</td>\n",
       "      <td>1</td>\n",
       "      <td>C148</td>\n",
       "      <td>111369</td>\n",
       "    </tr>\n",
       "    <tr>\n",
       "      <th>890</th>\n",
       "      <td>male</td>\n",
       "      <td>Q</td>\n",
       "      <td>3</td>\n",
       "      <td>NaN</td>\n",
       "      <td>370376</td>\n",
       "    </tr>\n",
       "  </tbody>\n",
       "</table>\n",
       "<p>891 rows × 5 columns</p>\n",
       "</div>"
      ],
      "text/plain": [
       "        Sex Embarked  Pclass Cabin            Ticket\n",
       "0      male        S       3   NaN         A/5 21171\n",
       "1    female        C       1   C85          PC 17599\n",
       "2    female        S       3   NaN  STON/O2. 3101282\n",
       "3    female        S       1  C123            113803\n",
       "4      male        S       3   NaN            373450\n",
       "..      ...      ...     ...   ...               ...\n",
       "886    male        S       2   NaN            211536\n",
       "887  female        S       1   B42            112053\n",
       "888  female        S       3   NaN        W./C. 6607\n",
       "889    male        C       1  C148            111369\n",
       "890    male        Q       3   NaN            370376\n",
       "\n",
       "[891 rows x 5 columns]"
      ]
     },
     "execution_count": 12,
     "metadata": {},
     "output_type": "execute_result"
    }
   ],
   "source": [
    "train_cat = train[['Sex','Embarked',\"Pclass\",'Cabin','Ticket']]\n",
    "train_cat"
   ]
  },
  {
   "cell_type": "code",
   "execution_count": 13,
   "id": "18456ad8-f6bc-480c-b8ab-bc687bfd7e1c",
   "metadata": {},
   "outputs": [
    {
     "data": {
      "image/png": "[encoded data removed]",
      "text/plain": [
       "<Figure size 1000x1000 with 6 Axes>"
      ]
     },
     "metadata": {},
     "output_type": "display_data"
    }
   ],
   "source": [
    "fig,axs = plt.subplots(3,2,figsize=(10,10))\n",
    "for i, ax in enumerate(axs.flatten()):\n",
    "    if i<len(train_cat.columns):\n",
    "        x = train_cat.iloc[:,i].value_counts().index\n",
    "        y = train_cat.iloc[:,i].value_counts()\n",
    "        color = 'Set3'\n",
    "        sns.barplot(x=x,y=y, hue=x, palette=color,ax=ax)\n",
    "        ax.set_title(train_cat.columns[i])\n",
    "    else:\n",
    "        ax.axis('off')\n",
    "    # plt.title(i)\n",
    "    # plt.legend([],frameon=False)\n",
    "plt.tight_layout()\n",
    "plt.show()"
   ]
  },
  {
   "cell_type": "code",
   "execution_count": 14,
   "id": "79a6c6b9-9b9b-4824-831a-4d33d9e78daf",
   "metadata": {},
   "outputs": [
    {
     "data": {
      "text/html": [
       "<div>\n",
       "<style scoped>\n",
       "    .dataframe tbody tr th:only-of-type {\n",
       "        vertical-align: middle;\n",
       "    }\n",
       "\n",
       "    .dataframe tbody tr th {\n",
       "        vertical-align: top;\n",
       "    }\n",
       "\n",
       "    .dataframe thead th {\n",
       "        text-align: right;\n",
       "    }\n",
       "</style>\n",
       "<table border=\"1\" class=\"dataframe\">\n",
       "  <thead>\n",
       "    <tr style=\"text-align: right;\">\n",
       "      <th>Sex</th>\n",
       "      <th>female</th>\n",
       "      <th>male</th>\n",
       "    </tr>\n",
       "    <tr>\n",
       "      <th>Survived</th>\n",
       "      <th></th>\n",
       "      <th></th>\n",
       "    </tr>\n",
       "  </thead>\n",
       "  <tbody>\n",
       "    <tr>\n",
       "      <th>0.0</th>\n",
       "      <td>81</td>\n",
       "      <td>468</td>\n",
       "    </tr>\n",
       "    <tr>\n",
       "      <th>1.0</th>\n",
       "      <td>233</td>\n",
       "      <td>109</td>\n",
       "    </tr>\n",
       "  </tbody>\n",
       "</table>\n",
       "</div>"
      ],
      "text/plain": [
       "Sex       female  male\n",
       "Survived              \n",
       "0.0           81   468\n",
       "1.0          233   109"
      ]
     },
     "execution_count": 14,
     "metadata": {},
     "output_type": "execute_result"
    }
   ],
   "source": [
    "pd.pivot_table(data=train, index='Survived',columns='Sex', values='Ticket', aggfunc='count')"
   ]
  },
  {
   "cell_type": "code",
   "execution_count": 15,
   "id": "cd84af53-ff55-453a-b0a2-139526638712",
   "metadata": {},
   "outputs": [
    {
     "data": {
      "text/html": [
       "<div>\n",
       "<style scoped>\n",
       "    .dataframe tbody tr th:only-of-type {\n",
       "        vertical-align: middle;\n",
       "    }\n",
       "\n",
       "    .dataframe tbody tr th {\n",
       "        vertical-align: top;\n",
       "    }\n",
       "\n",
       "    .dataframe thead th {\n",
       "        text-align: right;\n",
       "    }\n",
       "</style>\n",
       "<table border=\"1\" class=\"dataframe\">\n",
       "  <thead>\n",
       "    <tr style=\"text-align: right;\">\n",
       "      <th>Pclass</th>\n",
       "      <th>1</th>\n",
       "      <th>2</th>\n",
       "      <th>3</th>\n",
       "    </tr>\n",
       "    <tr>\n",
       "      <th>Survived</th>\n",
       "      <th></th>\n",
       "      <th></th>\n",
       "      <th></th>\n",
       "    </tr>\n",
       "  </thead>\n",
       "  <tbody>\n",
       "    <tr>\n",
       "      <th>0.0</th>\n",
       "      <td>80</td>\n",
       "      <td>97</td>\n",
       "      <td>372</td>\n",
       "    </tr>\n",
       "    <tr>\n",
       "      <th>1.0</th>\n",
       "      <td>136</td>\n",
       "      <td>87</td>\n",
       "      <td>119</td>\n",
       "    </tr>\n",
       "  </tbody>\n",
       "</table>\n",
       "</div>"
      ],
      "text/plain": [
       "Pclass      1   2    3\n",
       "Survived              \n",
       "0.0        80  97  372\n",
       "1.0       136  87  119"
      ]
     },
     "execution_count": 15,
     "metadata": {},
     "output_type": "execute_result"
    }
   ],
   "source": [
    "pd.pivot_table(data=train, index='Survived', columns='Pclass', values='Ticket', aggfunc='count')"
   ]
  },
  {
   "cell_type": "code",
   "execution_count": 16,
   "id": "22f6716d-1065-4b9a-9774-5bcea14c2d2e",
   "metadata": {},
   "outputs": [
    {
     "data": {
      "text/html": [
       "<div>\n",
       "<style scoped>\n",
       "    .dataframe tbody tr th:only-of-type {\n",
       "        vertical-align: middle;\n",
       "    }\n",
       "\n",
       "    .dataframe tbody tr th {\n",
       "        vertical-align: top;\n",
       "    }\n",
       "\n",
       "    .dataframe thead th {\n",
       "        text-align: right;\n",
       "    }\n",
       "</style>\n",
       "<table border=\"1\" class=\"dataframe\">\n",
       "  <thead>\n",
       "    <tr style=\"text-align: right;\">\n",
       "      <th>Embarked</th>\n",
       "      <th>C</th>\n",
       "      <th>Q</th>\n",
       "      <th>S</th>\n",
       "    </tr>\n",
       "    <tr>\n",
       "      <th>Survived</th>\n",
       "      <th></th>\n",
       "      <th></th>\n",
       "      <th></th>\n",
       "    </tr>\n",
       "  </thead>\n",
       "  <tbody>\n",
       "    <tr>\n",
       "      <th>0.0</th>\n",
       "      <td>75</td>\n",
       "      <td>47</td>\n",
       "      <td>427</td>\n",
       "    </tr>\n",
       "    <tr>\n",
       "      <th>1.0</th>\n",
       "      <td>93</td>\n",
       "      <td>30</td>\n",
       "      <td>217</td>\n",
       "    </tr>\n",
       "  </tbody>\n",
       "</table>\n",
       "</div>"
      ],
      "text/plain": [
       "Embarked   C   Q    S\n",
       "Survived             \n",
       "0.0       75  47  427\n",
       "1.0       93  30  217"
      ]
     },
     "execution_count": 16,
     "metadata": {},
     "output_type": "execute_result"
    }
   ],
   "source": [
    "pd.pivot_table(data=train, index='Survived', columns='Embarked', values='Ticket',aggfunc='count')"
   ]
  },
  {
   "cell_type": "markdown",
   "id": "3370dfd8-9b6a-4dfc-ae51-cfeb2b88d6db",
   "metadata": {},
   "source": [
    "- aggfunc='count': This parameter specifies the aggregation function to be used when summarizing the data.\n",
    "- In this case, the 'count' function is used to count the number of occurrences of 'Ticket' values for each combination of 'Survived' and 'Pclass', 'Sex', 'Embarked'.\n"
   ]
  },
  {
   "cell_type": "markdown",
   "id": "296dadcc-5b41-4742-b49c-10f5c072c000",
   "metadata": {},
   "source": [
    "### 4. Feature Engineering\n",
    "- We can see that the cabin and Ticket columns are too clumsy to analyze. Thus, we apply feature engineering to these columns.\n",
    "#### 4.1 Cabin\n",
    "- We will separate cabin based on the names assigned, we assign 0 to NaN and 1 to cabin with names."
   ]
  },
  {
   "cell_type": "code",
   "execution_count": 17,
   "id": "eb8e9f6b-8a80-4588-9a22-389bfb53a750",
   "metadata": {},
   "outputs": [
    {
     "data": {
      "text/plain": [
       "687"
      ]
     },
     "execution_count": 17,
     "metadata": {},
     "output_type": "execute_result"
    }
   ],
   "source": [
    "train['Cabin'].isna().sum()"
   ]
  },
  {
   "cell_type": "code",
   "execution_count": 18,
   "id": "7d8be74f-ebb7-4191-b651-0180d507f601",
   "metadata": {},
   "outputs": [],
   "source": [
    "train['cabin_new'] = [0 if i is np.NaN else 1 for i in train['Cabin']]\n",
    "# train['cabin_new'] = train.Cabin.apply(lambda x: 0 if pd.isna(x) else 1)"
   ]
  },
  {
   "cell_type": "code",
   "execution_count": 19,
   "id": "60c16142-dc1d-43f7-b251-31ce2928d09e",
   "metadata": {},
   "outputs": [
    {
     "data": {
      "text/plain": [
       "cabin_new\n",
       "0    687\n",
       "1    204\n",
       "Name: count, dtype: int64"
      ]
     },
     "execution_count": 19,
     "metadata": {},
     "output_type": "execute_result"
    }
   ],
   "source": [
    "train['cabin_new'].value_counts()"
   ]
  },
  {
   "cell_type": "code",
   "execution_count": 20,
   "id": "c0f4b03c-e4bf-4ac9-9b0c-9447ac67bbe1",
   "metadata": {},
   "outputs": [
    {
     "data": {
      "text/html": [
       "<div>\n",
       "<style scoped>\n",
       "    .dataframe tbody tr th:only-of-type {\n",
       "        vertical-align: middle;\n",
       "    }\n",
       "\n",
       "    .dataframe tbody tr th {\n",
       "        vertical-align: top;\n",
       "    }\n",
       "\n",
       "    .dataframe thead th {\n",
       "        text-align: right;\n",
       "    }\n",
       "</style>\n",
       "<table border=\"1\" class=\"dataframe\">\n",
       "  <thead>\n",
       "    <tr style=\"text-align: right;\">\n",
       "      <th>cabin_new</th>\n",
       "      <th>0</th>\n",
       "      <th>1</th>\n",
       "    </tr>\n",
       "    <tr>\n",
       "      <th>Survived</th>\n",
       "      <th></th>\n",
       "      <th></th>\n",
       "    </tr>\n",
       "  </thead>\n",
       "  <tbody>\n",
       "    <tr>\n",
       "      <th>0.0</th>\n",
       "      <td>481</td>\n",
       "      <td>68</td>\n",
       "    </tr>\n",
       "    <tr>\n",
       "      <th>1.0</th>\n",
       "      <td>206</td>\n",
       "      <td>136</td>\n",
       "    </tr>\n",
       "  </tbody>\n",
       "</table>\n",
       "</div>"
      ],
      "text/plain": [
       "cabin_new    0    1\n",
       "Survived           \n",
       "0.0        481   68\n",
       "1.0        206  136"
      ]
     },
     "execution_count": 20,
     "metadata": {},
     "output_type": "execute_result"
    }
   ],
   "source": [
    "pd.pivot_table(data=train, index='Survived', columns='cabin_new',values='Ticket',aggfunc='count')"
   ]
  },
  {
   "cell_type": "code",
   "execution_count": 21,
   "id": "d8f30aa0-5c09-4cf4-9b7e-f556037b7675",
   "metadata": {},
   "outputs": [
    {
     "data": {
      "text/html": [
       "<div>\n",
       "<style scoped>\n",
       "    .dataframe tbody tr th:only-of-type {\n",
       "        vertical-align: middle;\n",
       "    }\n",
       "\n",
       "    .dataframe tbody tr th {\n",
       "        vertical-align: top;\n",
       "    }\n",
       "\n",
       "    .dataframe thead th {\n",
       "        text-align: right;\n",
       "    }\n",
       "</style>\n",
       "<table border=\"1\" class=\"dataframe\">\n",
       "  <thead>\n",
       "    <tr style=\"text-align: right;\">\n",
       "      <th></th>\n",
       "      <th>PassengerId</th>\n",
       "      <th>Pclass</th>\n",
       "      <th>Name</th>\n",
       "      <th>Sex</th>\n",
       "      <th>Age</th>\n",
       "      <th>SibSp</th>\n",
       "      <th>Parch</th>\n",
       "      <th>Ticket</th>\n",
       "      <th>Fare</th>\n",
       "      <th>Cabin</th>\n",
       "      <th>...</th>\n",
       "      <th>WikiId</th>\n",
       "      <th>Name_wiki</th>\n",
       "      <th>Age_wiki</th>\n",
       "      <th>Hometown</th>\n",
       "      <th>Boarded</th>\n",
       "      <th>Destination</th>\n",
       "      <th>Lifeboat</th>\n",
       "      <th>Body</th>\n",
       "      <th>Class</th>\n",
       "      <th>Survived</th>\n",
       "    </tr>\n",
       "  </thead>\n",
       "  <tbody>\n",
       "    <tr>\n",
       "      <th>0</th>\n",
       "      <td>892</td>\n",
       "      <td>3</td>\n",
       "      <td>Kelly, Mr. James</td>\n",
       "      <td>male</td>\n",
       "      <td>34.5</td>\n",
       "      <td>0</td>\n",
       "      <td>0</td>\n",
       "      <td>330911</td>\n",
       "      <td>7.8292</td>\n",
       "      <td>NaN</td>\n",
       "      <td>...</td>\n",
       "      <td>928.0</td>\n",
       "      <td>Kelly, Mr. James</td>\n",
       "      <td>19.0</td>\n",
       "      <td>Unknown, Ireland</td>\n",
       "      <td>Southampton</td>\n",
       "      <td>New York City</td>\n",
       "      <td>NaN</td>\n",
       "      <td>70MB</td>\n",
       "      <td>3.0</td>\n",
       "      <td>NaN</td>\n",
       "    </tr>\n",
       "    <tr>\n",
       "      <th>1</th>\n",
       "      <td>893</td>\n",
       "      <td>3</td>\n",
       "      <td>Wilkes, Mrs. James (Ellen Needs)</td>\n",
       "      <td>female</td>\n",
       "      <td>47.0</td>\n",
       "      <td>1</td>\n",
       "      <td>0</td>\n",
       "      <td>363272</td>\n",
       "      <td>7.0000</td>\n",
       "      <td>NaN</td>\n",
       "      <td>...</td>\n",
       "      <td>1297.0</td>\n",
       "      <td>Wilkes, Mrs. Ellen</td>\n",
       "      <td>47.0</td>\n",
       "      <td>Penzance, Cornwall, England</td>\n",
       "      <td>Southampton</td>\n",
       "      <td>Akron, Ohio, US</td>\n",
       "      <td>16</td>\n",
       "      <td>NaN</td>\n",
       "      <td>3.0</td>\n",
       "      <td>NaN</td>\n",
       "    </tr>\n",
       "    <tr>\n",
       "      <th>2</th>\n",
       "      <td>894</td>\n",
       "      <td>2</td>\n",
       "      <td>Myles, Mr. Thomas Francis</td>\n",
       "      <td>male</td>\n",
       "      <td>62.0</td>\n",
       "      <td>0</td>\n",
       "      <td>0</td>\n",
       "      <td>240276</td>\n",
       "      <td>9.6875</td>\n",
       "      <td>NaN</td>\n",
       "      <td>...</td>\n",
       "      <td>518.0</td>\n",
       "      <td>Myles, Mr. Thomas Francis</td>\n",
       "      <td>63.0</td>\n",
       "      <td>Fermoy, Ireland[note 1]</td>\n",
       "      <td>Queenstown</td>\n",
       "      <td>Waban, Massachusetts, US</td>\n",
       "      <td>NaN</td>\n",
       "      <td>NaN</td>\n",
       "      <td>2.0</td>\n",
       "      <td>NaN</td>\n",
       "    </tr>\n",
       "    <tr>\n",
       "      <th>3</th>\n",
       "      <td>895</td>\n",
       "      <td>3</td>\n",
       "      <td>Wirz, Mr. Albert</td>\n",
       "      <td>male</td>\n",
       "      <td>27.0</td>\n",
       "      <td>0</td>\n",
       "      <td>0</td>\n",
       "      <td>315154</td>\n",
       "      <td>8.6625</td>\n",
       "      <td>NaN</td>\n",
       "      <td>...</td>\n",
       "      <td>1303.0</td>\n",
       "      <td>Wirz, Mr. Albert</td>\n",
       "      <td>27.0</td>\n",
       "      <td>Uster, Switzerland</td>\n",
       "      <td>Southampton</td>\n",
       "      <td>Beloit, Wisconsin, US</td>\n",
       "      <td>NaN</td>\n",
       "      <td>131MB</td>\n",
       "      <td>3.0</td>\n",
       "      <td>NaN</td>\n",
       "    </tr>\n",
       "    <tr>\n",
       "      <th>4</th>\n",
       "      <td>896</td>\n",
       "      <td>3</td>\n",
       "      <td>Hirvonen, Mrs. Alexander (Helga E Lindqvist)</td>\n",
       "      <td>female</td>\n",
       "      <td>22.0</td>\n",
       "      <td>1</td>\n",
       "      <td>1</td>\n",
       "      <td>3101298</td>\n",
       "      <td>12.2875</td>\n",
       "      <td>NaN</td>\n",
       "      <td>...</td>\n",
       "      <td>871.0</td>\n",
       "      <td>Hirvonen, Mrs. Helga Elisabeth (née Lindqvist)</td>\n",
       "      <td>22.0</td>\n",
       "      <td>Taalintehdas, Finland</td>\n",
       "      <td>Southampton</td>\n",
       "      <td>Monessen, Pennsylvania, US</td>\n",
       "      <td>15</td>\n",
       "      <td>NaN</td>\n",
       "      <td>3.0</td>\n",
       "      <td>NaN</td>\n",
       "    </tr>\n",
       "  </tbody>\n",
       "</table>\n",
       "<p>5 rows × 21 columns</p>\n",
       "</div>"
      ],
      "text/plain": [
       "   PassengerId  Pclass                                          Name     Sex  \\\n",
       "0          892       3                              Kelly, Mr. James    male   \n",
       "1          893       3              Wilkes, Mrs. James (Ellen Needs)  female   \n",
       "2          894       2                     Myles, Mr. Thomas Francis    male   \n",
       "3          895       3                              Wirz, Mr. Albert    male   \n",
       "4          896       3  Hirvonen, Mrs. Alexander (Helga E Lindqvist)  female   \n",
       "\n",
       "    Age  SibSp  Parch   Ticket     Fare Cabin  ...  WikiId  \\\n",
       "0  34.5      0      0   330911   7.8292   NaN  ...   928.0   \n",
       "1  47.0      1      0   363272   7.0000   NaN  ...  1297.0   \n",
       "2  62.0      0      0   240276   9.6875   NaN  ...   518.0   \n",
       "3  27.0      0      0   315154   8.6625   NaN  ...  1303.0   \n",
       "4  22.0      1      1  3101298  12.2875   NaN  ...   871.0   \n",
       "\n",
       "                                        Name_wiki Age_wiki  \\\n",
       "0                                Kelly, Mr. James     19.0   \n",
       "1                              Wilkes, Mrs. Ellen     47.0   \n",
       "2                       Myles, Mr. Thomas Francis     63.0   \n",
       "3                                Wirz, Mr. Albert     27.0   \n",
       "4  Hirvonen, Mrs. Helga Elisabeth (née Lindqvist)     22.0   \n",
       "\n",
       "                      Hometown      Boarded                 Destination  \\\n",
       "0             Unknown, Ireland  Southampton               New York City   \n",
       "1  Penzance, Cornwall, England  Southampton             Akron, Ohio, US   \n",
       "2      Fermoy, Ireland[note 1]   Queenstown    Waban, Massachusetts, US   \n",
       "3           Uster, Switzerland  Southampton       Beloit, Wisconsin, US   \n",
       "4        Taalintehdas, Finland  Southampton  Monessen, Pennsylvania, US   \n",
       "\n",
       "  Lifeboat   Body Class  Survived  \n",
       "0      NaN   70MB   3.0       NaN  \n",
       "1       16    NaN   3.0       NaN  \n",
       "2      NaN    NaN   2.0       NaN  \n",
       "3      NaN  131MB   3.0       NaN  \n",
       "4       15    NaN   3.0       NaN  \n",
       "\n",
       "[5 rows x 21 columns]"
      ]
     },
     "execution_count": 21,
     "metadata": {},
     "output_type": "execute_result"
    }
   ],
   "source": [
    "test.head()"
   ]
  },
  {
   "cell_type": "code",
   "execution_count": 22,
   "id": "139a149e-6981-49cc-af2e-51564a0d839d",
   "metadata": {},
   "outputs": [
    {
     "data": {
      "text/html": [
       "<div>\n",
       "<style scoped>\n",
       "    .dataframe tbody tr th:only-of-type {\n",
       "        vertical-align: middle;\n",
       "    }\n",
       "\n",
       "    .dataframe tbody tr th {\n",
       "        vertical-align: top;\n",
       "    }\n",
       "\n",
       "    .dataframe thead th {\n",
       "        text-align: right;\n",
       "    }\n",
       "</style>\n",
       "<table border=\"1\" class=\"dataframe\">\n",
       "  <thead>\n",
       "    <tr style=\"text-align: right;\">\n",
       "      <th></th>\n",
       "      <th>PassengerId</th>\n",
       "      <th>Pclass</th>\n",
       "      <th>Name</th>\n",
       "      <th>Sex</th>\n",
       "      <th>Age</th>\n",
       "      <th>SibSp</th>\n",
       "      <th>Parch</th>\n",
       "      <th>Ticket</th>\n",
       "      <th>Fare</th>\n",
       "      <th>Cabin</th>\n",
       "      <th>...</th>\n",
       "      <th>Name_wiki</th>\n",
       "      <th>Age_wiki</th>\n",
       "      <th>Hometown</th>\n",
       "      <th>Boarded</th>\n",
       "      <th>Destination</th>\n",
       "      <th>Lifeboat</th>\n",
       "      <th>Body</th>\n",
       "      <th>Class</th>\n",
       "      <th>Survived</th>\n",
       "      <th>cabin_new</th>\n",
       "    </tr>\n",
       "  </thead>\n",
       "  <tbody>\n",
       "    <tr>\n",
       "      <th>0</th>\n",
       "      <td>892</td>\n",
       "      <td>3</td>\n",
       "      <td>Kelly, Mr. James</td>\n",
       "      <td>male</td>\n",
       "      <td>34.5</td>\n",
       "      <td>0</td>\n",
       "      <td>0</td>\n",
       "      <td>330911</td>\n",
       "      <td>7.8292</td>\n",
       "      <td>NaN</td>\n",
       "      <td>...</td>\n",
       "      <td>Kelly, Mr. James</td>\n",
       "      <td>19.0</td>\n",
       "      <td>Unknown, Ireland</td>\n",
       "      <td>Southampton</td>\n",
       "      <td>New York City</td>\n",
       "      <td>NaN</td>\n",
       "      <td>70MB</td>\n",
       "      <td>3.0</td>\n",
       "      <td>NaN</td>\n",
       "      <td>0</td>\n",
       "    </tr>\n",
       "    <tr>\n",
       "      <th>1</th>\n",
       "      <td>893</td>\n",
       "      <td>3</td>\n",
       "      <td>Wilkes, Mrs. James (Ellen Needs)</td>\n",
       "      <td>female</td>\n",
       "      <td>47.0</td>\n",
       "      <td>1</td>\n",
       "      <td>0</td>\n",
       "      <td>363272</td>\n",
       "      <td>7.0000</td>\n",
       "      <td>NaN</td>\n",
       "      <td>...</td>\n",
       "      <td>Wilkes, Mrs. Ellen</td>\n",
       "      <td>47.0</td>\n",
       "      <td>Penzance, Cornwall, England</td>\n",
       "      <td>Southampton</td>\n",
       "      <td>Akron, Ohio, US</td>\n",
       "      <td>16</td>\n",
       "      <td>NaN</td>\n",
       "      <td>3.0</td>\n",
       "      <td>NaN</td>\n",
       "      <td>0</td>\n",
       "    </tr>\n",
       "  </tbody>\n",
       "</table>\n",
       "<p>2 rows × 22 columns</p>\n",
       "</div>"
      ],
      "text/plain": [
       "   PassengerId  Pclass                              Name     Sex   Age  SibSp  \\\n",
       "0          892       3                  Kelly, Mr. James    male  34.5      0   \n",
       "1          893       3  Wilkes, Mrs. James (Ellen Needs)  female  47.0      1   \n",
       "\n",
       "   Parch  Ticket    Fare Cabin  ...           Name_wiki  Age_wiki  \\\n",
       "0      0  330911  7.8292   NaN  ...    Kelly, Mr. James      19.0   \n",
       "1      0  363272  7.0000   NaN  ...  Wilkes, Mrs. Ellen      47.0   \n",
       "\n",
       "                      Hometown      Boarded      Destination Lifeboat  Body  \\\n",
       "0             Unknown, Ireland  Southampton    New York City      NaN  70MB   \n",
       "1  Penzance, Cornwall, England  Southampton  Akron, Ohio, US       16   NaN   \n",
       "\n",
       "  Class Survived  cabin_new  \n",
       "0   3.0      NaN          0  \n",
       "1   3.0      NaN          0  \n",
       "\n",
       "[2 rows x 22 columns]"
      ]
     },
     "execution_count": 22,
     "metadata": {},
     "output_type": "execute_result"
    }
   ],
   "source": [
    "test['cabin_new'] = test.Cabin.apply(lambda x: 0 if pd.isna(x) else 1)\n",
    "test.head(2)"
   ]
  },
  {
   "cell_type": "markdown",
   "id": "c399053f-4aac-4eb4-82ce-643cb80a5b11",
   "metadata": {},
   "source": [
    "#### 4.2 Age\n",
    "- The age column has many null values. Thus, we fill the null values with the median age for both the test and train sets."
   ]
  },
  {
   "cell_type": "code",
   "execution_count": 23,
   "id": "0185939c-3b70-47db-94e0-b087c50fb7a0",
   "metadata": {},
   "outputs": [
    {
     "data": {
      "text/plain": [
       "0      19.0\n",
       "1      47.0\n",
       "2      63.0\n",
       "3      27.0\n",
       "4      22.0\n",
       "       ... \n",
       "413    23.0\n",
       "414    39.0\n",
       "415    43.0\n",
       "416    34.0\n",
       "417     4.0\n",
       "Name: Age_wiki, Length: 418, dtype: float64"
      ]
     },
     "execution_count": 23,
     "metadata": {},
     "output_type": "execute_result"
    }
   ],
   "source": [
    "train.Age_wiki.isna().sum()\n",
    "train['Age_wiki'].fillna(train.Age_wiki.median())\n",
    "test['Age_wiki'].fillna(test.Age_wiki.median())"
   ]
  },
  {
   "cell_type": "code",
   "execution_count": 24,
   "id": "f995ad6e-5e44-4729-9e17-cfaea53f6ac2",
   "metadata": {},
   "outputs": [
    {
     "data": {
      "text/plain": [
       "0      3.0\n",
       "1      3.0\n",
       "2      2.0\n",
       "3      3.0\n",
       "4      3.0\n",
       "      ... \n",
       "413    3.0\n",
       "414    1.0\n",
       "415    3.0\n",
       "416    3.0\n",
       "417    3.0\n",
       "Name: Class, Length: 418, dtype: float64"
      ]
     },
     "execution_count": 24,
     "metadata": {},
     "output_type": "execute_result"
    }
   ],
   "source": [
    "train.Class.isna().sum()\n",
    "train['Class'].fillna(train.Class.median())\n",
    "test['Class'].fillna(test.Class.median())"
   ]
  },
  {
   "cell_type": "markdown",
   "id": "bddad04f-9edd-4dee-a085-b3da18ad057f",
   "metadata": {},
   "source": [
    "##### Let us check for null values for other columns. If there are any null values, we fill them with their median values or we drop those rows"
   ]
  },
  {
   "cell_type": "code",
   "execution_count": 25,
   "id": "8199c74c-f876-4e58-9a79-6a3ec1c74e14",
   "metadata": {},
   "outputs": [
    {
     "name": "stdout",
     "output_type": "stream",
     "text": [
      "2\n",
      "0\n"
     ]
    }
   ],
   "source": [
    "print(sum(train['Embarked'].isnull()))\n",
    "print(sum(test['Embarked'].isnull()))"
   ]
  },
  {
   "cell_type": "markdown",
   "id": "f8bbd636-2c2d-4d79-bf10-b742435465d0",
   "metadata": {},
   "source": [
    "### 5. Feature Selection\n",
    "##### 5.1  Dropping irrelevant columns from the training and test dataset."
   ]
  },
  {
   "cell_type": "code",
   "execution_count": 26,
   "id": "2edfc0a8-9cbd-41b6-8f39-c370b5165636",
   "metadata": {
    "scrolled": true
   },
   "outputs": [
    {
     "name": "stdout",
     "output_type": "stream",
     "text": [
      "<class 'pandas.core.frame.DataFrame'>\n",
      "RangeIndex: 891 entries, 0 to 890\n",
      "Data columns (total 22 columns):\n",
      " #   Column       Non-Null Count  Dtype  \n",
      "---  ------       --------------  -----  \n",
      " 0   PassengerId  891 non-null    int64  \n",
      " 1   Survived     891 non-null    float64\n",
      " 2   Pclass       891 non-null    int64  \n",
      " 3   Name         891 non-null    object \n",
      " 4   Sex          891 non-null    object \n",
      " 5   Age          714 non-null    float64\n",
      " 6   SibSp        891 non-null    int64  \n",
      " 7   Parch        891 non-null    int64  \n",
      " 8   Ticket       891 non-null    object \n",
      " 9   Fare         891 non-null    float64\n",
      " 10  Cabin        204 non-null    object \n",
      " 11  Embarked     889 non-null    object \n",
      " 12  WikiId       889 non-null    float64\n",
      " 13  Name_wiki    889 non-null    object \n",
      " 14  Age_wiki     887 non-null    float64\n",
      " 15  Hometown     889 non-null    object \n",
      " 16  Boarded      889 non-null    object \n",
      " 17  Destination  889 non-null    object \n",
      " 18  Lifeboat     345 non-null    object \n",
      " 19  Body         87 non-null     object \n",
      " 20  Class        889 non-null    float64\n",
      " 21  cabin_new    891 non-null    int64  \n",
      "dtypes: float64(6), int64(5), object(11)\n",
      "memory usage: 153.3+ KB\n"
     ]
    }
   ],
   "source": [
    "train.info()\n",
    "train.drop(['Name_wiki','Name','WikiId','Ticket'], axis=1, inplace=True)"
   ]
  },
  {
   "cell_type": "code",
   "execution_count": 27,
   "id": "ca7a6be1-42a3-41f4-a05a-39611cc1ba2e",
   "metadata": {
    "scrolled": true
   },
   "outputs": [
    {
     "name": "stdout",
     "output_type": "stream",
     "text": [
      "<class 'pandas.core.frame.DataFrame'>\n",
      "RangeIndex: 418 entries, 0 to 417\n",
      "Data columns (total 22 columns):\n",
      " #   Column       Non-Null Count  Dtype  \n",
      "---  ------       --------------  -----  \n",
      " 0   PassengerId  418 non-null    int64  \n",
      " 1   Pclass       418 non-null    int64  \n",
      " 2   Name         418 non-null    object \n",
      " 3   Sex          418 non-null    object \n",
      " 4   Age          332 non-null    float64\n",
      " 5   SibSp        418 non-null    int64  \n",
      " 6   Parch        418 non-null    int64  \n",
      " 7   Ticket       418 non-null    object \n",
      " 8   Fare         417 non-null    float64\n",
      " 9   Cabin        91 non-null     object \n",
      " 10  Embarked     418 non-null    object \n",
      " 11  WikiId       415 non-null    float64\n",
      " 12  Name_wiki    415 non-null    object \n",
      " 13  Age_wiki     415 non-null    float64\n",
      " 14  Hometown     415 non-null    object \n",
      " 15  Boarded      415 non-null    object \n",
      " 16  Destination  415 non-null    object \n",
      " 17  Lifeboat     157 non-null    object \n",
      " 18  Body         43 non-null     object \n",
      " 19  Class        415 non-null    float64\n",
      " 20  Survived     0 non-null      float64\n",
      " 21  cabin_new    418 non-null    int64  \n",
      "dtypes: float64(6), int64(5), object(11)\n",
      "memory usage: 72.0+ KB\n"
     ]
    }
   ],
   "source": [
    "test.info()\n",
    "test.drop(['Name_wiki','Name','WikiId','Ticket'], axis=1, inplace=True)"
   ]
  },
  {
   "cell_type": "markdown",
   "id": "072910bf-655a-4af9-b2ee-2efb494aa00e",
   "metadata": {},
   "source": [
    "##### 5.2 Selecting relevant features and separating target variable"
   ]
  },
  {
   "cell_type": "code",
   "execution_count": 28,
   "id": "ac43197f-808a-431f-8abf-20c89fe21497",
   "metadata": {},
   "outputs": [],
   "source": [
    "features = ['Sex','Age_wiki','Class','cabin_new','Embarked','Parch','SibSp']\n",
    "y_train = train['Survived']\n",
    "\n",
    "train['Age_wiki'] = train['Age_wiki'].fillna(train['Age_wiki'].median())\n",
    "train['Class'] = train['Class'].fillna(train['Class'].median())\n",
    "\n",
    "test['Age_wiki'] = test['Age_wiki'].fillna(test['Age_wiki'].median())\n",
    "test['Class'] = test['Class'].fillna(test['Class'].median())\n"
   ]
  },
  {
   "cell_type": "markdown",
   "id": "fd3b86a6-9fc5-49e4-8571-c5500471c639",
   "metadata": {},
   "source": [
    "##### 5.3 Creating dummy variables for categorical features"
   ]
  },
  {
   "cell_type": "code",
   "execution_count": 29,
   "id": "2123c9ed-8b6a-42b7-9673-96bdb41a31fc",
   "metadata": {},
   "outputs": [],
   "source": [
    "X_train = pd.get_dummies(train[features])\n",
    "X_test = pd.get_dummies(test[features])"
   ]
  },
  {
   "cell_type": "code",
   "execution_count": 30,
   "id": "c3c2f661-6f53-4b6d-8951-47f14b56c140",
   "metadata": {
    "scrolled": true
   },
   "outputs": [
    {
     "data": {
      "text/plain": [
       "(     Age_wiki  Class  cabin_new  Parch  SibSp  Sex_female  Sex_male  \\\n",
       " 0        22.0    3.0          0      0      1       False      True   \n",
       " 1        35.0    1.0          1      0      1        True     False   \n",
       " 2        26.0    3.0          0      0      0        True     False   \n",
       " 3        35.0    1.0          1      0      1        True     False   \n",
       " 4        35.0    3.0          0      0      0       False      True   \n",
       " ..        ...    ...        ...    ...    ...         ...       ...   \n",
       " 886      27.0    2.0          0      0      0       False      True   \n",
       " 887      19.0    1.0          1      0      0        True     False   \n",
       " 888       7.0    3.0          0      2      1        True     False   \n",
       " 889      26.0    1.0          1      0      0       False      True   \n",
       " 890      43.0    3.0          0      0      0       False      True   \n",
       " \n",
       "      Embarked_C  Embarked_Q  Embarked_S  \n",
       " 0         False       False        True  \n",
       " 1          True       False       False  \n",
       " 2         False       False        True  \n",
       " 3         False       False        True  \n",
       " 4         False       False        True  \n",
       " ..          ...         ...         ...  \n",
       " 886       False       False        True  \n",
       " 887       False       False        True  \n",
       " 888       False       False        True  \n",
       " 889        True       False       False  \n",
       " 890       False        True       False  \n",
       " \n",
       " [891 rows x 10 columns],\n",
       "      Age_wiki  Class  cabin_new  Parch  SibSp  Sex_female  Sex_male  \\\n",
       " 0        19.0    3.0          0      0      0       False      True   \n",
       " 1        47.0    3.0          0      0      1        True     False   \n",
       " 2        63.0    2.0          0      0      0       False      True   \n",
       " 3        27.0    3.0          0      0      0       False      True   \n",
       " 4        22.0    3.0          0      1      1        True     False   \n",
       " ..        ...    ...        ...    ...    ...         ...       ...   \n",
       " 413      23.0    3.0          0      0      0       False      True   \n",
       " 414      39.0    1.0          1      0      0        True     False   \n",
       " 415      43.0    3.0          0      0      0       False      True   \n",
       " 416      34.0    3.0          0      0      0       False      True   \n",
       " 417       4.0    3.0          0      1      1       False      True   \n",
       " \n",
       "      Embarked_C  Embarked_Q  Embarked_S  \n",
       " 0         False        True       False  \n",
       " 1         False       False        True  \n",
       " 2         False        True       False  \n",
       " 3         False       False        True  \n",
       " 4         False       False        True  \n",
       " ..          ...         ...         ...  \n",
       " 413       False       False        True  \n",
       " 414        True       False       False  \n",
       " 415       False       False        True  \n",
       " 416       False       False        True  \n",
       " 417        True       False       False  \n",
       " \n",
       " [418 rows x 10 columns])"
      ]
     },
     "execution_count": 30,
     "metadata": {},
     "output_type": "execute_result"
    }
   ],
   "source": [
    "X_train, X_test"
   ]
  },
  {
   "cell_type": "markdown",
   "id": "abf3a476-73fe-4af0-b4e6-6fcf2de469cc",
   "metadata": {},
   "source": [
    "##### 5.4 Visualizing correlation among features using a heatmap\n"
   ]
  },
  {
   "cell_type": "code",
   "execution_count": 31,
   "id": "e8c699c7-082a-43a4-ac85-41b1769827f1",
   "metadata": {},
   "outputs": [
    {
     "data": {
      "text/plain": [
       "<Axes: >"
      ]
     },
     "execution_count": 31,
     "metadata": {},
     "output_type": "execute_result"
    },
    {
     "data": {
      "image/png": "[encoded data removed]",
      "text/plain": [
       "<Figure size 1000x500 with 2 Axes>"
      ]
     },
     "metadata": {},
     "output_type": "display_data"
    }
   ],
   "source": [
    "plt.figure(figsize=(10,5))\n",
    "sns.heatmap(X_train.corr(),cmap='viridis',annot=True)"
   ]
  },
  {
   "cell_type": "code",
   "execution_count": 32,
   "id": "a6ed577e-e66f-45f0-9a0a-a9863c25d179",
   "metadata": {},
   "outputs": [
    {
     "data": {
      "text/plain": [
       "0      0.0\n",
       "1      1.0\n",
       "2      1.0\n",
       "3      1.0\n",
       "4      0.0\n",
       "      ... \n",
       "886    0.0\n",
       "887    1.0\n",
       "888    0.0\n",
       "889    1.0\n",
       "890    0.0\n",
       "Name: Survived, Length: 891, dtype: float64"
      ]
     },
     "execution_count": 32,
     "metadata": {},
     "output_type": "execute_result"
    }
   ],
   "source": [
    "y_train"
   ]
  },
  {
   "cell_type": "markdown",
   "id": "2fe75842-0304-4bac-9f35-6536f9fa2ada",
   "metadata": {},
   "source": [
    "### 6. Model Building using Scikit-Learn\n",
    "In this section, various classifiers are imported from scikit-learn to build models:\n",
    "- Logistic Regression for linear classification\n",
    "- Decision Tree for non-linear classification \n",
    "- Random Forest for ensemble-based classification\n",
    "\n",
    "**Cross-validation score**\n",
    "- Additionally, the cross_val_score function from model_selection module is imported, which is used for evaluating models through cross-validation techniques.\n",
    "- Cross-validation score helps in estimating the performance of the models by splitting the dataset into multiple subsets for training and testing.ing.ion"
   ]
  },
  {
   "cell_type": "code",
   "execution_count": 33,
   "id": "1c7c56dd-dfc1-4f0c-959c-d7ba22f3bc38",
   "metadata": {},
   "outputs": [],
   "source": [
    "from sklearn.linear_model    import LogisticRegression\n",
    "from sklearn.tree            import DecisionTreeClassifier\n",
    "from sklearn.ensemble        import RandomForestClassifier, HistGradientBoostingClassifier\n",
    "from sklearn.metrics import make_scorer,f1_score,precision_score,recall_score,accuracy_score, confusion_matrix\n",
    "from sklearn.model_selection import cross_val_score, cross_validate"
   ]
  },
  {
   "cell_type": "markdown",
   "id": "8b7cc5fd-e0c3-42a1-89ec-fa195af88bc8",
   "metadata": {},
   "source": [
    "#### 6.1 Logistic Regression Model"
   ]
  },
  {
   "cell_type": "code",
   "execution_count": 34,
   "id": "7106d305-b64b-4479-b50a-931eaccc4128",
   "metadata": {},
   "outputs": [],
   "source": [
    "model_lr = LogisticRegression(max_iter=2000)  # Instantiate Logistic Regression with a maximum iteration limit of 2000 to handle convergence.\n",
    "model_lr.fit(X_train,y_train)                 # Fit the model using the training data (X_train) and corresponding target labels (y_train).\n",
    "pred_lr = model_lr.predict(X_test)            # Predict the target labels for the test data (X_test)\n",
    "y_pred_lr = np.array(pred_lr)                 # Convert the predicted target labels to a NumPy array for further analysis"
   ]
  },
  {
   "cell_type": "code",
   "execution_count": 35,
   "id": "e70e38b1-6d39-48b3-8463-a852ad8f69fc",
   "metadata": {},
   "outputs": [
    {
     "name": "stdout",
     "output_type": "stream",
     "text": [
      "Logistic Regression\n",
      "Survived: \t157\n",
      "Not-Survived:   261\n",
      "\n"
     ]
    }
   ],
   "source": [
    "# Counting predicted labels from Logistic Regression predictions\n",
    "y_0_lr = np.count_nonzero(y_pred_lr == 0)\n",
    "y_1_lr = np.count_nonzero(y_pred_lr == 1)\n",
    "print(f\"Logistic Regression\\nSurvived: \\t{y_1_lr}\\nNot-Survived:   {y_0_lr}\\n\")"
   ]
  },
  {
   "cell_type": "code",
   "execution_count": 36,
   "id": "c1d90ed9-5443-45c1-8611-04ce6764b18a",
   "metadata": {},
   "outputs": [
    {
     "name": "stdout",
     "output_type": "stream",
     "text": [
      "Logistic Regression Accuracy :  0.7968489109283787\n"
     ]
    }
   ],
   "source": [
    "# Evaluating Logistic Regression model accuracy using cross-validation\n",
    "score_lr = cross_val_score(model_lr,X_train,y_train, cv=5, scoring='accuracy')\n",
    "\n",
    "# Displaying the mean accuracy of Logistic Regression model\n",
    "print(\"Logistic Regression Accuracy : \",score_lr.mean())"
   ]
  },
  {
   "cell_type": "markdown",
   "id": "a7518e5d-fcbe-41f8-b859-356b36d1e68b",
   "metadata": {},
   "source": [
    "#### 6.2 Decision Tree Model"
   ]
  },
  {
   "cell_type": "code",
   "execution_count": 37,
   "id": "a646b88e-0c91-4dba-a151-41b6c9caf68d",
   "metadata": {},
   "outputs": [],
   "source": [
    "model_dt = DecisionTreeClassifier()\n",
    "model_dt.fit(X_train,y_train)\n",
    "pred_dt = model_dt.predict(X_test)\n",
    "y_pred_dt = np.array(pred_dt)"
   ]
  },
  {
   "cell_type": "code",
   "execution_count": 38,
   "id": "c889de44-33f5-406e-8c1a-25daeefcf144",
   "metadata": {},
   "outputs": [
    {
     "name": "stdout",
     "output_type": "stream",
     "text": [
      "Decision Tree Classifier:\n",
      "Survived:\t153\n",
      "Not-Survived:   265\n"
     ]
    }
   ],
   "source": [
    "y_0_dt = np.count_nonzero(y_pred_dt == 0)\n",
    "y_1_dt = np.count_nonzero(y_pred_dt == 1)\n",
    "print(f\"Decision Tree Classifier:\\nSurvived:\\t{y_1_dt}\\nNot-Survived:   {y_0_dt}\")"
   ]
  },
  {
   "cell_type": "code",
   "execution_count": 39,
   "id": "4f0a0902-5ee1-440c-8532-6817f73233b2",
   "metadata": {},
   "outputs": [
    {
     "name": "stdout",
     "output_type": "stream",
     "text": [
      "Decision Tree Classifier Accuracy :  0.7766681313163015\n"
     ]
    }
   ],
   "source": [
    "score_dt = cross_val_score(model_dt,X_train,y_train, cv=5, scoring='accuracy')\n",
    "print(\"Decision Tree Classifier Accuracy : \",score_dt.mean())"
   ]
  },
  {
   "cell_type": "markdown",
   "id": "26f76450-4221-4f50-a9b6-ada895b669b7",
   "metadata": {},
   "source": [
    "#### 6.3 Random Forest Model"
   ]
  },
  {
   "cell_type": "code",
   "execution_count": 40,
   "id": "36db2e1b-da5b-463e-a26e-a9dcbc85bcb9",
   "metadata": {},
   "outputs": [],
   "source": [
    "model_rf = RandomForestClassifier()\n",
    "model_rf.fit(X_train,y_train)\n",
    "pred_rf = model_rf.predict(X_test)\n",
    "y_pred_rf = np.array(pred_rf)"
   ]
  },
  {
   "cell_type": "code",
   "execution_count": 41,
   "id": "3f48c762-aeb6-4aaa-99da-852fc7d79a46",
   "metadata": {},
   "outputs": [
    {
     "name": "stdout",
     "output_type": "stream",
     "text": [
      "Random Forest Classifier:\n",
      "Survived:\t171\n",
      "Not-Survived:   247\n"
     ]
    }
   ],
   "source": [
    "y_0_rf = np.count_nonzero(y_pred_rf == 0)\n",
    "y_1_rf = np.count_nonzero(y_pred_rf == 1)\n",
    "print(f\"Random Forest Classifier:\\nSurvived:\\t{y_1_rf}\\nNot-Survived:   {y_0_rf}\")"
   ]
  },
  {
   "cell_type": "code",
   "execution_count": 42,
   "id": "cebbb99f-a152-4a2b-afb4-8b6508672433",
   "metadata": {},
   "outputs": [
    {
     "name": "stdout",
     "output_type": "stream",
     "text": [
      "Random Forest Classifier Accuracy :  0.784545853995355\n"
     ]
    }
   ],
   "source": [
    "score_rf = cross_val_score(model_rf,X_train,y_train, cv=5, scoring='accuracy')\n",
    "print(\"Random Forest Classifier Accuracy : \",score_rf.mean())"
   ]
  },
  {
   "cell_type": "markdown",
   "id": "640b70e6-8b3d-49a2-8ed5-09fabbcb6da9",
   "metadata": {},
   "source": [
    "#### 6.4 Hist Gradient Boosting Model"
   ]
  },
  {
   "cell_type": "code",
   "execution_count": 43,
   "id": "5b21caf0-bb19-4877-aec1-0f11b2f4b924",
   "metadata": {},
   "outputs": [],
   "source": [
    "model_hg = RandomForestClassifier()\n",
    "model_hg.fit(X_train,y_train)\n",
    "pred_hg = model_hg.predict(X_test)\n",
    "y_pred_hg = np.array(pred_hg)"
   ]
  },
  {
   "cell_type": "code",
   "execution_count": 44,
   "id": "737b2510-f7e7-4562-80c8-2a02958bf121",
   "metadata": {},
   "outputs": [
    {
     "name": "stdout",
     "output_type": "stream",
     "text": [
      "Hist Gradient Boosting Classifier:\n",
      "Survived:\t159\n",
      "Not-Survived:   259\n"
     ]
    }
   ],
   "source": [
    "y_0_hg = np.count_nonzero(y_pred_hg == 0)\n",
    "y_1_hg = np.count_nonzero(y_pred_hg == 1)\n",
    "print(f\"Hist Gradient Boosting Classifier:\\nSurvived:\\t{y_1_hg}\\nNot-Survived:   {y_0_hg}\")"
   ]
  },
  {
   "cell_type": "code",
   "execution_count": 45,
   "id": "cfb129e8-7b25-42a7-8443-ad85c28cb1c0",
   "metadata": {},
   "outputs": [
    {
     "name": "stdout",
     "output_type": "stream",
     "text": [
      "Hist Gradient Boosting Classifier Accuracy :  0.7845709622748102\n"
     ]
    }
   ],
   "source": [
    "score_hg = cross_val_score(model_hg,X_train,y_train, cv=5, scoring='accuracy')\n",
    "print(\"Hist Gradient Boosting Classifier Accuracy : \",score_hg.mean())"
   ]
  },
  {
   "cell_type": "markdown",
   "id": "d12133c5-6848-4140-a7f3-9197a11d6f36",
   "metadata": {},
   "source": [
    "#### 6.2 Performance Metrics of different models"
   ]
  },
  {
   "cell_type": "code",
   "execution_count": 46,
   "id": "7b86598a-415a-4fd4-8708-7fcf45bad0ea",
   "metadata": {},
   "outputs": [],
   "source": [
    "def mean_scores(model,X,y,cv=5):\n",
    "    scoring = {'f1':make_scorer(f1_score),\n",
    "              'precision':make_scorer(precision_score),\n",
    "              'recall':make_scorer(recall_score),\n",
    "              'accuracy':make_scorer(accuracy_score)}\n",
    "    \n",
    "    scores = cross_validate(model, X_train, y_train, cv=5,scoring=scoring)\n",
    "\n",
    "    mean_scores = {'Accuracy': scores['test_accuracy'].mean(),\n",
    "                   'F1 Score': scores['test_f1'].mean(),\n",
    "                   'Precision': scores['test_precision'].mean(), \n",
    "                   'Recall': scores['test_recall'].mean()\n",
    "                  }\n",
    "    for metric,value in mean_scores.items():\n",
    "        print(f\"{metric}:{value}\\n\")\n",
    "\n",
    "    return mean_scores"
   ]
  },
  {
   "cell_type": "markdown",
   "id": "781ae921-c85e-481d-9a53-5dc218f2b136",
   "metadata": {},
   "source": [
    "##### 6.2.1 Performance Metrics for Logistic Regression Model."
   ]
  },
  {
   "cell_type": "code",
   "execution_count": 47,
   "id": "0427de0d-c443-4717-9938-777d3faffaa9",
   "metadata": {},
   "outputs": [
    {
     "name": "stdout",
     "output_type": "stream",
     "text": [
      "Performance Metrics for Logistic Regression Model.\n",
      "Accuracy:0.7968489109283787\n",
      "\n",
      "F1 Score:0.7265840954040907\n",
      "\n",
      "Precision:0.7521284271284271\n",
      "\n",
      "Recall:0.7045609548167093\n",
      "\n"
     ]
    }
   ],
   "source": [
    "print(\"Performance Metrics for Logistic Regression Model.\")\n",
    "mean_scores_lr = mean_scores(model_lr,X_train,y_train)"
   ]
  },
  {
   "cell_type": "markdown",
   "id": "3c606b0d-145a-45c4-b639-c15f1299cb19",
   "metadata": {},
   "source": [
    "##### 6.2.2 Performance Metrics for Decision Tree Classification Model."
   ]
  },
  {
   "cell_type": "code",
   "execution_count": 48,
   "id": "1f9a6765-5c94-4fd3-887d-f73236ed6da1",
   "metadata": {},
   "outputs": [
    {
     "name": "stdout",
     "output_type": "stream",
     "text": [
      "Performance Metrics for Decision Tree Classification Model.\n",
      "Accuracy:0.780051471972883\n",
      "\n",
      "F1 Score:0.7084179325363082\n",
      "\n",
      "Precision:0.7237672380202538\n",
      "\n",
      "Recall:0.7015771526001705\n",
      "\n"
     ]
    }
   ],
   "source": [
    "print(\"Performance Metrics for Decision Tree Classification Model.\")\n",
    "mean_scores_dt = mean_scores(model_dt,X_train,y_train)"
   ]
  },
  {
   "cell_type": "markdown",
   "id": "1787d32a-f33e-47b7-a36f-ffbb5d75b532",
   "metadata": {},
   "source": [
    "##### 6.2.3 Performance Metrics for Random Forest Classification Model."
   ]
  },
  {
   "cell_type": "code",
   "execution_count": 49,
   "id": "50f35546-44bb-4852-8fa7-fb24dd7cd2b4",
   "metadata": {},
   "outputs": [
    {
     "name": "stdout",
     "output_type": "stream",
     "text": [
      "Performance Metrics for Random Forest CLassifier Model.\n",
      "Accuracy:0.7812001757579562\n",
      "\n",
      "F1 Score:0.7139647013359299\n",
      "\n",
      "Precision:0.7168502196126119\n",
      "\n",
      "Recall:0.7135123614663256\n",
      "\n"
     ]
    }
   ],
   "source": [
    "print(\"Performance Metrics for Random Forest CLassifier Model.\")\n",
    "mean_scores_rf = mean_scores(model_rf,X_train,y_train)"
   ]
  },
  {
   "cell_type": "markdown",
   "id": "74bbcbc8-66f0-4ad2-acf2-48b32d6fd675",
   "metadata": {},
   "source": [
    "##### 6.2.4 Performance Metrics for Hist Gradient Boosting Classification Model."
   ]
  },
  {
   "cell_type": "code",
   "execution_count": 50,
   "id": "9e6de3dc-2bee-4171-948b-f8bca9e49cbb",
   "metadata": {},
   "outputs": [
    {
     "name": "stdout",
     "output_type": "stream",
     "text": [
      "Performance Metrics for Hist Gradient Boosting Classifier Model.\n",
      "Accuracy:0.7856820036407005\n",
      "\n",
      "F1 Score:0.7191942656796471\n",
      "\n",
      "Precision:0.7251585216407656\n",
      "\n",
      "Recall:0.7164535379369138\n",
      "\n"
     ]
    }
   ],
   "source": [
    "print(\"Performance Metrics for Hist Gradient Boosting Classifier Model.\")\n",
    "mean_scores_hg = mean_scores(model_hg,X_train,y_train)"
   ]
  },
  {
   "cell_type": "markdown",
   "id": "753e841f-e485-4dc6-8885-570857fa12b5",
   "metadata": {},
   "source": [
    "### 7. Comparison of Accuracies for Different Models"
   ]
  },
  {
   "cell_type": "code",
   "execution_count": 51,
   "id": "9a9f99e8-8592-4ba5-9ee4-71ae580f8e6d",
   "metadata": {},
   "outputs": [
    {
     "name": "stdout",
     "output_type": "stream",
     "text": [
      "Logistic Regression Accuracy : \t\t\t\t 79.6849%\n",
      "Decision Tree Classifier Accuracy : \t\t\t 77.6668%\n",
      "Random Forest Classifier Accuracy : \t\t\t 78.4546%\n",
      "Hist Gradient Boosting Classifier Accuracy : \t\t 78.4571%\n"
     ]
    }
   ],
   "source": [
    "print(\"Logistic Regression Accuracy : \\t\\t\\t\\t {:.4f}%\".format(score_lr.mean() * 100))\n",
    "print(\"Decision Tree Classifier Accuracy : \\t\\t\\t {:.4f}%\".format(score_dt.mean() * 100))\n",
    "print(\"Random Forest Classifier Accuracy : \\t\\t\\t {:.4f}%\".format(score_rf.mean() * 100))\n",
    "print(\"Hist Gradient Boosting Classifier Accuracy : \\t\\t {:.4f}%\".format(score_hg.mean() * 100))"
   ]
  },
  {
   "cell_type": "code",
   "execution_count": 52,
   "id": "47b6bfa3-1fd9-4ae9-965a-d5e48f21a038",
   "metadata": {},
   "outputs": [],
   "source": [
    "import matplotlib.pyplot as plt\n",
    "import numpy as np\n",
    "\n",
    "# Accuracies for different models\n",
    "accuracies = {\n",
    "    'Logistic Regression': mean_scores_lr['Accuracy'],\n",
    "    'Decision Tree': mean_scores_dt['Accuracy'],\n",
    "    'Random Forest': mean_scores_rf['Accuracy'],\n",
    "    'Hist Gradient Boosting': mean_scores_hg['Accuracy']\n",
    "}\n",
    "\n",
    "# Extracting model names and accuracies\n",
    "model_names = list(accuracies.keys())\n",
    "model_accuracies = list(accuracies.values())"
   ]
  },
  {
   "cell_type": "code",
   "execution_count": 53,
   "id": "3eadea3d-1e8f-4f5e-98ca-0a8014a14835",
   "metadata": {},
   "outputs": [
    {
     "data": {
      "image/png": "[encoded data removed]",
      "text/plain": [
       "<Figure size 800x500 with 1 Axes>"
      ]
     },
     "metadata": {},
     "output_type": "display_data"
    }
   ],
   "source": [
    "# Plotting the data using line plot\n",
    "plt.figure(figsize=(8, 5))\n",
    "plt.plot(model_names, model_accuracies, marker='o', linestyle='-', color='blue')\n",
    "for i, acc in enumerate(model_accuracies):\n",
    "    plt.text(i, acc + 0.001, f'{acc:.4f}', ha='left', va='bottom')\n",
    "    \n",
    "plt.title('Comparison of Accuracies for Different Models (Line Plot)')\n",
    "plt.xlabel('Models')\n",
    "plt.ylabel('Accuracy')\n",
    "plt.ylim(0.76,0.82)\n",
    "plt.xticks(rotation=45)\n",
    "# plt.grid(True)\n",
    "plt.tight_layout()\n",
    "plt.show()"
   ]
  },
  {
   "cell_type": "code",
   "execution_count": 54,
   "id": "32926cfa-2b1f-49c7-ae92-2569f700bae0",
   "metadata": {},
   "outputs": [
    {
     "data": {
      "image/png": "[encoded data removed]",
      "text/plain": [
       "<Figure size 800x500 with 1 Axes>"
      ]
     },
     "metadata": {},
     "output_type": "display_data"
    }
   ],
   "source": [
    "# Plotting the data using bar plot\n",
    "plt.figure(figsize=(8, 5))\n",
    "colors = ['lightgreen', 'yellow', 'pink', 'orange']\n",
    "plt.bar(model_names, model_accuracies, color=colors)\n",
    "for i, acc in enumerate(model_accuracies):\n",
    "    plt.text(i, acc + 0.001, f'{acc:.4f}', ha='center', va='bottom')\n",
    "    \n",
    "plt.title('Comparison of Accuracies for Different Models (Bar Plot)')\n",
    "plt.xlabel('Models')\n",
    "plt.ylabel('Accuracy')\n",
    "plt.ylim(0.76,0.82)\n",
    "plt.xticks(rotation=45)\n",
    "plt.tight_layout()\n",
    "plt.show()"
   ]
  },
  {
   "cell_type": "markdown",
   "id": "e1e19c07-f02e-4183-aa74-c8fb14440cd3",
   "metadata": {},
   "source": [
    "Creating DataFrames for predicted survival outcomes of passengers by different models.  Each DataFrame contains PassengerID and the corresponding predicted survival outcomes\n"
   ]
  },
  {
   "cell_type": "code",
   "execution_count": 55,
   "id": "45df86b6-6bfd-4f2c-99c6-bafd5cf0ad54",
   "metadata": {
    "scrolled": true
   },
   "outputs": [],
   "source": [
    "passengerID = test.PassengerId\n",
    "\n",
    "df_lr = pd.DataFrame({\"PassengerID\":passengerID, \"Survived\": y_pred_lr})\n",
    "df_dt = pd.DataFrame({\"PassengerID\":passengerID, \"Survived\": y_pred_dt}) \n",
    "df_rf = pd.DataFrame({\"PassengerID\":passengerID, \"Survived\": y_pred_rf})\n",
    "df_hg = pd.DataFrame({\"PassengerID\":passengerID, \"Survived\": y_pred_hg})\n",
    "\n",
    "# print(df_lr,df_dt,df_rf,df_hg)"
   ]
  },
  {
   "cell_type": "markdown",
   "id": "4178bfa2-c52b-44fc-82a0-60409d4c0a24",
   "metadata": {},
   "source": [
    "\n",
    "### 8. Conclusion:\n",
    "\n",
    "<details>\n",
    "<summary> Explanation for the initial accuracy scores. </summary>\n",
    "<p>\n",
    "The provided accuracy scores reflect the performance of multiple classifiers (Logistic Regression, Decision Tree Classifier, Random Forest Classifier, and Hist Gradient Boosting Classifier) in a specific task, where accuracy measures the ratio of correctly predicted instances to the total instances in the dataset, represented as a percentage.\n",
    "\n",
    "\n",
    "\n",
    "- Logistic Regression Accuracy: 79.6849%\n",
    "\n",
    "- Decision Tree Classifier Accuracy: 78.2292%\n",
    "\n",
    "- Random Forest Classifier Accuracy: 78.3441%\n",
    "\n",
    "- Hist Gradient Boosting Classifier Accuracy: 77.5576%\n",
    "\n",
    "\n",
    "\n",
    "These accuracy scores denote the effectiveness of each model in making accurate predictions. A higher accuracy score signifies a better ability of the model to correctly classify instances within the dataset.\n",
    "</p>\n",
    "</details>\n",
    "\n",
    "<details> \n",
    "\n",
    "  <summary> Why Logistic Regression outperformed the other classifiers? </summary>\n",
    "\n",
    "  <p>\n",
    "\n",
    "Logistic Regression, being a linear model, might have performed better in this specific scenario due to several factors: linearity in data, less prone to overfitting, and better handli of irrelevant features. \n",
    "\n",
    "  </p>\n",
    "\n",
    "</details>\n",
    "\n",
    "\n",
    "\n",
    "<details> \n",
    "\n",
    "  <summary> Breakdown of its key performance metrics. </summary>\n",
    "\n",
    "  <p> \n",
    "- Accuracy: 0.7968\n",
    "\n",
    "This metric denotes the proportion of correct predictions made by the model, amounting to approximately 79.68% of accurate predictions.\n",
    "\n",
    "\n",
    "\n",
    "- F1 Score: 0.7266\n",
    "\n",
    "The F1 score harmonizes precision and recall, offering a balanced view of the model's performance. With an F1 score around 0.73, this model demonstrates a reasonably balanced tradeoff between precision and recall.\n",
    "\n",
    "\n",
    "\n",
    "- Precision: 0.7521\n",
    "\n",
    "Precision measures the accuracy of positive predictions, revealing the model's ability to avoid false positives. At about 75.21%, this Logistic Regression model showcases a favorable precision rate.\n",
    "\n",
    "\n",
    "\n",
    "- Recall: 0.7046\n",
    "\n",
    "Recall (or sensitivity) highlights the model's capability to identify relevant instances among actual positives. Achieving a recall rate of approximately 70.46%, this model demotrates an ability to capture relevant instances effectively.\n",
    "  </p>\n",
    "\n",
    "</details>"
   ]
  },
  {
   "cell_type": "markdown",
   "id": "0c4d05e9-5ed4-4c91-b464-b505336605e9",
   "metadata": {},
   "source": [
    "In summary, the Logistic Regression model exhibits the highest accuracy and maintains a reasonably balanced F1 score, precision, and recall, solidifying its position as the most effective classifier among the considered models."
   ]
  }
 ],
 "metadata": {
  "kernelspec": {
   "display_name": "Python 3 (ipykernel)",
   "language": "python",
   "name": "python3"
  },
  "language_info": {
   "codemirror_mode": {
    "name": "ipython",
    "version": 3
   },
   "file_extension": ".py",
   "mimetype": "text/x-python",
   "name": "python",
   "nbconvert_exporter": "python",
   "pygments_lexer": "ipython3",
   "version": "3.12.1"
  }
 },
 "nbformat": 4,
 "nbformat_minor": 5
}
